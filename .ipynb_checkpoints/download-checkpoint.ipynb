{
 "cells": [
  {
   "cell_type": "code",
   "execution_count": 1,
   "metadata": {},
   "outputs": [],
   "source": [
    "import os\n",
    "import numpy as np\n",
    "import requests\n",
    "import argparse\n",
    "import json\n",
    "import time\n",
    "import logging\n",
    "import csv\n",
    "\n",
    "from multiprocessing import Pool, Process, Value, Lock\n",
    "\n",
    "from requests.exceptions import ConnectionError, ReadTimeout, TooManyRedirects, MissingSchema, InvalidURL"
   ]
  },
  {
   "cell_type": "code",
   "execution_count": 2,
   "metadata": {},
   "outputs": [],
   "source": [
    "# args\n",
    "data_root = './data'\n",
    "user_class_list = False\n",
    "class_list = []\n",
    "scrape_only_flickr = True # default True\n",
    "number_of_classes = 1100\n",
    "images_per_class = 10\n",
    "use_class_list = False\n",
    "debug = False\n",
    "multiprocessing_workers = 8"
   ]
  },
  {
   "cell_type": "code",
   "execution_count": 3,
   "metadata": {},
   "outputs": [],
   "source": [
    "if debug:\n",
    "    logging.basicConfig(filename='imagenet_scarper.log', level=logging.DEBUG)"
   ]
  },
  {
   "cell_type": "code",
   "execution_count": 4,
   "metadata": {},
   "outputs": [],
   "source": [
    "IMAGENET_API_WNID_TO_URLS = lambda wnid: f'http://www.image-net.org/api/text/imagenet.synset.geturls?wnid={wnid}'\n",
    "\n",
    "current_folder = os.path.abspath('.')\n",
    "\n",
    "class_info_json_filename = 'imagenet_class_info.json'\n",
    "class_info_json_filepath = os.path.join(current_folder, class_info_json_filename)\n",
    "\n",
    "class_info_dict = dict()"
   ]
  },
  {
   "cell_type": "code",
   "execution_count": 5,
   "metadata": {},
   "outputs": [],
   "source": [
    "with open(class_info_json_filepath) as class_info_json_f:\n",
    "    class_info_dict = json.load(class_info_json_f)"
   ]
  },
  {
   "cell_type": "code",
   "execution_count": 6,
   "metadata": {},
   "outputs": [],
   "source": [
    "classes_to_scrape = []\n",
    "\n",
    "if use_class_list == True:\n",
    "    for item in class_list:\n",
    "        classes_to_scrape.append(item)\n",
    "        if item not in class_info_dict:\n",
    "            logging.error(f'Class {item} not found in ImageNete')\n",
    "            exit()\n",
    "            \n",
    "elif use_class_list == False:\n",
    "    potential_class_pool = []\n",
    "    for key, val in class_info_dict.items():\n",
    "\n",
    "        if scrape_only_flickr:\n",
    "            if int(val['flickr_img_url_count']) * 0.9 > images_per_class:\n",
    "                potential_class_pool.append(key)\n",
    "        else:\n",
    "            if int(val['img_url_count']) * 0.8 > images_per_class:\n",
    "                potential_class_pool.append(key)\n",
    "\n",
    "    if (len(potential_class_pool) < number_of_classes):\n",
    "        logging.error(f\"With {images_per_class} images per class there are {len(potential_class_pool)} to choose from.\")\n",
    "        logging.error(f\"Decrease number of classes or decrease images per class.\")\n",
    "        exit()\n",
    "\n",
    "    picked_classes_idxes = np.random.choice(len(potential_class_pool), number_of_classes, replace = False)\n",
    "\n",
    "    for idx in picked_classes_idxes:\n",
    "        classes_to_scrape.append(potential_class_pool[idx])\n",
    "            "
   ]
  },
  {
   "cell_type": "code",
   "execution_count": 7,
   "metadata": {
    "scrolled": true
   },
   "outputs": [
    {
     "name": "stdout",
     "output_type": "stream",
     "text": [
      "Picked the following clases:\n",
      "['catmint', 'easy chair', 'ski rack', 'common cotton grass', 'Dane', 'marine mussel', 'locoweed', 'hall', 'armor', 'chador', 'guest of honor', 'bonefish', 'rowel', 'cowpea', 'parfait', 'bouillon', 'flying jib', 'White Russian', 'astrolabe', 'glow lamp', 'Melkite', 'hydrometer', 'marsh plant', 'oyster mushroom', 'maple', 'entrepreneur', 'metasequoia', 'level', 'foreground', 'linseed', 'rig', 'engine', 'shunt', 'Easter egg', 'coatdress', 'American wistaria', 'Mexican sunflower', 'pavilion', 'imperialist', 'centrist', 'Minuteman', 'sequencer', 'bread dough', 'alehouse', 'cock of the rock', 'asp', 'gasmask', 'bass guitar', 'poppy', 'panther', 'ridge', 'good-king-henry', 'sculptor', 'wild boar', 'boxcar', 'bitewing', 'buckram', 'valerian', 'television antenna', 'climbing frame', 'cornetfish', 'helminth', 'Tartuffe', 'header', 'push button', 'kneeler', 'impala lily', 'plum sauce', 'drinking vessel', 'common fennel', 'green alder', 'espionage agent', 'autopilot', 'motor vehicle', 'footlocker', 'halibut', 'newel post', 'martello tower', 'toy', 'flintlock', 'Hungarian sauce', 'smut grass', 'axseed', 'blunderbuss', 'chili', 'flatfish', 'lentil', 'futon', 'bustle', 'rotgut', 'building', 'pelagic bird', 'Fauve', 'pumpkin', 'rockfish', 'newsstand', 'generator', 'cork tree', 'wild madder', 'king penguin', 'domino', 'apple mint', 'cigar smoker', 'long trousers', 'fishhook', 'solar heater', 'textile screw pine', 'mandarin', 'radio compass', 'darling', 'gazpacho', 'copper', 'moon shell', 'mechanical device', 'godfather', 'stun gun', 'cyme', 'common matrimony vine', 'pants suit', 'parasail', 'roughcast', 'sailfish', 'yellowwood', 'scholar', 'beeper', 'snow bunting', 'earphone', 'sandpiper', 'goldfields', 'ditty bag', 'schnapps', 'queen', 'cittern', 'sunflower', 'analog watch', 'reptile', 'yellowlegs', 'ruddy duck', 'jaguarundi', 'bench press', 'mocha', 'wild rosemary', 'altarpiece', 'wimp', 'beige', 'framework', 'tree sparrow', 'cabin car', 'Leonberg', 'stateroom', 'appointee', 'bottle-nosed whale', 'jewelweed', 'loft', 'gooseneck loosestrife', 'ewe', 'vanilla pudding', 'garden trowel', 'eastern indigo snake', 'black currant', 'cheese pizza', 'raccoon', 'maar', 'poop deck', 'showplace', 'scented fern', 'hovercraft', 'round file', 'manhole cover', 'New World goldfinch', 'dormer window', 'common wallaby', 'skewer', 'club moss', 'cauliflower', 'tautog', 'wall unit', 'spritsail', 'angelica', 'stealth aircraft', 'cinnamon', 'traveler', 'dent corn', 'tractor', 'electronic device', 'suitor', 'foot rule', 'hazelnut', 'large crabgrass', 'showy orchis', 'cheese souffle', 'battle dress', 'striped hyena', 'Guinean', 'meatball', 'escapement', 'sprit', 'king crab', 'skin', 'backstay', 'Kahlua', 'socket wrench', 'thrips', 'lyme grass', 'milk float', 'fire tongs', 'chamois', 'row house', 'banded krait', 'hand mower', 'gopher', 'convolvulus', 'clarified butter', 'Coigue', 'lupine', 'flowerbed', 'Mountie', 'hot sauce', 'solar dish', 'great grandchild', 'Scandinavian', 'ticking', 'dishtowel', 'palomino', 'toasting fork', 'water gauge', 'garland flower', \"Wilson's snipe\", 'European swift', 'wallaby', 'venturer', 'riverbed', 'vitamin pill', 'Ritz', 'candlepin', 'breadfruit', 'bronco', 'cashew', 'ballet dancer', 'brown bear', 'ruffed grouse', 'whiteface', 'aardwolf', 'box', 'acoustic guitar', 'gas gun', \"prairie bird's-foot trefoil\", 'common limpet', 'guided missile frigate', 'babassu', 'greater spearwort', 'analog clock', 'oldster', 'timothy', 'cyclopean masonry', 'crossbar', 'miniature golf', 'Spanish needles', 'arethusa', 'tiger cub', 'generator', 'flyweight', 'lectern', 'ascus', 'nut tree', 'front man', 'garlic bread', 'kudu', 'cuckoo clock', 'chaenactis', 'garden', 'car', 'scratcher', 'spacesuit', 'gig', 'croquet equipment', 'showy milkweed', 'meadow salsify', 'cayenne', 'lumper', 'Bahraini', 'stream orchid', 'pine fern', 'whaleboat', 'hare', 'wattmeter', 'bourbon', 'thickhead', 'shock absorber', 'baize', 'red wolf', 'pollen tube', 'piano wire', 'centurion', 'Mutillidae', 'Bouvier des Flandres', 'piano', 'doily', 'swimming trunks', 'anklet', 'Limburger', 'sodalist', 'swimming', 'birth', 'crevice', 'mimeograph', 'teaching fellow', 'sweet cider', 'push-bike', 'Tibetan mastiff', 'escutcheon', 'gyrfalcon', 'obscurantist', 'track', 'good guy', 'ancient', 'borzoi', 'landing craft', 'Spanish lime', 'clothes moth', 'flowering fern', 'Guadalupe cypress', 'maguey', 'blue shark', 'Indian rat snake', 'waders', 'wading bird', 'overhang', 'great bowerbird', 'commoner', 'cutworm', 'sport', 'flugelhorn', 'marketplace', 'resistor', 'roan', 'Italian greyhound', 'enlarger', 'mountain ash', 'Engelmann spruce', 'medium', 'kingfish', 'mixed-blood', 'coastland', 'section hand', 'rust', 'masonry', 'euphonium', 'sheepshead', 'staggerbush', 'tutee', 'pollster', 'bitter lemon', 'saltwort', 'meadow spittlebug', 'treehopper', 'seafood Newburg', 'saboteur', 'sound recording', 'digital display', 'armored catfish', \"bird's-foot violet\", 'broadcaster', 'auklet', 'milk vetch', 'accused', \"man's clothing\", 'rye', 'head', 'scalene triangle', 'bap', 'bicycle pump', 'McIntosh', 'wallflower', 'littoral', 'bumper', 'nosewheel', 'taxonomist', 'ground snake', 'inductee', 'almond tree', 'sewing room', 'sanderling', 'wahoo', 'rapper', 'sardine', 'mother hen', 'crash helmet', 'cultist', 'burp gun', 'kitten', 'towhee', 'bunk', 'old lady', 'engine', 'breeches buoy', 'golden fern', 'signore', 'Spanish bayonet', 'umbel', \"Jehovah's Witness\", 'domestic animal', 'mobile home', 'cobia', 'magazine', 'buffalo fish', 'motherwort', 'corn pudding', 'watercress', 'Brabancon griffon', 'Maxim gun', 'gipsywort', 'weeder', 'joinery', 'maiden blue-eyed Mary', 'rotor', 'Brussels lace', 'buckwheat', 'wire recorder', 'federalist', 'wastrel', 'bantamweight', 'trackball', 'gluten bread', 'table knife', 'pack', 'fur coat', 'ice mass', 'bin liner', 'Mongoloid', 'secularist', 'dundathu pine', 'fer-de-lance', 'shutter', 'European toad', 'parrotfish', 'cobra', 'wiper', 'dotterel', 'tout', 'checker', 'lorry', 'echinoderm', 'milk thistle', 'coal black', 'diesel', 'swing door', 'Saluki', 'blue ash', 'motmot', 'Tulipa gesneriana', 'control rod', 'sheep plant', 'water fennel', 'giant puffball', 'bantam', 'sweetheart', 'southern cabbage butterfly', 'vanilla ice cream', 'convent', 'juvenile', 'gearing', 'webbing', 'Winchester', 'shuffleboard', 'false lupine', 'downstage', 'rosebud cherry', 'wood tick', 'telecom hotel', 'bocce ball', 'steak knife', 'handcuff', 'mercury thermometer', 'Jerusalem artichoke', 'community center', 'bark', 'toadflax', 'leopard', 'birdcage', 'jumper', 'Belgian endive', 'rocker arm', 'ovenbird', 'fly', 'morning dress', 'sunglass', 'winker', 'root vegetable', 'Pacific newt', 'peripheral', 'kapok', 'American chestnut', 'counter', 'bur oak', 'traffic cop', 'Bavarian', 'water scorpion', 'liquid crystal display', 'closeup lens', 'very important person', 'Jeffrey pine', 'broom sedge', 'dill pickle', 'sleeper', 'railing', 'desert willow', 'porter', 'ocean floor', 'bloomer', 'minibar', 'trews', 'anchovy pear', 'wood drake', 'mason bee', 'espresso', \"viola d'amore\", 'marriage bed', 'inhabitant', 'cobbler', 'pickerel frog', 'pitcher', 'clip-on', 'dress shirt', 'safety bicycle', 'Stropharia ambigua', 'tupelo', 'kuvasz', 'hypanthium', 'water spaniel', 'butternut squash', 'shofar', 'nuclear reactor', 'prairie smoke', 'commensal', 'klystron', 'shoreline', 'beard lichen', 'foramen magnum', 'beef Bourguignonne', 'sand cat', 'horizontal tail', 'sphinx', 'red beech', 'great ape', 'pinwheel', 'French Canadian', 'jumper', 'undies', 'milk', 'rotating mechanism', 'handstamp', 'pigeon', 'badminton court', 'sea lion', 'baton', 'blucher', 'sparrow', 'lattice', 'io moth', 'lozenge', 'call waiting', 'airfoil', 'weir', 'cuckoopint', 'computerized axial tomography scanner', 'turbot', 'impact printer', 'brother-in-law', 'display', \"sweet four o'clock\", 'chamberpot', 'chicken wire', 'puff paste', 'snailflower', 'black-capped chickadee', 'patrol boat', 'chest protector', 'Roquefort', 'bundle', 'ball', 'canyon treefrog', 'oyster cracker', 'denim', 'gyro', 'ski mask', 'California sea lion', 'overskirt', 'face guard', 'tuna', 'penlight', 'usherette', 'toadfish', 'deer mouse', 'cat box', 'cracker', 'volleyball net', 'kitty', 'stylus', 'benthos', 'ion engine', 'reed bunting', 'alpaca', 'inky cap', 'potpie', 'lazybones', 'viaduct', 'red-eyed vireo', 'kid glove', 'Pholiota squarrosoides', 'coreid bug', 'machete', 'gnat', 'beer glass', 'carbonara', 'skid lid', 'oxygen mask', 'aoudad', 'prancer', 'aerator', 'Lithuanian', 'berry', 'triode', 'peach ice cream', 'red osier', 'pine snake', 'furnishing', 'Indian hemp', 'garden tool', 'kirtle', 'Verpa', 'Morchella semilibera', \"hound's-tongue\", 'place of business', 'Liberian', 'elbow', 'buffalo grass', 'stemma', 'whip-scorpion', 'viceroy', 'neckline', 'wagon', 'jig', 'fedora', 'sounding rocket', 'legionnaire', 'peeper', 'smelt', 'mojarra', 'single-rotor helicopter', 'roundhouse', 'fastener', 'California quail', 'white goods', 'junction', 'honey crisp', 'flan', 'Druid', 'epacris', 'baton twirler', 'guided missile cruiser', 'costume', 'wild cherry', 'QWERTY keyboard', 'yellow mountain saxifrage', 'sister ship', 'clip', 'tread', 'parvis', 'mouse-ear chickweed', 'Mongol', 'cafe royale', 'control room', 'oven thermometer', 'pledger', 'hook', 'bailey', 'wine palm', 'mushroom', 'cinnabar chanterelle', 'leaf beetle', 'spadix', 'annual', 'popover', 'Caesar salad', 'garibaldi', 'jackass penguin', 'nameko', 'mantispid', 'rearview mirror', 'giant red paintbrush', 'solar cell', 'sachet', 'simnel', 'gas oven', 'electric fan', 'heathen', 'leukocyte', 'puku', 'locust', 'PT boat', 'inga', 'bull snake', 'arrow grass', 'sego lily', 'scaup', 'dung beetle', 'Primus stove', 'crotalaria', 'sharpener', 'pantile', 'ferrule', 'triggerfish', 'New York fern', 'second cousin', 'loupe', 'betel', 'American badger', 'bog aster', 'hauberk', 'Yosemite toad', 'winter mushroom', 'bungee', 'khukuri', 'marsh orchid', 'souk', 'Hygrophorus marzuolus', 'poplar', 'Pilsner', 'disk controller', 'muzzle loader', 'Evangelist', 'grey', 'peach sauce', 'gravestone', 'printer', 'sailing master', 'figure loom', 'redhead', 'lime', 'viscose rayon', 'marine animal', 'videotape', 'cog', 'couch', 'thyme', 'Qatari', 'canine', 'graffito', 'zucchini', 'soutache', 'red rockfish', 'ottoman', 'spotted owl', 'towhead', \"St John's wort\", 'slipper', 'module', 'hollandaise', 'Indian mallow', 'even-toed ungulate', 'goat', 'Southern dewberry', 'hydrofoil', 'turnstone', 'Arctic ground squirrel', 'cauliflower', 'Iceland poppy', 'arrow wood', 'cat thyme', 'common unicorn plant', 'cress', 'test-tube baby', 'spider orchid', 'archer', 'purple locoweed', 'European larch', 'reading lamp', 'common wasp', 'Old World vulture', 'flood', 'ground floor', 'American organ', 'river otter', 'coucal', 'safe house', 'pistil', 'dildo', 'Zulu', 'pigtail', 'white admiral', 'cheddar', 'halter', 'shoebill', 'true bug', 'nougat bar', 'wild senna', 'heat exchanger', 'barbecue', 'Secretary of Health and Human Services', 'Leydig cell', 'nightwear', 'bottle', 'swamp gum', 'gas bracket', 'wood pigeon', 'yolk', 'broodmare', 'washboard', 'dancer', 'Munich beer', 'marmot', 'muscat', 'serf', 'Persian lilac', 'field spaniel', 'fleawort', 'kraal', 'spaghetti sauce', 'coral root', 'arroz con pollo', 'grivet', 'pony', 'surfboat', 'slow loris', 'limiter', 'echidna', 'tear gas', 'pivot', 'nutgrass', 'candy thermometer', 'apple butter', 'widebody aircraft', 'coffee urn', 'date plum', 'requiem shark', 'abelia', 'embankment', 'ex-president', 'cymbal', 'Eurasian badger', 'skateboarder', 'whitewash', 'mongoose', 'track', 'pipe smoker', 'apadana', 'baton', 'flowering fern', 'planner', 'stilt', 'donna', 'bell heather', 'broadsword', 'ticket collector', 'American toad', 'catfish', 'Alpine fir', \"lady's maid\", 'cattleya', 'felt-tip pen', 'snapdragon', 'suet pudding', 'tomahawk', 'screw bean', 'pup tent', 'frog orchid', 'balloon flower', 'myxobacteria', 'convener', 'grosbeak', 'gun emplacement', 'cephalopod', 'palm cat', 'buckthorn berry', 'milking stool', 'fanaloka', 'sugar snap pea', \"florist's chrysanthemum\", 'lionfish', 'western white pine', 'umbrella tree', 'line of heart', 'Shih-Tzu', 'glutton', 'split end', 'television equipment', 'aeschynanthus', 'clotted cream', 'bindweed', 'autostrada', 'ostrich fern', 'gym suit', 'stalking-horse', 'flying buttress', 'field mouse', 'manul', 'multivitamin', 'oil paint', 'bluebottle', 'bay', 'reconnaissance vehicle', 'corn poppy', 'butternut', 'bulldozer', 'alpine clover', 'revetment', 'batting glove', 'cabin cruiser', 'oast house', 'western hemlock', 'fuel system', 'puff batter', 'ventilator', 'tom', 'cherrystone', 'Surinam cherry', 'creme de menthe', 'strawberry', 'clary sage', 'southern white cedar', 'varied Lorikeet', 'common raccoon', 'male horse', 'darning needle', 'meat grinder', 'mistflower', 'foreshore', 'embellishment', 'air compressor', 'nut bar', 'brim', 'tetrahedron', 'fireplace', 'dormitory', 'sand dollar', 'redpoll', 'fruit drink', 'van', 'angler', 'broom grass', 'crown lens', 'rock', 'universal joint', 'verdigris', 'map', 'scilla', 'areaway', 'showy daisy', 'cob', 'quaking aspen', 'fern ally', 'grey fox', 'candied fruit', 'scoutmaster', 'grugru', \"Wilson's warbler\", 'California black walnut', 'athletic sock', 'sand', 'king vulture', 'clematis', 'dam', 'flying boat', 'wand', 'host', 'doubles', 'gown', 'football', 'Mycenaen', 'choir loft', 'theropod', 'table', 'Tokay', 'involucre', \"bird's-nest fungus\", 'orange peel', 'pickup', 'bigos', 'machine', 'Verdicchio', 'Spam', 'odd-toed ungulate', 'soup ladle', 'lignum', 'baron', 'julep', 'cultivar', 'Siberian wall flower', 'downy yellow violet', 'ground cedar', 'ptarmigan', 'spiderwort', 'florist', 'net melon', 'circuit board', 'hypermarket', 'cub', 'popper', 'bellbird', 'European bittern', 'gondola', 'ocarina', 'capstan', 'fungus', 'fire-eater', 'safety razor', 'pilot engine', 'Maltese dog', 'scarlet bugler', 'verdin', 'scooter', 'pusher', 'Hungarian partridge', 'aircraft engine', 'fishing gear', 'wisent', 'mandola', 'rice weevil', 'field lens', 'greeter', 'Tyrian purple', 'base', 'dog fennel', 'short-spurred fragrant orchid', 'cockchafer', 'leatherjacket', 'buttercup squash', 'green tea', 'tiler', 'Rollerblade', 'puck', 'brioche', 'custard', 'paddle', 'tadpole shrimp', 'Black', 'cricket bat', 'wild pink', 'Chilean firebush', 'broccoli', 'hobby', 'pedestrian crossing', 'large poodle', 'synchronous motor', 'lychnis', 'vedalia', 'cold cathode', 'deer grass', 'honeysuckle', 'saltworks', 'jackrabbit', 'silver ash', 'hydrozoan', 'cherimoya', 'dining room', 'harness', 'day game', 'swamp sunflower', 'sweet fern', 'river red gum', 'willow', 'steam bath', 'green peafowl', 'telephone system', 'chokecherry', 'antelope', 'potentiometer', 'clutch', 'night-blooming cereus', 'convalescent', 'grape fern', 'egocentric', 'bean dip', 'sea mouse', 'grill', 'congee', 'moray', 'Pacific halibut', 'Japanese lilac', 'bridle', 'organ', 'prize winner', 'safe', 'mast', 'straitjacket', 'ganglion cell', 'lizard', 'okapi', 'intergalactic space', 'douglas fir', 'sperm whale', 'sloe gin', 'spring beauty', 'cyanobacteria', 'vodka martini', 'Atlantic bottlenose dolphin', 'investor', 'hop', 'Virginia waterleaf']\n"
     ]
    }
   ],
   "source": [
    "print(\"Picked the following clases:\")\n",
    "print([ class_info_dict[class_wnid]['class_name'] for class_wnid in classes_to_scrape ])"
   ]
  },
  {
   "cell_type": "code",
   "execution_count": 10,
   "metadata": {},
   "outputs": [],
   "source": [
    "imagenet_images_folder = os.path.join(data_root, 'imagenet_images')\n",
    "if not os.path.isdir(imagenet_images_folder):\n",
    "    os.mkdir(imagenet_images_folder)"
   ]
  },
  {
   "cell_type": "code",
   "execution_count": 11,
   "metadata": {},
   "outputs": [],
   "source": [
    "scraping_stats = dict(\n",
    "    all=dict(\n",
    "        tried=0,\n",
    "        success=0,\n",
    "        time_spent=0,\n",
    "    ),\n",
    "    is_flickr=dict(\n",
    "        tried=0,\n",
    "        success=0,\n",
    "        time_spent=0,\n",
    "    ),\n",
    "    not_flickr=dict(\n",
    "        tried=0,\n",
    "        success=0,\n",
    "        time_spent=0,\n",
    "    )\n",
    ")"
   ]
  },
  {
   "cell_type": "code",
   "execution_count": 12,
   "metadata": {},
   "outputs": [],
   "source": [
    "def add_debug_csv_row(row):\n",
    "    with open('stats.csv', \"a\") as csv_f:\n",
    "        csv_writer = csv.writer(csv_f, delimiter=\",\")\n",
    "        csv_writer.writerow(row)\n",
    "\n",
    "class MultiStats():\n",
    "    def __init__(self):\n",
    "\n",
    "        self.lock = Lock()\n",
    "\n",
    "        self.stats = dict(\n",
    "            all=dict(\n",
    "                tried=Value('d', 0),\n",
    "                success=Value('d',0),\n",
    "                time_spent=Value('d',0),\n",
    "            ),\n",
    "            is_flickr=dict(\n",
    "                tried=Value('d', 0),\n",
    "                success=Value('d',0),\n",
    "                time_spent=Value('d',0),\n",
    "            ),\n",
    "            not_flickr=dict(\n",
    "                tried=Value('d', 0),\n",
    "                success=Value('d', 0),\n",
    "                time_spent=Value('d', 0),\n",
    "            )\n",
    "        )\n",
    "    def inc(self, cls, stat, val):\n",
    "        with self.lock:\n",
    "            self.stats[cls][stat].value += val\n",
    "\n",
    "    def get(self, cls, stat):\n",
    "        with self.lock:\n",
    "            ret = self.stats[cls][stat].value\n",
    "        return ret\n",
    "\n",
    "multi_stats = MultiStats()\n",
    "    \n",
    "if debug:\n",
    "    row = [\n",
    "        \"all_tried\",\n",
    "        \"all_success\",\n",
    "        \"all_time_spent\",\n",
    "        \"is_flickr_tried\",\n",
    "        \"is_flickr_success\",\n",
    "        \"is_flickr_time_spent\",\n",
    "        \"not_flickr_tried\",\n",
    "        \"not_flickr_success\",\n",
    "        \"not_flickr_time_spent\"\n",
    "    ]\n",
    "    add_debug_csv_row(row)\n",
    "    \n",
    "def add_stats_to_debug_csv():\n",
    "    row = [\n",
    "        multi_stats.get('all', 'tried'),\n",
    "        multi_stats.get('all', 'success'),\n",
    "        multi_stats.get('all', 'time_spent'),\n",
    "        multi_stats.get('is_flickr', 'tried'),\n",
    "        multi_stats.get('is_flickr', 'success'),\n",
    "        multi_stats.get('is_flickr', 'time_spent'),\n",
    "        multi_stats.get('not_flickr', 'tried'),\n",
    "        multi_stats.get('not_flickr', 'success'),\n",
    "        multi_stats.get('not_flickr', 'time_spent'),\n",
    "    ]\n",
    "    add_debug_csv_row(row)\n",
    "\n",
    "def print_stats(cls, print_func):\n",
    "\n",
    "    actual_all_time_spent = time.time() - scraping_t_start.value\n",
    "    processes_all_time_spent = multi_stats.get('all', 'time_spent')\n",
    "\n",
    "    if processes_all_time_spent == 0:\n",
    "        actual_processes_ratio = 1.0\n",
    "    else:\n",
    "        actual_processes_ratio = actual_all_time_spent / processes_all_time_spent\n",
    "\n",
    "    #print(f\"actual all time: {actual_all_time_spent} proc all time {processes_all_time_spent}\")\n",
    "\n",
    "    print_func(f'STATS For class {cls}:')\n",
    "    print_func(f' tried {multi_stats.get(cls, \"tried\")} urls with'\n",
    "               f' {multi_stats.get(cls, \"success\")} successes')\n",
    "\n",
    "    if multi_stats.get(cls, \"tried\") > 0:\n",
    "        print_func(f'{100.0 * multi_stats.get(cls, \"success\")/multi_stats.get(cls, \"tried\")}% success rate for {cls} urls ')\n",
    "    if multi_stats.get(cls, \"success\") > 0:\n",
    "        print_func(f'{multi_stats.get(cls,\"time_spent\") * actual_processes_ratio / multi_stats.get(cls,\"success\")} seconds spent per {cls} succesful image download')\n",
    "\n",
    "\n",
    "\n",
    "lock = Lock()\n",
    "url_tries = Value('d', 0)\n",
    "scraping_t_start = Value('d', time.time())\n",
    "class_folder = ''\n",
    "class_images = Value('d', 0)"
   ]
  },
  {
   "cell_type": "code",
   "execution_count": null,
   "metadata": {
    "scrolled": true
   },
   "outputs": [
    {
     "name": "stderr",
     "output_type": "stream",
     "text": [
      "\r",
      "  0%|          | 0/1100 [00:00<?, ?it/s]"
     ]
    },
    {
     "name": "stdout",
     "output_type": "stream",
     "text": [
      "Scraping images for class \"catmint\"\n",
      "Multiprocessing workers: 8\n"
     ]
    },
    {
     "name": "stderr",
     "output_type": "stream",
     "text": [
      "\r",
      "  0%|          | 1/1100 [00:07<2:24:20,  7.88s/it]"
     ]
    },
    {
     "name": "stdout",
     "output_type": "stream",
     "text": [
      "Scraping images for class \"easy chair\"\n",
      "Multiprocessing workers: 8\n"
     ]
    },
    {
     "name": "stderr",
     "output_type": "stream",
     "text": [
      "\r",
      "  0%|          | 2/1100 [00:21<2:55:04,  9.57s/it]"
     ]
    },
    {
     "name": "stdout",
     "output_type": "stream",
     "text": [
      "Scraping images for class \"ski rack\"\n",
      "Multiprocessing workers: 8\n"
     ]
    },
    {
     "name": "stderr",
     "output_type": "stream",
     "text": [
      "\r",
      "  0%|          | 3/1100 [00:29<2:44:43,  9.01s/it]"
     ]
    },
    {
     "name": "stdout",
     "output_type": "stream",
     "text": [
      "Scraping images for class \"common cotton grass\"\n",
      "Multiprocessing workers: 8\n"
     ]
    },
    {
     "name": "stderr",
     "output_type": "stream",
     "text": [
      "\r",
      "  0%|          | 4/1100 [00:32<2:12:02,  7.23s/it]"
     ]
    },
    {
     "name": "stdout",
     "output_type": "stream",
     "text": [
      "Scraping images for class \"Dane\"\n",
      "Multiprocessing workers: 8\n"
     ]
    },
    {
     "name": "stderr",
     "output_type": "stream",
     "text": [
      "\r",
      "  0%|          | 5/1100 [00:39<2:13:12,  7.30s/it]"
     ]
    },
    {
     "name": "stdout",
     "output_type": "stream",
     "text": [
      "Scraping images for class \"marine mussel\"\n",
      "Multiprocessing workers: 8\n"
     ]
    },
    {
     "name": "stderr",
     "output_type": "stream",
     "text": [
      "\r",
      "  1%|          | 6/1100 [00:53<2:46:24,  9.13s/it]"
     ]
    },
    {
     "name": "stdout",
     "output_type": "stream",
     "text": [
      "Scraping images for class \"locoweed\"\n",
      "Multiprocessing workers: 8\n"
     ]
    },
    {
     "name": "stderr",
     "output_type": "stream",
     "text": [
      "\r",
      "  1%|          | 7/1100 [01:04<3:01:18,  9.95s/it]"
     ]
    },
    {
     "name": "stdout",
     "output_type": "stream",
     "text": [
      "Scraping images for class \"hall\"\n",
      "Multiprocessing workers: 8\n"
     ]
    },
    {
     "name": "stderr",
     "output_type": "stream",
     "text": [
      "\r",
      "  1%|          | 8/1100 [01:25<3:58:46, 13.12s/it]"
     ]
    },
    {
     "name": "stdout",
     "output_type": "stream",
     "text": [
      "Scraping images for class \"armor\"\n",
      "Multiprocessing workers: 8\n"
     ]
    },
    {
     "name": "stderr",
     "output_type": "stream",
     "text": [
      "\r",
      "  1%|          | 9/1100 [01:38<4:00:33, 13.23s/it]"
     ]
    },
    {
     "name": "stdout",
     "output_type": "stream",
     "text": [
      "Scraping images for class \"chador\"\n",
      "Multiprocessing workers: 8\n"
     ]
    },
    {
     "name": "stderr",
     "output_type": "stream",
     "text": [
      "\r",
      "  1%|          | 10/1100 [02:44<8:44:33, 28.87s/it]"
     ]
    },
    {
     "name": "stdout",
     "output_type": "stream",
     "text": [
      "Scraping images for class \"guest of honor\"\n",
      "Multiprocessing workers: 8\n",
      "\n",
      "Scraping stats:\n",
      "STATS For class is_flickr:\n",
      " tried 243.0 urls with 162.0 successes\n",
      "66.66666666666667% success rate for is_flickr urls \n",
      "1.0931328957419804 seconds spent per is_flickr succesful image download\n",
      "STATS For class not_flickr:\n",
      " tried 0.0 urls with 0.0 successes\n",
      "STATS For class all:\n",
      " tried 244.0 urls with 162.0 successes\n",
      "66.12244897959184% success rate for all urls \n",
      "1.0955975033204997 seconds spent per all succesful image download\n"
     ]
    },
    {
     "name": "stderr",
     "output_type": "stream",
     "text": [
      "\r",
      "  1%|          | 11/1100 [03:12<8:38:51, 28.59s/it]"
     ]
    },
    {
     "name": "stdout",
     "output_type": "stream",
     "text": [
      "Scraping images for class \"bonefish\"\n",
      "Multiprocessing workers: 8\n"
     ]
    },
    {
     "name": "stderr",
     "output_type": "stream",
     "text": [
      "\r",
      "  1%|          | 12/1100 [03:32<7:53:40, 26.12s/it]"
     ]
    },
    {
     "name": "stdout",
     "output_type": "stream",
     "text": [
      "Scraping images for class \"rowel\"\n",
      "Multiprocessing workers: 8\n"
     ]
    },
    {
     "name": "stderr",
     "output_type": "stream",
     "text": [
      "\r",
      "  1%|          | 13/1100 [03:54<7:32:16, 24.96s/it]"
     ]
    },
    {
     "name": "stdout",
     "output_type": "stream",
     "text": [
      "Scraping images for class \"cowpea\"\n",
      "Multiprocessing workers: 8\n"
     ]
    },
    {
     "name": "stderr",
     "output_type": "stream",
     "text": [
      "\r",
      "  1%|▏         | 14/1100 [04:22<7:45:57, 25.74s/it]"
     ]
    },
    {
     "name": "stdout",
     "output_type": "stream",
     "text": [
      "Scraping images for class \"parfait\"\n",
      "Multiprocessing workers: 8\n"
     ]
    },
    {
     "name": "stderr",
     "output_type": "stream",
     "text": [
      "\r",
      "  1%|▏         | 15/1100 [04:50<7:55:58, 26.32s/it]"
     ]
    },
    {
     "name": "stdout",
     "output_type": "stream",
     "text": [
      "Scraping images for class \"bouillon\"\n",
      "Multiprocessing workers: 8\n"
     ]
    },
    {
     "name": "stderr",
     "output_type": "stream",
     "text": [
      "\r",
      "  1%|▏         | 16/1100 [05:11<7:28:35, 24.83s/it]"
     ]
    },
    {
     "name": "stdout",
     "output_type": "stream",
     "text": [
      "Scraping images for class \"flying jib\"\n",
      "Multiprocessing workers: 8\n"
     ]
    },
    {
     "name": "stderr",
     "output_type": "stream",
     "text": [
      "\r",
      "  2%|▏         | 17/1100 [05:22<6:15:34, 20.81s/it]"
     ]
    },
    {
     "name": "stdout",
     "output_type": "stream",
     "text": [
      "Scraping images for class \"White Russian\"\n",
      "Multiprocessing workers: 8\n"
     ]
    },
    {
     "name": "stderr",
     "output_type": "stream",
     "text": [
      "\r",
      "  2%|▏         | 18/1100 [05:40<5:57:50, 19.84s/it]"
     ]
    },
    {
     "name": "stdout",
     "output_type": "stream",
     "text": [
      "Scraping images for class \"astrolabe\"\n",
      "Multiprocessing workers: 8\n"
     ]
    },
    {
     "name": "stderr",
     "output_type": "stream",
     "text": [
      "\r",
      "  2%|▏         | 19/1100 [05:43<4:26:35, 14.80s/it]"
     ]
    },
    {
     "name": "stdout",
     "output_type": "stream",
     "text": [
      "Scraping images for class \"glow lamp\"\n",
      "Multiprocessing workers: 8\n",
      "\n",
      "Scraping stats:\n",
      "STATS For class is_flickr:\n",
      " tried 492.0 urls with 295.0 successes\n",
      "59.959349593495936% success rate for is_flickr urls \n",
      "1.2282542810601704 seconds spent per is_flickr succesful image download\n",
      "STATS For class not_flickr:\n",
      " tried 0.0 urls with 0.0 successes\n",
      "STATS For class all:\n",
      " tried 492.0 urls with 295.0 successes\n",
      "59.959349593495936% success rate for all urls \n",
      "1.2283087811227573 seconds spent per all succesful image download\n"
     ]
    },
    {
     "name": "stderr",
     "output_type": "stream",
     "text": [
      "\r",
      "  2%|▏         | 20/1100 [06:15<6:01:45, 20.10s/it]"
     ]
    },
    {
     "name": "stdout",
     "output_type": "stream",
     "text": [
      "Scraping images for class \"Melkite\"\n",
      "Multiprocessing workers: 8\n"
     ]
    },
    {
     "name": "stderr",
     "output_type": "stream",
     "text": [
      "\r",
      "  2%|▏         | 21/1100 [06:27<5:17:08, 17.63s/it]"
     ]
    },
    {
     "name": "stdout",
     "output_type": "stream",
     "text": [
      "Scraping images for class \"hydrometer\"\n",
      "Multiprocessing workers: 8\n"
     ]
    },
    {
     "name": "stderr",
     "output_type": "stream",
     "text": [
      "\r",
      "  2%|▏         | 22/1100 [07:02<6:46:28, 22.62s/it]"
     ]
    },
    {
     "name": "stdout",
     "output_type": "stream",
     "text": [
      "Scraping images for class \"marsh plant\"\n",
      "Multiprocessing workers: 8\n"
     ]
    },
    {
     "name": "stderr",
     "output_type": "stream",
     "text": [
      "\r",
      "  2%|▏         | 23/1100 [07:57<9:41:05, 32.37s/it]"
     ]
    },
    {
     "name": "stdout",
     "output_type": "stream",
     "text": [
      "Scraping images for class \"oyster mushroom\"\n",
      "Multiprocessing workers: 8\n"
     ]
    },
    {
     "name": "stderr",
     "output_type": "stream",
     "text": [
      "\r",
      "  2%|▏         | 24/1100 [08:19<8:47:27, 29.41s/it]"
     ]
    },
    {
     "name": "stdout",
     "output_type": "stream",
     "text": [
      "Scraping images for class \"maple\"\n",
      "Multiprocessing workers: 8\n"
     ]
    },
    {
     "name": "stderr",
     "output_type": "stream",
     "text": [
      "\r",
      "  2%|▏         | 25/1100 [08:23<6:27:59, 21.66s/it]"
     ]
    },
    {
     "name": "stdout",
     "output_type": "stream",
     "text": [
      "Scraping images for class \"entrepreneur\"\n",
      "Multiprocessing workers: 8\n"
     ]
    },
    {
     "name": "stderr",
     "output_type": "stream",
     "text": [
      "\r",
      "  2%|▏         | 26/1100 [08:41<6:11:46, 20.77s/it]"
     ]
    },
    {
     "name": "stdout",
     "output_type": "stream",
     "text": [
      "Scraping images for class \"metasequoia\"\n",
      "Multiprocessing workers: 8\n"
     ]
    },
    {
     "name": "stderr",
     "output_type": "stream",
     "text": [
      "\r",
      "  2%|▏         | 27/1100 [08:56<5:35:53, 18.78s/it]"
     ]
    },
    {
     "name": "stdout",
     "output_type": "stream",
     "text": [
      "Scraping images for class \"level\"\n",
      "Multiprocessing workers: 8\n"
     ]
    },
    {
     "name": "stderr",
     "output_type": "stream",
     "text": [
      "\r",
      "  3%|▎         | 28/1100 [09:08<5:01:02, 16.85s/it]"
     ]
    },
    {
     "name": "stdout",
     "output_type": "stream",
     "text": [
      "Scraping images for class \"foreground\"\n",
      "Multiprocessing workers: 8\n"
     ]
    },
    {
     "name": "stderr",
     "output_type": "stream",
     "text": [
      "\r",
      "  3%|▎         | 29/1100 [09:15<4:09:41, 13.99s/it]"
     ]
    },
    {
     "name": "stdout",
     "output_type": "stream",
     "text": [
      "Scraping images for class \"linseed\"\n",
      "Multiprocessing workers: 8\n"
     ]
    },
    {
     "name": "stderr",
     "output_type": "stream",
     "text": [
      "\r",
      "  3%|▎         | 30/1100 [09:18<3:10:49, 10.70s/it]"
     ]
    },
    {
     "name": "stdout",
     "output_type": "stream",
     "text": [
      "Scraping images for class \"rig\"\n",
      "Multiprocessing workers: 8\n",
      "\n",
      "Scraping stats:\n",
      "STATS For class is_flickr:\n",
      " tried 744.0 urls with 449.0 successes\n",
      "60.3494623655914% success rate for is_flickr urls \n",
      "1.2744821689557073 seconds spent per is_flickr succesful image download\n",
      "STATS For class not_flickr:\n",
      " tried 0.0 urls with 0.0 successes\n",
      "STATS For class all:\n",
      " tried 744.0 urls with 449.0 successes\n",
      "60.3494623655914% success rate for all urls \n",
      "1.2741448056193396 seconds spent per all succesful image download\n"
     ]
    },
    {
     "name": "stderr",
     "output_type": "stream",
     "text": [
      "\r",
      "  3%|▎         | 31/1100 [09:37<3:53:16, 13.09s/it]"
     ]
    },
    {
     "name": "stdout",
     "output_type": "stream",
     "text": [
      "Scraping images for class \"engine\"\n",
      "Multiprocessing workers: 8\n"
     ]
    },
    {
     "name": "stderr",
     "output_type": "stream",
     "text": [
      "\r",
      "  3%|▎         | 32/1100 [09:41<3:03:50, 10.33s/it]"
     ]
    },
    {
     "name": "stdout",
     "output_type": "stream",
     "text": [
      "Scraping images for class \"shunt\"\n",
      "Multiprocessing workers: 8\n"
     ]
    },
    {
     "name": "stderr",
     "output_type": "stream",
     "text": [
      "\r",
      "  3%|▎         | 33/1100 [09:58<3:37:36, 12.24s/it]"
     ]
    },
    {
     "name": "stdout",
     "output_type": "stream",
     "text": [
      "Scraping images for class \"Easter egg\"\n",
      "Multiprocessing workers: 8\n"
     ]
    },
    {
     "name": "stderr",
     "output_type": "stream",
     "text": [
      "\r",
      "  3%|▎         | 34/1100 [10:10<3:40:54, 12.43s/it]"
     ]
    },
    {
     "name": "stdout",
     "output_type": "stream",
     "text": [
      "Scraping images for class \"coatdress\"\n",
      "Multiprocessing workers: 8\n"
     ]
    },
    {
     "name": "stderr",
     "output_type": "stream",
     "text": [
      "\r",
      "  3%|▎         | 35/1100 [10:13<2:48:55,  9.52s/it]"
     ]
    },
    {
     "name": "stdout",
     "output_type": "stream",
     "text": [
      "Scraping images for class \"American wistaria\"\n",
      "Multiprocessing workers: 8\n"
     ]
    },
    {
     "name": "stderr",
     "output_type": "stream",
     "text": [
      "\r",
      "  3%|▎         | 36/1100 [10:21<2:42:41,  9.17s/it]"
     ]
    },
    {
     "name": "stdout",
     "output_type": "stream",
     "text": [
      "Scraping images for class \"Mexican sunflower\"\n",
      "Multiprocessing workers: 8\n"
     ]
    },
    {
     "name": "stderr",
     "output_type": "stream",
     "text": [
      "\r",
      "  3%|▎         | 37/1100 [10:33<2:55:17,  9.89s/it]"
     ]
    },
    {
     "name": "stdout",
     "output_type": "stream",
     "text": [
      "Scraping images for class \"pavilion\"\n",
      "Multiprocessing workers: 8\n"
     ]
    },
    {
     "name": "stderr",
     "output_type": "stream",
     "text": [
      "\r",
      "  3%|▎         | 38/1100 [10:48<3:22:20, 11.43s/it]"
     ]
    },
    {
     "name": "stdout",
     "output_type": "stream",
     "text": [
      "Scraping images for class \"imperialist\"\n",
      "Multiprocessing workers: 8\n"
     ]
    },
    {
     "name": "stderr",
     "output_type": "stream",
     "text": [
      "\r",
      "  4%|▎         | 39/1100 [11:06<3:57:30, 13.43s/it]"
     ]
    },
    {
     "name": "stdout",
     "output_type": "stream",
     "text": [
      "Scraping images for class \"centrist\"\n",
      "Multiprocessing workers: 8\n"
     ]
    },
    {
     "name": "stderr",
     "output_type": "stream",
     "text": [
      "\r",
      "  4%|▎         | 40/1100 [11:19<3:51:33, 13.11s/it]"
     ]
    },
    {
     "name": "stdout",
     "output_type": "stream",
     "text": [
      "Scraping images for class \"Minuteman\"\n",
      "Multiprocessing workers: 8\n"
     ]
    },
    {
     "name": "stderr",
     "output_type": "stream",
     "text": [
      "\r",
      "  4%|▎         | 41/1100 [11:53<5:42:33, 19.41s/it]"
     ]
    },
    {
     "name": "stdout",
     "output_type": "stream",
     "text": [
      "Scraping images for class \"sequencer\"\n",
      "Multiprocessing workers: 8\n"
     ]
    },
    {
     "name": "stderr",
     "output_type": "stream",
     "text": [
      "\r",
      "  4%|▍         | 42/1100 [12:13<5:46:43, 19.66s/it]"
     ]
    },
    {
     "name": "stdout",
     "output_type": "stream",
     "text": [
      "Scraping images for class \"bread dough\"\n",
      "Multiprocessing workers: 8\n",
      "\n",
      "Scraping stats:\n",
      "STATS For class is_flickr:\n",
      " tried 996.0 urls with 624.0 successes\n",
      "62.65060240963855% success rate for is_flickr urls \n",
      "1.1799619751217632 seconds spent per is_flickr succesful image download\n",
      "STATS For class not_flickr:\n",
      " tried 0.0 urls with 0.0 successes\n",
      "STATS For class all:\n",
      " tried 996.0 urls with 624.0 successes\n",
      "62.65060240963855% success rate for all urls \n",
      "1.179718717168539 seconds spent per all succesful image download\n"
     ]
    },
    {
     "name": "stderr",
     "output_type": "stream",
     "text": [
      "\r",
      "  4%|▍         | 43/1100 [12:35<6:01:47, 20.54s/it]"
     ]
    },
    {
     "name": "stdout",
     "output_type": "stream",
     "text": [
      "Scraping images for class \"alehouse\"\n",
      "Multiprocessing workers: 8\n"
     ]
    },
    {
     "name": "stderr",
     "output_type": "stream",
     "text": [
      "\r",
      "  4%|▍         | 44/1100 [12:48<5:19:52, 18.18s/it]"
     ]
    },
    {
     "name": "stdout",
     "output_type": "stream",
     "text": [
      "Scraping images for class \"cock of the rock\"\n",
      "Multiprocessing workers: 8\n"
     ]
    },
    {
     "name": "stderr",
     "output_type": "stream",
     "text": [
      "\r",
      "  4%|▍         | 45/1100 [13:13<5:53:26, 20.10s/it]"
     ]
    },
    {
     "name": "stdout",
     "output_type": "stream",
     "text": [
      "Scraping images for class \"asp\"\n",
      "Multiprocessing workers: 8\n"
     ]
    },
    {
     "name": "stderr",
     "output_type": "stream",
     "text": [
      "\r",
      "  4%|▍         | 46/1100 [13:22<4:54:37, 16.77s/it]"
     ]
    },
    {
     "name": "stdout",
     "output_type": "stream",
     "text": [
      "Scraping images for class \"gasmask\"\n",
      "Multiprocessing workers: 8\n"
     ]
    },
    {
     "name": "stderr",
     "output_type": "stream",
     "text": [
      "\r",
      "  4%|▍         | 47/1100 [13:36<4:40:38, 15.99s/it]"
     ]
    },
    {
     "name": "stdout",
     "output_type": "stream",
     "text": [
      "Scraping images for class \"bass guitar\"\n",
      "Multiprocessing workers: 8\n"
     ]
    },
    {
     "name": "stderr",
     "output_type": "stream",
     "text": [
      "\r",
      "  4%|▍         | 48/1100 [13:58<5:11:32, 17.77s/it]"
     ]
    },
    {
     "name": "stdout",
     "output_type": "stream",
     "text": [
      "Scraping images for class \"poppy\"\n",
      "Multiprocessing workers: 8\n"
     ]
    },
    {
     "name": "stderr",
     "output_type": "stream",
     "text": [
      "\r",
      "  4%|▍         | 49/1100 [14:31<6:30:44, 22.31s/it]"
     ]
    },
    {
     "name": "stdout",
     "output_type": "stream",
     "text": [
      "Scraping images for class \"panther\"\n",
      "Multiprocessing workers: 8\n"
     ]
    },
    {
     "name": "stderr",
     "output_type": "stream",
     "text": [
      "\r",
      "  5%|▍         | 50/1100 [14:49<6:07:35, 21.01s/it]"
     ]
    },
    {
     "name": "stdout",
     "output_type": "stream",
     "text": [
      "Scraping images for class \"ridge\"\n",
      "Multiprocessing workers: 8\n"
     ]
    },
    {
     "name": "stderr",
     "output_type": "stream",
     "text": [
      "\r",
      "  5%|▌         | 57/1100 [16:55<6:49:21, 23.55s/it]"
     ]
    },
    {
     "name": "stdout",
     "output_type": "stream",
     "text": [
      "Scraping images for class \"valerian\"\n",
      "Multiprocessing workers: 8\n"
     ]
    },
    {
     "name": "stderr",
     "output_type": "stream",
     "text": [
      "\r",
      "  5%|▌         | 58/1100 [17:09<5:58:33, 20.65s/it]"
     ]
    },
    {
     "name": "stdout",
     "output_type": "stream",
     "text": [
      "Scraping images for class \"television antenna\"\n",
      "Multiprocessing workers: 8\n"
     ]
    },
    {
     "name": "stderr",
     "output_type": "stream",
     "text": [
      "\r",
      "  5%|▌         | 59/1100 [17:17<4:54:29, 16.97s/it]"
     ]
    },
    {
     "name": "stdout",
     "output_type": "stream",
     "text": [
      "Scraping images for class \"climbing frame\"\n",
      "Multiprocessing workers: 8\n"
     ]
    },
    {
     "name": "stderr",
     "output_type": "stream",
     "text": [
      "\r",
      "  5%|▌         | 60/1100 [17:40<5:21:04, 18.52s/it]"
     ]
    },
    {
     "name": "stdout",
     "output_type": "stream",
     "text": [
      "Scraping images for class \"cornetfish\"\n",
      "Multiprocessing workers: 8\n"
     ]
    },
    {
     "name": "stderr",
     "output_type": "stream",
     "text": [
      "\r",
      "  6%|▌         | 61/1100 [17:42<3:59:10, 13.81s/it]"
     ]
    },
    {
     "name": "stdout",
     "output_type": "stream",
     "text": [
      "Scraping images for class \"helminth\"\n",
      "Multiprocessing workers: 8\n"
     ]
    },
    {
     "name": "stderr",
     "output_type": "stream",
     "text": [
      "\r",
      "  6%|▌         | 62/1100 [17:50<3:28:32, 12.05s/it]"
     ]
    },
    {
     "name": "stdout",
     "output_type": "stream",
     "text": [
      "Scraping images for class \"Tartuffe\"\n",
      "Multiprocessing workers: 8\n"
     ]
    },
    {
     "name": "stderr",
     "output_type": "stream",
     "text": [
      "\r",
      "  6%|▌         | 63/1100 [18:03<3:29:58, 12.15s/it]"
     ]
    },
    {
     "name": "stdout",
     "output_type": "stream",
     "text": [
      "Scraping images for class \"header\"\n",
      "Multiprocessing workers: 8\n"
     ]
    },
    {
     "name": "stderr",
     "output_type": "stream",
     "text": [
      "\r",
      "  6%|▌         | 64/1100 [18:05<2:39:12,  9.22s/it]"
     ]
    },
    {
     "name": "stdout",
     "output_type": "stream",
     "text": [
      "Scraping images for class \"push button\"\n",
      "Multiprocessing workers: 8\n"
     ]
    },
    {
     "name": "stderr",
     "output_type": "stream",
     "text": [
      "\r",
      "  6%|▌         | 65/1100 [18:13<2:33:29,  8.90s/it]"
     ]
    },
    {
     "name": "stdout",
     "output_type": "stream",
     "text": [
      "Scraping images for class \"kneeler\"\n",
      "Multiprocessing workers: 8\n",
      "\n",
      "Scraping stats:\n",
      "STATS For class is_flickr:\n",
      " tried 1495.0 urls with 954.0 successes\n",
      "63.812709030100336% success rate for is_flickr urls \n",
      "1.1474987328427393 seconds spent per is_flickr succesful image download\n",
      "STATS For class not_flickr:\n",
      " tried 0.0 urls with 0.0 successes\n",
      "STATS For class all:\n",
      " tried 1495.0 urls with 954.0 successes\n",
      "63.812709030100336% success rate for all urls \n",
      "1.1475336986517757 seconds spent per all succesful image download\n"
     ]
    },
    {
     "name": "stderr",
     "output_type": "stream",
     "text": [
      "\r",
      "  6%|▌         | 66/1100 [18:20<2:23:16,  8.31s/it]"
     ]
    },
    {
     "name": "stdout",
     "output_type": "stream",
     "text": [
      "Scraping images for class \"impala lily\"\n",
      "Multiprocessing workers: 8\n"
     ]
    },
    {
     "name": "stderr",
     "output_type": "stream",
     "text": [
      "\r",
      "  6%|▌         | 67/1100 [18:28<2:22:24,  8.27s/it]"
     ]
    },
    {
     "name": "stdout",
     "output_type": "stream",
     "text": [
      "Scraping images for class \"plum sauce\"\n",
      "Multiprocessing workers: 8\n"
     ]
    },
    {
     "name": "stderr",
     "output_type": "stream",
     "text": [
      "\r",
      "  6%|▌         | 68/1100 [18:36<2:19:16,  8.10s/it]"
     ]
    },
    {
     "name": "stdout",
     "output_type": "stream",
     "text": [
      "Scraping images for class \"drinking vessel\"\n",
      "Multiprocessing workers: 8\n"
     ]
    },
    {
     "name": "stderr",
     "output_type": "stream",
     "text": [
      "\r",
      "  6%|▋         | 69/1100 [18:49<2:43:02,  9.49s/it]"
     ]
    },
    {
     "name": "stdout",
     "output_type": "stream",
     "text": [
      "Scraping images for class \"common fennel\"\n",
      "Multiprocessing workers: 8\n"
     ]
    },
    {
     "name": "stderr",
     "output_type": "stream",
     "text": [
      "\r",
      "  6%|▋         | 70/1100 [19:07<3:26:53, 12.05s/it]"
     ]
    },
    {
     "name": "stdout",
     "output_type": "stream",
     "text": [
      "Scraping images for class \"green alder\"\n",
      "Multiprocessing workers: 8\n"
     ]
    },
    {
     "name": "stderr",
     "output_type": "stream",
     "text": [
      "\r",
      "  6%|▋         | 71/1100 [19:38<5:07:14, 17.92s/it]"
     ]
    },
    {
     "name": "stdout",
     "output_type": "stream",
     "text": [
      "Scraping images for class \"espionage agent\"\n",
      "Multiprocessing workers: 8\n"
     ]
    },
    {
     "name": "stderr",
     "output_type": "stream",
     "text": [
      "\r",
      "  7%|▋         | 72/1100 [19:46<4:12:47, 14.75s/it]"
     ]
    },
    {
     "name": "stdout",
     "output_type": "stream",
     "text": [
      "Scraping images for class \"autopilot\"\n",
      "Multiprocessing workers: 8\n"
     ]
    },
    {
     "name": "stderr",
     "output_type": "stream",
     "text": [
      "\r",
      "  7%|▋         | 73/1100 [20:29<6:41:02, 23.43s/it]"
     ]
    },
    {
     "name": "stdout",
     "output_type": "stream",
     "text": [
      "Scraping images for class \"motor vehicle\"\n",
      "Multiprocessing workers: 8\n"
     ]
    },
    {
     "name": "stderr",
     "output_type": "stream",
     "text": [
      "\r",
      "  7%|▋         | 74/1100 [21:03<7:31:29, 26.40s/it]"
     ]
    },
    {
     "name": "stdout",
     "output_type": "stream",
     "text": [
      "Scraping images for class \"footlocker\"\n",
      "Multiprocessing workers: 8\n"
     ]
    },
    {
     "name": "stderr",
     "output_type": "stream",
     "text": [
      "\r",
      "  7%|▋         | 75/1100 [21:14<6:12:44, 21.82s/it]"
     ]
    },
    {
     "name": "stdout",
     "output_type": "stream",
     "text": [
      "Scraping images for class \"halibut\"\n",
      "Multiprocessing workers: 8\n"
     ]
    },
    {
     "name": "stderr",
     "output_type": "stream",
     "text": [
      "\r",
      "  7%|▋         | 76/1100 [21:17<4:34:14, 16.07s/it]"
     ]
    },
    {
     "name": "stdout",
     "output_type": "stream",
     "text": [
      "Scraping images for class \"newel post\"\n",
      "Multiprocessing workers: 8\n"
     ]
    },
    {
     "name": "stderr",
     "output_type": "stream",
     "text": [
      "\r",
      "  7%|▋         | 77/1100 [21:29<4:13:26, 14.86s/it]"
     ]
    },
    {
     "name": "stdout",
     "output_type": "stream",
     "text": [
      "Scraping images for class \"martello tower\"\n",
      "Multiprocessing workers: 8\n",
      "\n",
      "Scraping stats:\n",
      "STATS For class is_flickr:\n",
      " tried 1749.0 urls with 1123.0 successes\n",
      "64.20811892510005% success rate for is_flickr urls \n",
      "1.149257863088049 seconds spent per is_flickr succesful image download\n",
      "STATS For class not_flickr:\n",
      " tried 0.0 urls with 0.0 successes\n",
      "STATS For class all:\n",
      " tried 1749.0 urls with 1123.0 successes\n",
      "64.20811892510005% success rate for all urls \n",
      "1.1493015716039805 seconds spent per all succesful image download\n"
     ]
    },
    {
     "name": "stderr",
     "output_type": "stream",
     "text": [
      "\r",
      "  7%|▋         | 78/1100 [21:37<3:37:29, 12.77s/it]"
     ]
    },
    {
     "name": "stdout",
     "output_type": "stream",
     "text": [
      "Scraping images for class \"toy\"\n",
      "Multiprocessing workers: 8\n"
     ]
    },
    {
     "name": "stderr",
     "output_type": "stream",
     "text": [
      "\r",
      "  7%|▋         | 79/1100 [21:50<3:38:44, 12.85s/it]"
     ]
    },
    {
     "name": "stdout",
     "output_type": "stream",
     "text": [
      "Scraping images for class \"flintlock\"\n",
      "Multiprocessing workers: 8\n"
     ]
    },
    {
     "name": "stderr",
     "output_type": "stream",
     "text": [
      "\r",
      "  7%|▋         | 80/1100 [22:02<3:37:40, 12.80s/it]"
     ]
    },
    {
     "name": "stdout",
     "output_type": "stream",
     "text": [
      "Scraping images for class \"Hungarian sauce\"\n",
      "Multiprocessing workers: 8\n"
     ]
    },
    {
     "name": "stderr",
     "output_type": "stream",
     "text": [
      "\r",
      "  7%|▋         | 81/1100 [22:24<4:24:05, 15.55s/it]"
     ]
    },
    {
     "name": "stdout",
     "output_type": "stream",
     "text": [
      "Scraping images for class \"smut grass\"\n",
      "Multiprocessing workers: 8\n"
     ]
    },
    {
     "name": "stderr",
     "output_type": "stream",
     "text": [
      "\r",
      "  7%|▋         | 82/1100 [22:31<3:41:23, 13.05s/it]"
     ]
    },
    {
     "name": "stdout",
     "output_type": "stream",
     "text": [
      "Scraping images for class \"axseed\"\n",
      "Multiprocessing workers: 8\n"
     ]
    },
    {
     "name": "stderr",
     "output_type": "stream",
     "text": [
      "\r",
      "  8%|▊         | 83/1100 [22:55<4:35:37, 16.26s/it]"
     ]
    },
    {
     "name": "stdout",
     "output_type": "stream",
     "text": [
      "Scraping images for class \"blunderbuss\"\n",
      "Multiprocessing workers: 8\n"
     ]
    },
    {
     "name": "stderr",
     "output_type": "stream",
     "text": [
      "\r",
      "  8%|▊         | 84/1100 [23:14<4:48:15, 17.02s/it]"
     ]
    },
    {
     "name": "stdout",
     "output_type": "stream",
     "text": [
      "Scraping images for class \"chili\"\n",
      "Multiprocessing workers: 8\n"
     ]
    },
    {
     "name": "stderr",
     "output_type": "stream",
     "text": [
      "\r",
      "  8%|▊         | 85/1100 [23:47<6:06:45, 21.68s/it]"
     ]
    },
    {
     "name": "stdout",
     "output_type": "stream",
     "text": [
      "Scraping images for class \"flatfish\"\n",
      "Multiprocessing workers: 8\n"
     ]
    },
    {
     "name": "stderr",
     "output_type": "stream",
     "text": [
      "\r",
      "  8%|▊         | 86/1100 [24:14<6:37:04, 23.50s/it]"
     ]
    },
    {
     "name": "stdout",
     "output_type": "stream",
     "text": [
      "Scraping images for class \"lentil\"\n",
      "Multiprocessing workers: 8\n"
     ]
    },
    {
     "name": "stderr",
     "output_type": "stream",
     "text": [
      "\r",
      "  8%|▊         | 87/1100 [24:47<7:24:53, 26.35s/it]"
     ]
    },
    {
     "name": "stdout",
     "output_type": "stream",
     "text": [
      "Scraping images for class \"futon\"\n",
      "Multiprocessing workers: 8\n"
     ]
    },
    {
     "name": "stderr",
     "output_type": "stream",
     "text": [
      "\r",
      "  8%|▊         | 88/1100 [25:00<6:15:37, 22.27s/it]"
     ]
    },
    {
     "name": "stdout",
     "output_type": "stream",
     "text": [
      "Scraping images for class \"bustle\"\n",
      "Multiprocessing workers: 8\n",
      "\n",
      "Scraping stats:\n",
      "STATS For class is_flickr:\n",
      " tried 1992.0 urls with 1279.0 successes\n",
      "64.20682730923694% success rate for is_flickr urls \n",
      "1.1750086421981465 seconds spent per is_flickr succesful image download\n",
      "STATS For class not_flickr:\n",
      " tried 0.0 urls with 0.0 successes\n",
      "STATS For class all:\n",
      " tried 1992.0 urls with 1279.0 successes\n",
      "64.20682730923694% success rate for all urls \n",
      "1.1750629788921436 seconds spent per all succesful image download\n"
     ]
    },
    {
     "name": "stderr",
     "output_type": "stream",
     "text": [
      "\r",
      "  8%|▊         | 89/1100 [25:13<5:29:39, 19.56s/it]"
     ]
    },
    {
     "name": "stdout",
     "output_type": "stream",
     "text": [
      "Scraping images for class \"rotgut\"\n",
      "Multiprocessing workers: 8\n"
     ]
    },
    {
     "name": "stderr",
     "output_type": "stream",
     "text": [
      "\r",
      "  8%|▊         | 90/1100 [25:26<4:52:46, 17.39s/it]"
     ]
    },
    {
     "name": "stdout",
     "output_type": "stream",
     "text": [
      "Scraping images for class \"building\"\n",
      "Multiprocessing workers: 8\n"
     ]
    },
    {
     "name": "stderr",
     "output_type": "stream",
     "text": [
      "\r",
      "  8%|▊         | 91/1100 [25:34<4:05:39, 14.61s/it]"
     ]
    },
    {
     "name": "stdout",
     "output_type": "stream",
     "text": [
      "Scraping images for class \"pelagic bird\"\n",
      "Multiprocessing workers: 8\n"
     ]
    },
    {
     "name": "stderr",
     "output_type": "stream",
     "text": [
      "\r",
      "  8%|▊         | 92/1100 [25:47<3:59:59, 14.29s/it]"
     ]
    },
    {
     "name": "stdout",
     "output_type": "stream",
     "text": [
      "Scraping images for class \"Fauve\"\n",
      "Multiprocessing workers: 8\n"
     ]
    },
    {
     "name": "stderr",
     "output_type": "stream",
     "text": [
      "\r",
      "  8%|▊         | 93/1100 [25:56<3:30:39, 12.55s/it]"
     ]
    },
    {
     "name": "stdout",
     "output_type": "stream",
     "text": [
      "Scraping images for class \"pumpkin\"\n",
      "Multiprocessing workers: 8\n"
     ]
    },
    {
     "name": "stderr",
     "output_type": "stream",
     "text": [
      "\r",
      "  9%|▊         | 94/1100 [26:18<4:16:52, 15.32s/it]"
     ]
    },
    {
     "name": "stdout",
     "output_type": "stream",
     "text": [
      "Scraping images for class \"rockfish\"\n",
      "Multiprocessing workers: 8\n"
     ]
    },
    {
     "name": "stderr",
     "output_type": "stream",
     "text": [
      "\r",
      "  9%|▊         | 95/1100 [26:27<3:48:23, 13.63s/it]"
     ]
    },
    {
     "name": "stdout",
     "output_type": "stream",
     "text": [
      "Scraping images for class \"newsstand\"\n",
      "Multiprocessing workers: 8\n"
     ]
    },
    {
     "name": "stderr",
     "output_type": "stream",
     "text": [
      "\r",
      "  9%|▊         | 96/1100 [26:40<3:46:10, 13.52s/it]"
     ]
    },
    {
     "name": "stdout",
     "output_type": "stream",
     "text": [
      "Scraping images for class \"generator\"\n",
      "Multiprocessing workers: 8\n"
     ]
    },
    {
     "name": "stderr",
     "output_type": "stream",
     "text": [
      "\r",
      "  9%|▉         | 97/1100 [27:19<5:53:11, 21.13s/it]"
     ]
    },
    {
     "name": "stdout",
     "output_type": "stream",
     "text": [
      "Scraping images for class \"cork tree\"\n",
      "Multiprocessing workers: 8\n"
     ]
    },
    {
     "name": "stderr",
     "output_type": "stream",
     "text": [
      "\r",
      "  9%|▉         | 98/1100 [27:32<5:08:31, 18.47s/it]"
     ]
    },
    {
     "name": "stdout",
     "output_type": "stream",
     "text": [
      "Scraping images for class \"wild madder\"\n",
      "Multiprocessing workers: 8\n"
     ]
    },
    {
     "name": "stderr",
     "output_type": "stream",
     "text": [
      "\r",
      "  9%|▉         | 99/1100 [28:00<5:58:36, 21.49s/it]"
     ]
    },
    {
     "name": "stdout",
     "output_type": "stream",
     "text": [
      "Scraping images for class \"king penguin\"\n",
      "Multiprocessing workers: 8\n",
      "\n",
      "Scraping stats:\n",
      "STATS For class is_flickr:\n",
      " tried 2244.0 urls with 1434.0 successes\n",
      "63.903743315508024% success rate for is_flickr urls \n",
      "1.1895210924602566 seconds spent per is_flickr succesful image download\n",
      "STATS For class not_flickr:\n",
      " tried 0.0 urls with 0.0 successes\n",
      "STATS For class all:\n",
      " tried 2244.0 urls with 1434.0 successes\n",
      "63.903743315508024% success rate for all urls \n",
      "1.187957418347336 seconds spent per all succesful image download\n"
     ]
    },
    {
     "name": "stderr",
     "output_type": "stream",
     "text": [
      "\r",
      "  9%|▉         | 100/1100 [28:43<7:46:15, 27.98s/it]"
     ]
    },
    {
     "name": "stdout",
     "output_type": "stream",
     "text": [
      "Scraping images for class \"domino\"\n",
      "Multiprocessing workers: 8\n"
     ]
    },
    {
     "name": "stderr",
     "output_type": "stream",
     "text": [
      "\r",
      "  9%|▉         | 101/1100 [28:56<6:31:27, 23.51s/it]"
     ]
    },
    {
     "name": "stdout",
     "output_type": "stream",
     "text": [
      "Scraping images for class \"apple mint\"\n",
      "Multiprocessing workers: 8\n"
     ]
    },
    {
     "name": "stderr",
     "output_type": "stream",
     "text": [
      "\r",
      "  9%|▉         | 102/1100 [29:19<6:27:14, 23.28s/it]"
     ]
    },
    {
     "name": "stdout",
     "output_type": "stream",
     "text": [
      "Scraping images for class \"cigar smoker\"\n",
      "Multiprocessing workers: 8\n"
     ]
    },
    {
     "name": "stderr",
     "output_type": "stream",
     "text": [
      "\r",
      "  9%|▉         | 103/1100 [29:37<5:58:54, 21.60s/it]"
     ]
    },
    {
     "name": "stdout",
     "output_type": "stream",
     "text": [
      "Scraping images for class \"long trousers\"\n",
      "Multiprocessing workers: 8\n"
     ]
    },
    {
     "name": "stderr",
     "output_type": "stream",
     "text": [
      "\r",
      "  9%|▉         | 104/1100 [29:40<4:26:12, 16.04s/it]"
     ]
    },
    {
     "name": "stdout",
     "output_type": "stream",
     "text": [
      "Scraping images for class \"fishhook\"\n",
      "Multiprocessing workers: 8\n"
     ]
    },
    {
     "name": "stderr",
     "output_type": "stream",
     "text": [
      "\r",
      " 10%|▉         | 105/1100 [29:53<4:09:24, 15.04s/it]"
     ]
    },
    {
     "name": "stdout",
     "output_type": "stream",
     "text": [
      "Scraping images for class \"solar heater\"\n",
      "Multiprocessing workers: 8\n"
     ]
    },
    {
     "name": "stderr",
     "output_type": "stream",
     "text": [
      "\r",
      " 10%|▉         | 106/1100 [30:00<3:33:21, 12.88s/it]"
     ]
    },
    {
     "name": "stdout",
     "output_type": "stream",
     "text": [
      "Scraping images for class \"textile screw pine\"\n",
      "Multiprocessing workers: 8\n"
     ]
    },
    {
     "name": "stderr",
     "output_type": "stream",
     "text": [
      "\r",
      " 10%|▉         | 107/1100 [30:14<3:37:23, 13.14s/it]"
     ]
    },
    {
     "name": "stdout",
     "output_type": "stream",
     "text": [
      "Scraping images for class \"mandarin\"\n",
      "Multiprocessing workers: 8\n"
     ]
    },
    {
     "name": "stderr",
     "output_type": "stream",
     "text": [
      "\r",
      " 10%|▉         | 108/1100 [30:22<3:11:20, 11.57s/it]"
     ]
    },
    {
     "name": "stdout",
     "output_type": "stream",
     "text": [
      "Scraping images for class \"radio compass\"\n",
      "Multiprocessing workers: 8\n"
     ]
    },
    {
     "name": "stderr",
     "output_type": "stream",
     "text": [
      "\r",
      " 10%|▉         | 109/1100 [30:25<2:26:00,  8.84s/it]"
     ]
    },
    {
     "name": "stdout",
     "output_type": "stream",
     "text": [
      "Scraping images for class \"darling\"\n",
      "Multiprocessing workers: 8\n"
     ]
    },
    {
     "name": "stderr",
     "output_type": "stream",
     "text": [
      "\r",
      " 10%|█         | 110/1100 [30:34<2:28:25,  9.00s/it]"
     ]
    },
    {
     "name": "stdout",
     "output_type": "stream",
     "text": [
      "Scraping images for class \"gazpacho\"\n",
      "Multiprocessing workers: 8\n",
      "\n",
      "Scraping stats:\n",
      "STATS For class is_flickr:\n",
      " tried 2492.0 urls with 1611.0 successes\n",
      "64.64686998394863% success rate for is_flickr urls \n",
      "1.1439861018490451 seconds spent per is_flickr succesful image download\n",
      "STATS For class not_flickr:\n",
      " tried 0.0 urls with 0.0 successes\n",
      "STATS For class all:\n",
      " tried 2492.0 urls with 1611.0 successes\n",
      "64.64686998394863% success rate for all urls \n",
      "1.1440149479812158 seconds spent per all succesful image download\n"
     ]
    },
    {
     "name": "stderr",
     "output_type": "stream",
     "text": [
      "\r",
      " 10%|█         | 111/1100 [30:47<2:49:06, 10.26s/it]"
     ]
    },
    {
     "name": "stdout",
     "output_type": "stream",
     "text": [
      "Scraping images for class \"copper\"\n",
      "Multiprocessing workers: 8\n"
     ]
    },
    {
     "name": "stderr",
     "output_type": "stream",
     "text": [
      "\r",
      " 10%|█         | 112/1100 [30:55<2:36:06,  9.48s/it]"
     ]
    },
    {
     "name": "stdout",
     "output_type": "stream",
     "text": [
      "Scraping images for class \"moon shell\"\n",
      "Multiprocessing workers: 8\n"
     ]
    },
    {
     "name": "stderr",
     "output_type": "stream",
     "text": [
      "\r",
      " 10%|█         | 113/1100 [31:08<2:53:37, 10.55s/it]"
     ]
    },
    {
     "name": "stdout",
     "output_type": "stream",
     "text": [
      "Scraping images for class \"mechanical device\"\n",
      "Multiprocessing workers: 8\n"
     ]
    },
    {
     "name": "stderr",
     "output_type": "stream",
     "text": [
      "\r",
      " 10%|█         | 114/1100 [31:17<2:44:07,  9.99s/it]"
     ]
    },
    {
     "name": "stdout",
     "output_type": "stream",
     "text": [
      "Scraping images for class \"godfather\"\n",
      "Multiprocessing workers: 8\n"
     ]
    },
    {
     "name": "stderr",
     "output_type": "stream",
     "text": [
      "\r",
      " 10%|█         | 115/1100 [31:30<3:00:51, 11.02s/it]"
     ]
    },
    {
     "name": "stdout",
     "output_type": "stream",
     "text": [
      "Scraping images for class \"stun gun\"\n",
      "Multiprocessing workers: 8\n"
     ]
    },
    {
     "name": "stderr",
     "output_type": "stream",
     "text": [
      "\r",
      " 11%|█         | 116/1100 [31:39<2:50:00, 10.37s/it]"
     ]
    },
    {
     "name": "stdout",
     "output_type": "stream",
     "text": [
      "Scraping images for class \"cyme\"\n",
      "Multiprocessing workers: 8\n"
     ]
    },
    {
     "name": "stderr",
     "output_type": "stream",
     "text": [
      "\r",
      " 11%|█         | 117/1100 [31:42<2:12:51,  8.11s/it]"
     ]
    },
    {
     "name": "stdout",
     "output_type": "stream",
     "text": [
      "Scraping images for class \"common matrimony vine\"\n",
      "Multiprocessing workers: 8\n"
     ]
    },
    {
     "name": "stderr",
     "output_type": "stream",
     "text": [
      "\r",
      " 11%|█         | 118/1100 [32:16<4:19:55, 15.88s/it]"
     ]
    },
    {
     "name": "stdout",
     "output_type": "stream",
     "text": [
      "Scraping images for class \"pants suit\"\n",
      "Multiprocessing workers: 8\n"
     ]
    },
    {
     "name": "stderr",
     "output_type": "stream",
     "text": [
      "\r",
      " 11%|█         | 119/1100 [32:25<3:47:36, 13.92s/it]"
     ]
    },
    {
     "name": "stdout",
     "output_type": "stream",
     "text": [
      "Scraping images for class \"parasail\"\n",
      "Multiprocessing workers: 8\n"
     ]
    },
    {
     "name": "stderr",
     "output_type": "stream",
     "text": [
      "\r",
      " 11%|█         | 120/1100 [32:43<4:05:55, 15.06s/it]"
     ]
    },
    {
     "name": "stdout",
     "output_type": "stream",
     "text": [
      "Scraping images for class \"roughcast\"\n",
      "Multiprocessing workers: 8\n"
     ]
    },
    {
     "name": "stderr",
     "output_type": "stream",
     "text": [
      "\r",
      " 11%|█         | 121/1100 [33:07<4:51:09, 17.84s/it]"
     ]
    },
    {
     "name": "stdout",
     "output_type": "stream",
     "text": [
      "Scraping images for class \"sailfish\"\n",
      "Multiprocessing workers: 8\n"
     ]
    },
    {
     "name": "stderr",
     "output_type": "stream",
     "text": [
      "\r",
      " 11%|█         | 122/1100 [33:31<5:22:02, 19.76s/it]"
     ]
    },
    {
     "name": "stdout",
     "output_type": "stream",
     "text": [
      "Scraping images for class \"yellowwood\"\n",
      "Multiprocessing workers: 8\n",
      "\n",
      "Scraping stats:\n",
      "STATS For class is_flickr:\n",
      " tried 2746.0 urls with 1768.0 successes\n",
      "64.38455935906774% success rate for is_flickr urls \n",
      "1.1388948447833773 seconds spent per is_flickr succesful image download\n",
      "STATS For class not_flickr:\n",
      " tried 0.0 urls with 0.0 successes\n",
      "STATS For class all:\n",
      " tried 2746.0 urls with 1768.0 successes\n",
      "64.38455935906774% success rate for all urls \n",
      "1.1388967177447151 seconds spent per all succesful image download\n"
     ]
    },
    {
     "name": "stderr",
     "output_type": "stream",
     "text": [
      "\r",
      " 11%|█         | 123/1100 [34:05<6:30:49, 24.00s/it]"
     ]
    },
    {
     "name": "stdout",
     "output_type": "stream",
     "text": [
      "Scraping images for class \"scholar\"\n",
      "Multiprocessing workers: 8\n"
     ]
    },
    {
     "name": "stderr",
     "output_type": "stream",
     "text": [
      "\r",
      " 11%|█▏        | 124/1100 [34:19<5:43:09, 21.10s/it]"
     ]
    },
    {
     "name": "stdout",
     "output_type": "stream",
     "text": [
      "Scraping images for class \"beeper\"\n",
      "Multiprocessing workers: 8\n"
     ]
    },
    {
     "name": "stderr",
     "output_type": "stream",
     "text": [
      "\r",
      " 11%|█▏        | 125/1100 [34:38<5:30:57, 20.37s/it]"
     ]
    },
    {
     "name": "stdout",
     "output_type": "stream",
     "text": [
      "Scraping images for class \"snow bunting\"\n",
      "Multiprocessing workers: 8\n"
     ]
    },
    {
     "name": "stderr",
     "output_type": "stream",
     "text": [
      "\r",
      " 11%|█▏        | 126/1100 [34:41<4:06:19, 15.17s/it]"
     ]
    },
    {
     "name": "stdout",
     "output_type": "stream",
     "text": [
      "Scraping images for class \"earphone\"\n",
      "Multiprocessing workers: 8\n"
     ]
    },
    {
     "name": "stderr",
     "output_type": "stream",
     "text": [
      "\r",
      " 12%|█▏        | 127/1100 [34:50<3:32:41, 13.12s/it]"
     ]
    },
    {
     "name": "stdout",
     "output_type": "stream",
     "text": [
      "Scraping images for class \"sandpiper\"\n",
      "Multiprocessing workers: 8\n"
     ]
    },
    {
     "name": "stderr",
     "output_type": "stream",
     "text": [
      "\r",
      " 12%|█▏        | 128/1100 [34:53<2:43:56, 10.12s/it]"
     ]
    },
    {
     "name": "stdout",
     "output_type": "stream",
     "text": [
      "Scraping images for class \"goldfields\"\n",
      "Multiprocessing workers: 8\n"
     ]
    },
    {
     "name": "stderr",
     "output_type": "stream",
     "text": [
      "\r",
      " 12%|█▏        | 129/1100 [35:04<2:49:19, 10.46s/it]"
     ]
    },
    {
     "name": "stdout",
     "output_type": "stream",
     "text": [
      "Scraping images for class \"ditty bag\"\n",
      "Multiprocessing workers: 8\n"
     ]
    },
    {
     "name": "stderr",
     "output_type": "stream",
     "text": [
      "\r",
      " 12%|█▏        | 130/1100 [35:26<3:46:14, 13.99s/it]"
     ]
    },
    {
     "name": "stdout",
     "output_type": "stream",
     "text": [
      "Scraping images for class \"schnapps\"\n",
      "Multiprocessing workers: 8\n"
     ]
    },
    {
     "name": "stderr",
     "output_type": "stream",
     "text": [
      "\r",
      " 12%|█▏        | 131/1100 [35:34<3:17:05, 12.20s/it]"
     ]
    },
    {
     "name": "stdout",
     "output_type": "stream",
     "text": [
      "Scraping images for class \"queen\"\n",
      "Multiprocessing workers: 8\n"
     ]
    },
    {
     "name": "stderr",
     "output_type": "stream",
     "text": [
      "\r",
      " 12%|█▏        | 132/1100 [35:47<3:21:50, 12.51s/it]"
     ]
    },
    {
     "name": "stdout",
     "output_type": "stream",
     "text": [
      "Scraping images for class \"cittern\"\n",
      "Multiprocessing workers: 8\n"
     ]
    },
    {
     "name": "stderr",
     "output_type": "stream",
     "text": [
      "\r",
      " 12%|█▏        | 133/1100 [35:58<3:12:12, 11.93s/it]"
     ]
    },
    {
     "name": "stdout",
     "output_type": "stream",
     "text": [
      "Scraping images for class \"sunflower\"\n",
      "Multiprocessing workers: 8\n",
      "\n",
      "Scraping stats:\n",
      "STATS For class is_flickr:\n",
      " tried 2992.0 urls with 1939.0 successes\n",
      "64.80614973262033% success rate for is_flickr urls \n",
      "1.1144789584584307 seconds spent per is_flickr succesful image download\n",
      "STATS For class not_flickr:\n",
      " tried 0.0 urls with 0.0 successes\n",
      "STATS For class all:\n",
      " tried 2992.0 urls with 1939.0 successes\n",
      "64.80614973262033% success rate for all urls \n",
      "1.1144826139230712 seconds spent per all succesful image download\n"
     ]
    },
    {
     "name": "stderr",
     "output_type": "stream",
     "text": [
      "\r",
      " 12%|█▏        | 134/1100 [36:06<2:54:40, 10.85s/it]"
     ]
    },
    {
     "name": "stdout",
     "output_type": "stream",
     "text": [
      "Scraping images for class \"analog watch\"\n",
      "Multiprocessing workers: 8\n"
     ]
    },
    {
     "name": "stderr",
     "output_type": "stream",
     "text": [
      "\r",
      " 12%|█▏        | 135/1100 [36:09<2:15:08,  8.40s/it]"
     ]
    },
    {
     "name": "stdout",
     "output_type": "stream",
     "text": [
      "Scraping images for class \"reptile\"\n",
      "Multiprocessing workers: 8\n"
     ]
    },
    {
     "name": "stderr",
     "output_type": "stream",
     "text": [
      "\r",
      " 12%|█▏        | 136/1100 [36:21<2:32:00,  9.46s/it]"
     ]
    },
    {
     "name": "stdout",
     "output_type": "stream",
     "text": [
      "Scraping images for class \"yellowlegs\"\n",
      "Multiprocessing workers: 8\n"
     ]
    },
    {
     "name": "stderr",
     "output_type": "stream",
     "text": [
      "\r",
      " 12%|█▏        | 137/1100 [36:40<3:16:51, 12.27s/it]"
     ]
    },
    {
     "name": "stdout",
     "output_type": "stream",
     "text": [
      "Scraping images for class \"ruddy duck\"\n",
      "Multiprocessing workers: 8\n"
     ]
    },
    {
     "name": "stderr",
     "output_type": "stream",
     "text": [
      "\r",
      " 13%|█▎        | 138/1100 [36:43<2:31:42,  9.46s/it]"
     ]
    },
    {
     "name": "stdout",
     "output_type": "stream",
     "text": [
      "Scraping images for class \"jaguarundi\"\n",
      "Multiprocessing workers: 8\n"
     ]
    },
    {
     "name": "stderr",
     "output_type": "stream",
     "text": [
      "\r",
      " 13%|█▎        | 139/1100 [36:56<2:48:30, 10.52s/it]"
     ]
    },
    {
     "name": "stdout",
     "output_type": "stream",
     "text": [
      "Scraping images for class \"bench press\"\n",
      "Multiprocessing workers: 8\n"
     ]
    },
    {
     "name": "stderr",
     "output_type": "stream",
     "text": [
      "\r",
      " 13%|█▎        | 140/1100 [37:14<3:27:01, 12.94s/it]"
     ]
    },
    {
     "name": "stdout",
     "output_type": "stream",
     "text": [
      "Scraping images for class \"mocha\"\n",
      "Multiprocessing workers: 8\n"
     ]
    },
    {
     "name": "stderr",
     "output_type": "stream",
     "text": [
      "\r",
      " 13%|█▎        | 141/1100 [37:29<3:36:57, 13.57s/it]"
     ]
    },
    {
     "name": "stdout",
     "output_type": "stream",
     "text": [
      "Scraping images for class \"wild rosemary\"\n",
      "Multiprocessing workers: 8\n"
     ]
    },
    {
     "name": "stderr",
     "output_type": "stream",
     "text": [
      "\r",
      " 13%|█▎        | 142/1100 [37:37<3:08:42, 11.82s/it]"
     ]
    },
    {
     "name": "stdout",
     "output_type": "stream",
     "text": [
      "Scraping images for class \"altarpiece\"\n",
      "Multiprocessing workers: 8\n"
     ]
    },
    {
     "name": "stderr",
     "output_type": "stream",
     "text": [
      "\r",
      " 13%|█▎        | 143/1100 [38:02<4:11:49, 15.79s/it]"
     ]
    },
    {
     "name": "stdout",
     "output_type": "stream",
     "text": [
      "Scraping images for class \"wimp\"\n",
      "Multiprocessing workers: 8\n"
     ]
    },
    {
     "name": "stderr",
     "output_type": "stream",
     "text": [
      "\r",
      " 13%|█▎        | 144/1100 [38:10<3:36:09, 13.57s/it]"
     ]
    },
    {
     "name": "stdout",
     "output_type": "stream",
     "text": [
      "Scraping images for class \"beige\"\n",
      "Multiprocessing workers: 8\n",
      "\n",
      "Scraping stats:\n",
      "STATS For class is_flickr:\n",
      " tried 3242.0 urls with 2098.0 successes\n",
      "64.71314003701418% success rate for is_flickr urls \n",
      "1.094089469759662 seconds spent per is_flickr succesful image download\n",
      "STATS For class not_flickr:\n",
      " tried 0.0 urls with 0.0 successes\n",
      "STATS For class all:\n",
      " tried 3242.0 urls with 2098.0 successes\n",
      "64.71314003701418% success rate for all urls \n",
      "1.094097282002379 seconds spent per all succesful image download\n"
     ]
    },
    {
     "name": "stderr",
     "output_type": "stream",
     "text": [
      "\r",
      " 13%|█▎        | 145/1100 [38:24<3:38:04, 13.70s/it]"
     ]
    },
    {
     "name": "stdout",
     "output_type": "stream",
     "text": [
      "Scraping images for class \"framework\"\n",
      "Multiprocessing workers: 8\n"
     ]
    },
    {
     "name": "stderr",
     "output_type": "stream",
     "text": [
      "\r",
      " 13%|█▎        | 146/1100 [38:56<5:02:19, 19.01s/it]"
     ]
    },
    {
     "name": "stdout",
     "output_type": "stream",
     "text": [
      "Scraping images for class \"tree sparrow\"\n",
      "Multiprocessing workers: 8\n"
     ]
    },
    {
     "name": "stderr",
     "output_type": "stream",
     "text": [
      "\r",
      " 13%|█▎        | 147/1100 [38:59<3:45:34, 14.20s/it]"
     ]
    },
    {
     "name": "stdout",
     "output_type": "stream",
     "text": [
      "Scraping images for class \"cabin car\"\n",
      "Multiprocessing workers: 8\n"
     ]
    },
    {
     "name": "stderr",
     "output_type": "stream",
     "text": [
      "\r",
      " 13%|█▎        | 148/1100 [39:07<3:15:48, 12.34s/it]"
     ]
    },
    {
     "name": "stdout",
     "output_type": "stream",
     "text": [
      "Scraping images for class \"Leonberg\"\n",
      "Multiprocessing workers: 8\n"
     ]
    },
    {
     "name": "stderr",
     "output_type": "stream",
     "text": [
      "\r",
      " 14%|█▎        | 149/1100 [39:10<2:31:53,  9.58s/it]"
     ]
    },
    {
     "name": "stdout",
     "output_type": "stream",
     "text": [
      "Scraping images for class \"stateroom\"\n",
      "Multiprocessing workers: 8\n"
     ]
    },
    {
     "name": "stderr",
     "output_type": "stream",
     "text": [
      "\r",
      " 14%|█▎        | 150/1100 [39:18<2:24:31,  9.13s/it]"
     ]
    },
    {
     "name": "stdout",
     "output_type": "stream",
     "text": [
      "Scraping images for class \"appointee\"\n",
      "Multiprocessing workers: 8\n"
     ]
    },
    {
     "name": "stderr",
     "output_type": "stream",
     "text": [
      "\r",
      " 14%|█▎        | 151/1100 [39:21<1:56:10,  7.35s/it]"
     ]
    },
    {
     "name": "stdout",
     "output_type": "stream",
     "text": [
      "Scraping images for class \"bottle-nosed whale\"\n",
      "Multiprocessing workers: 8\n"
     ]
    },
    {
     "name": "stderr",
     "output_type": "stream",
     "text": [
      "\r",
      " 14%|█▍        | 152/1100 [39:39<2:46:16, 10.52s/it]"
     ]
    },
    {
     "name": "stdout",
     "output_type": "stream",
     "text": [
      "Scraping images for class \"jewelweed\"\n",
      "Multiprocessing workers: 8\n"
     ]
    },
    {
     "name": "stderr",
     "output_type": "stream",
     "text": [
      "\r",
      " 14%|█▍        | 153/1100 [39:42<2:11:25,  8.33s/it]"
     ]
    },
    {
     "name": "stdout",
     "output_type": "stream",
     "text": [
      "Scraping images for class \"loft\"\n",
      "Multiprocessing workers: 8\n"
     ]
    },
    {
     "name": "stderr",
     "output_type": "stream",
     "text": [
      "\r",
      " 14%|█▍        | 154/1100 [39:55<2:30:53,  9.57s/it]"
     ]
    },
    {
     "name": "stdout",
     "output_type": "stream",
     "text": [
      "Scraping images for class \"gooseneck loosestrife\"\n",
      "Multiprocessing workers: 8\n"
     ]
    },
    {
     "name": "stderr",
     "output_type": "stream",
     "text": [
      "\r",
      " 14%|█▍        | 155/1100 [40:02<2:19:49,  8.88s/it]"
     ]
    },
    {
     "name": "stdout",
     "output_type": "stream",
     "text": [
      "Scraping images for class \"ewe\"\n",
      "Multiprocessing workers: 8\n"
     ]
    },
    {
     "name": "stderr",
     "output_type": "stream",
     "text": [
      "\r",
      " 14%|█▍        | 156/1100 [40:05<1:53:15,  7.20s/it]"
     ]
    },
    {
     "name": "stdout",
     "output_type": "stream",
     "text": [
      "Scraping images for class \"vanilla pudding\"\n",
      "Multiprocessing workers: 8\n",
      "\n",
      "Scraping stats:\n",
      "STATS For class is_flickr:\n",
      " tried 3492.0 urls with 2292.0 successes\n",
      "65.63573883161511% success rate for is_flickr urls \n",
      "1.0550635831518322 seconds spent per is_flickr succesful image download\n",
      "STATS For class not_flickr:\n",
      " tried 0.0 urls with 0.0 successes\n",
      "STATS For class all:\n",
      " tried 3492.0 urls with 2292.0 successes\n",
      "65.63573883161511% success rate for all urls \n",
      "1.055070810501072 seconds spent per all succesful image download\n"
     ]
    },
    {
     "name": "stderr",
     "output_type": "stream",
     "text": [
      "\r",
      " 14%|█▍        | 157/1100 [40:18<2:18:23,  8.81s/it]"
     ]
    },
    {
     "name": "stdout",
     "output_type": "stream",
     "text": [
      "Scraping images for class \"garden trowel\"\n",
      "Multiprocessing workers: 8\n"
     ]
    },
    {
     "name": "stderr",
     "output_type": "stream",
     "text": [
      "\r",
      " 14%|█▍        | 158/1100 [40:25<2:12:22,  8.43s/it]"
     ]
    },
    {
     "name": "stdout",
     "output_type": "stream",
     "text": [
      "Scraping images for class \"eastern indigo snake\"\n",
      "Multiprocessing workers: 8\n"
     ]
    },
    {
     "name": "stderr",
     "output_type": "stream",
     "text": [
      "\r",
      " 14%|█▍        | 159/1100 [40:37<2:27:39,  9.42s/it]"
     ]
    },
    {
     "name": "stdout",
     "output_type": "stream",
     "text": [
      "Scraping images for class \"black currant\"\n",
      "Multiprocessing workers: 8\n"
     ]
    },
    {
     "name": "stderr",
     "output_type": "stream",
     "text": [
      "\r",
      " 15%|█▍        | 160/1100 [40:51<2:47:16, 10.68s/it]"
     ]
    },
    {
     "name": "stdout",
     "output_type": "stream",
     "text": [
      "Scraping images for class \"cheese pizza\"\n",
      "Multiprocessing workers: 8\n"
     ]
    },
    {
     "name": "stderr",
     "output_type": "stream",
     "text": [
      "\r",
      " 15%|█▍        | 161/1100 [40:59<2:35:36,  9.94s/it]"
     ]
    },
    {
     "name": "stdout",
     "output_type": "stream",
     "text": [
      "Scraping images for class \"raccoon\"\n",
      "Multiprocessing workers: 8\n"
     ]
    },
    {
     "name": "stderr",
     "output_type": "stream",
     "text": [
      "\r",
      " 15%|█▍        | 162/1100 [41:12<2:48:20, 10.77s/it]"
     ]
    },
    {
     "name": "stdout",
     "output_type": "stream",
     "text": [
      "Scraping images for class \"maar\"\n",
      "Multiprocessing workers: 8\n"
     ]
    },
    {
     "name": "stderr",
     "output_type": "stream",
     "text": [
      "\r",
      " 15%|█▍        | 163/1100 [41:32<3:33:55, 13.70s/it]"
     ]
    },
    {
     "name": "stdout",
     "output_type": "stream",
     "text": [
      "Scraping images for class \"poop deck\"\n",
      "Multiprocessing workers: 8\n"
     ]
    },
    {
     "name": "stderr",
     "output_type": "stream",
     "text": [
      "\r",
      " 15%|█▍        | 164/1100 [41:56<4:21:18, 16.75s/it]"
     ]
    },
    {
     "name": "stdout",
     "output_type": "stream",
     "text": [
      "Scraping images for class \"showplace\"\n",
      "Multiprocessing workers: 8\n"
     ]
    },
    {
     "name": "stderr",
     "output_type": "stream",
     "text": [
      "\r",
      " 15%|█▌        | 165/1100 [41:59<3:13:42, 12.43s/it]"
     ]
    },
    {
     "name": "stdout",
     "output_type": "stream",
     "text": [
      "Scraping images for class \"scented fern\"\n"
     ]
    },
    {
     "name": "stderr",
     "output_type": "stream",
     "text": [
      "\r",
      " 15%|█▌        | 166/1100 [42:19<3:49:22, 14.73s/it]"
     ]
    },
    {
     "name": "stdout",
     "output_type": "stream",
     "text": [
      "Scraping images for class \"hovercraft\"\n",
      "Multiprocessing workers: 8\n"
     ]
    },
    {
     "name": "stderr",
     "output_type": "stream",
     "text": [
      "\r",
      " 15%|█▌        | 167/1100 [42:35<3:54:32, 15.08s/it]"
     ]
    },
    {
     "name": "stdout",
     "output_type": "stream",
     "text": [
      "Scraping images for class \"round file\"\n",
      "Multiprocessing workers: 8\n"
     ]
    },
    {
     "name": "stderr",
     "output_type": "stream",
     "text": [
      "\r",
      " 15%|█▌        | 168/1100 [42:51<4:02:42, 15.62s/it]"
     ]
    },
    {
     "name": "stdout",
     "output_type": "stream",
     "text": [
      "Scraping images for class \"manhole cover\"\n",
      "Multiprocessing workers: 8\n"
     ]
    },
    {
     "name": "stderr",
     "output_type": "stream",
     "text": [
      "\r",
      " 15%|█▌        | 169/1100 [43:05<3:52:31, 14.99s/it]"
     ]
    },
    {
     "name": "stdout",
     "output_type": "stream",
     "text": [
      "Scraping images for class \"New World goldfinch\"\n",
      "Multiprocessing workers: 8\n"
     ]
    },
    {
     "name": "stderr",
     "output_type": "stream",
     "text": [
      "\r",
      " 16%|█▋        | 180/1100 [45:05<3:04:45, 12.05s/it]"
     ]
    },
    {
     "name": "stdout",
     "output_type": "stream",
     "text": [
      "Scraping images for class \"cinnamon\"\n",
      "Multiprocessing workers: 8\n"
     ]
    },
    {
     "name": "stderr",
     "output_type": "stream",
     "text": [
      "\r",
      " 16%|█▋        | 181/1100 [45:28<3:53:42, 15.26s/it]"
     ]
    },
    {
     "name": "stdout",
     "output_type": "stream",
     "text": [
      "Scraping images for class \"traveler\"\n",
      "Multiprocessing workers: 8\n",
      "\n",
      "Scraping stats:\n",
      "STATS For class is_flickr:\n",
      " tried 3993.0 urls with 2643.0 successes\n",
      "66.190833959429% success rate for is_flickr urls \n",
      "1.0337000221543993 seconds spent per is_flickr succesful image download\n",
      "STATS For class not_flickr:\n",
      " tried 0.0 urls with 0.0 successes\n",
      "STATS For class all:\n",
      " tried 3993.0 urls with 2643.0 successes\n",
      "66.190833959429% success rate for all urls \n",
      "1.033705757009771 seconds spent per all succesful image download\n"
     ]
    },
    {
     "name": "stderr",
     "output_type": "stream",
     "text": [
      "\r",
      " 17%|█▋        | 182/1100 [45:47<4:12:16, 16.49s/it]"
     ]
    },
    {
     "name": "stdout",
     "output_type": "stream",
     "text": [
      "Scraping images for class \"dent corn\"\n",
      "Multiprocessing workers: 8\n"
     ]
    },
    {
     "name": "stderr",
     "output_type": "stream",
     "text": [
      "\r",
      " 17%|█▋        | 183/1100 [46:26<5:54:08, 23.17s/it]"
     ]
    },
    {
     "name": "stdout",
     "output_type": "stream",
     "text": [
      "Scraping images for class \"tractor\"\n",
      "Multiprocessing workers: 8\n"
     ]
    },
    {
     "name": "stderr",
     "output_type": "stream",
     "text": [
      "\r",
      " 17%|█▋        | 184/1100 [46:29<4:21:59, 17.16s/it]"
     ]
    },
    {
     "name": "stdout",
     "output_type": "stream",
     "text": [
      "Scraping images for class \"electronic device\"\n",
      "Multiprocessing workers: 8\n"
     ]
    },
    {
     "name": "stderr",
     "output_type": "stream",
     "text": [
      "\r",
      " 17%|█▋        | 185/1100 [46:58<5:16:59, 20.79s/it]"
     ]
    },
    {
     "name": "stdout",
     "output_type": "stream",
     "text": [
      "Scraping images for class \"suitor\"\n",
      "Multiprocessing workers: 8\n"
     ]
    },
    {
     "name": "stderr",
     "output_type": "stream",
     "text": [
      "\r",
      " 17%|█▋        | 186/1100 [47:20<5:23:37, 21.24s/it]"
     ]
    },
    {
     "name": "stdout",
     "output_type": "stream",
     "text": [
      "Scraping images for class \"foot rule\"\n",
      "Multiprocessing workers: 8\n"
     ]
    },
    {
     "name": "stderr",
     "output_type": "stream",
     "text": [
      "\r",
      " 17%|█▋        | 187/1100 [47:33<4:43:17, 18.62s/it]"
     ]
    },
    {
     "name": "stdout",
     "output_type": "stream",
     "text": [
      "Scraping images for class \"hazelnut\"\n",
      "Multiprocessing workers: 8\n"
     ]
    },
    {
     "name": "stderr",
     "output_type": "stream",
     "text": [
      "\r",
      " 17%|█▋        | 188/1100 [47:46<4:19:14, 17.06s/it]"
     ]
    },
    {
     "name": "stdout",
     "output_type": "stream",
     "text": [
      "Scraping images for class \"large crabgrass\"\n",
      "Multiprocessing workers: 8\n"
     ]
    },
    {
     "name": "stderr",
     "output_type": "stream",
     "text": [
      "\r",
      " 17%|█▋        | 189/1100 [48:06<4:33:07, 17.99s/it]"
     ]
    },
    {
     "name": "stdout",
     "output_type": "stream",
     "text": [
      "Scraping images for class \"showy orchis\"\n",
      "Multiprocessing workers: 8\n"
     ]
    },
    {
     "name": "stderr",
     "output_type": "stream",
     "text": [
      "\r",
      " 17%|█▋        | 190/1100 [48:09<3:21:48, 13.31s/it]"
     ]
    },
    {
     "name": "stdout",
     "output_type": "stream",
     "text": [
      "Scraping images for class \"cheese souffle\"\n",
      "Multiprocessing workers: 8\n"
     ]
    },
    {
     "name": "stderr",
     "output_type": "stream",
     "text": [
      "\r",
      " 17%|█▋        | 191/1100 [48:17<2:59:19, 11.84s/it]"
     ]
    },
    {
     "name": "stdout",
     "output_type": "stream",
     "text": [
      "Scraping images for class \"battle dress\"\n",
      "Multiprocessing workers: 8\n",
      "\n",
      "Scraping stats:\n",
      "STATS For class is_flickr:\n",
      " tried 4242.0 urls with 2787.0 successes\n",
      "65.7001414427157% success rate for is_flickr urls \n",
      "1.0431905733799054 seconds spent per is_flickr succesful image download\n",
      "STATS For class not_flickr:\n",
      " tried 0.0 urls with 0.0 successes\n",
      "STATS For class all:\n",
      " tried 4242.0 urls with 2787.0 successes\n",
      "65.7001414427157% success rate for all urls \n",
      "1.0431958847162242 seconds spent per all succesful image download\n"
     ]
    },
    {
     "name": "stderr",
     "output_type": "stream",
     "text": [
      "\r",
      " 17%|█▋        | 192/1100 [48:30<3:03:22, 12.12s/it]"
     ]
    },
    {
     "name": "stdout",
     "output_type": "stream",
     "text": [
      "Scraping images for class \"striped hyena\"\n",
      "Multiprocessing workers: 8\n"
     ]
    },
    {
     "name": "stderr",
     "output_type": "stream",
     "text": [
      "\r",
      " 18%|█▊        | 193/1100 [48:38<2:45:45, 10.97s/it]"
     ]
    },
    {
     "name": "stdout",
     "output_type": "stream",
     "text": [
      "Scraping images for class \"Guinean\"\n",
      "Multiprocessing workers: 8\n"
     ]
    },
    {
     "name": "stderr",
     "output_type": "stream",
     "text": [
      "\r",
      " 18%|█▊        | 194/1100 [48:42<2:11:09,  8.69s/it]"
     ]
    },
    {
     "name": "stdout",
     "output_type": "stream",
     "text": [
      "Scraping images for class \"meatball\"\n",
      "Multiprocessing workers: 8\n"
     ]
    },
    {
     "name": "stderr",
     "output_type": "stream",
     "text": [
      "\r",
      " 18%|█▊        | 195/1100 [48:59<2:51:38, 11.38s/it]"
     ]
    },
    {
     "name": "stdout",
     "output_type": "stream",
     "text": [
      "Scraping images for class \"escapement\"\n",
      "Multiprocessing workers: 8\n"
     ]
    },
    {
     "name": "stderr",
     "output_type": "stream",
     "text": [
      "\r",
      " 18%|█▊        | 196/1100 [49:03<2:14:51,  8.95s/it]"
     ]
    },
    {
     "name": "stdout",
     "output_type": "stream",
     "text": [
      "Scraping images for class \"sprit\"\n",
      "Multiprocessing workers: 8\n"
     ]
    },
    {
     "name": "stderr",
     "output_type": "stream",
     "text": [
      "\r",
      " 18%|█▊        | 197/1100 [49:11<2:14:07,  8.91s/it]"
     ]
    },
    {
     "name": "stdout",
     "output_type": "stream",
     "text": [
      "Scraping images for class \"king crab\"\n",
      "Multiprocessing workers: 8\n"
     ]
    },
    {
     "name": "stderr",
     "output_type": "stream",
     "text": [
      "\r",
      " 18%|█▊        | 198/1100 [49:14<1:45:59,  7.05s/it]"
     ]
    },
    {
     "name": "stdout",
     "output_type": "stream",
     "text": [
      "Scraping images for class \"skin\"\n",
      "Multiprocessing workers: 8\n"
     ]
    },
    {
     "name": "stderr",
     "output_type": "stream",
     "text": [
      "\r",
      " 18%|█▊        | 199/1100 [49:23<1:52:49,  7.51s/it]"
     ]
    },
    {
     "name": "stdout",
     "output_type": "stream",
     "text": [
      "Scraping images for class \"backstay\"\n",
      "Multiprocessing workers: 8\n"
     ]
    },
    {
     "name": "stderr",
     "output_type": "stream",
     "text": [
      "\r",
      " 18%|█▊        | 200/1100 [49:34<2:10:48,  8.72s/it]"
     ]
    },
    {
     "name": "stdout",
     "output_type": "stream",
     "text": [
      "Scraping images for class \"Kahlua\"\n",
      "Multiprocessing workers: 8\n"
     ]
    },
    {
     "name": "stderr",
     "output_type": "stream",
     "text": [
      "\r",
      " 18%|█▊        | 201/1100 [49:48<2:33:41, 10.26s/it]"
     ]
    },
    {
     "name": "stdout",
     "output_type": "stream",
     "text": [
      "Scraping images for class \"socket wrench\"\n",
      "Multiprocessing workers: 8\n"
     ]
    },
    {
     "name": "stderr",
     "output_type": "stream",
     "text": [
      "\r",
      " 18%|█▊        | 202/1100 [50:00<2:42:27, 10.86s/it]"
     ]
    },
    {
     "name": "stdout",
     "output_type": "stream",
     "text": [
      "Scraping images for class \"thrips\"\n",
      "Multiprocessing workers: 8\n"
     ]
    },
    {
     "name": "stderr",
     "output_type": "stream",
     "text": [
      "\r",
      " 18%|█▊        | 203/1100 [50:23<3:35:26, 14.41s/it]"
     ]
    },
    {
     "name": "stdout",
     "output_type": "stream",
     "text": [
      "Scraping images for class \"lyme grass\"\n",
      "Multiprocessing workers: 8\n",
      "\n",
      "Scraping stats:\n",
      "STATS For class is_flickr:\n",
      " tried 4492.0 urls with 2970.0 successes\n",
      "66.11754229741763% success rate for is_flickr urls \n",
      "1.0246108233326614 seconds spent per is_flickr succesful image download\n",
      "STATS For class not_flickr:\n",
      " tried 0.0 urls with 0.0 successes\n",
      "STATS For class all:\n",
      " tried 4492.0 urls with 2970.0 successes\n",
      "66.11754229741763% success rate for all urls \n",
      "1.0246168377423528 seconds spent per all succesful image download\n"
     ]
    },
    {
     "name": "stderr",
     "output_type": "stream",
     "text": [
      "\r",
      " 19%|█▊        | 204/1100 [50:55<4:55:31, 19.79s/it]"
     ]
    },
    {
     "name": "stdout",
     "output_type": "stream",
     "text": [
      "Scraping images for class \"milk float\"\n",
      "Multiprocessing workers: 8\n"
     ]
    },
    {
     "name": "stderr",
     "output_type": "stream",
     "text": [
      "\r",
      " 19%|█▊        | 205/1100 [51:08<4:23:57, 17.70s/it]"
     ]
    },
    {
     "name": "stdout",
     "output_type": "stream",
     "text": [
      "Scraping images for class \"fire tongs\"\n",
      "Multiprocessing workers: 8\n"
     ]
    },
    {
     "name": "stderr",
     "output_type": "stream",
     "text": [
      "\r",
      " 19%|█▊        | 206/1100 [51:16<3:38:21, 14.66s/it]"
     ]
    },
    {
     "name": "stdout",
     "output_type": "stream",
     "text": [
      "Scraping images for class \"chamois\"\n",
      "Multiprocessing workers: 8\n"
     ]
    },
    {
     "name": "stderr",
     "output_type": "stream",
     "text": [
      "\r",
      " 19%|█▉        | 207/1100 [51:29<3:32:33, 14.28s/it]"
     ]
    },
    {
     "name": "stdout",
     "output_type": "stream",
     "text": [
      "Scraping images for class \"row house\"\n",
      "Multiprocessing workers: 8\n"
     ]
    },
    {
     "name": "stderr",
     "output_type": "stream",
     "text": [
      "\r",
      " 19%|█▉        | 208/1100 [51:31<2:38:49, 10.68s/it]"
     ]
    },
    {
     "name": "stdout",
     "output_type": "stream",
     "text": [
      "Scraping images for class \"banded krait\"\n",
      "Multiprocessing workers: 8\n"
     ]
    },
    {
     "name": "stderr",
     "output_type": "stream",
     "text": [
      "\r",
      " 19%|█▉        | 209/1100 [51:39<2:25:19,  9.79s/it]"
     ]
    },
    {
     "name": "stdout",
     "output_type": "stream",
     "text": [
      "Scraping images for class \"hand mower\"\n",
      "Multiprocessing workers: 8\n"
     ]
    },
    {
     "name": "stderr",
     "output_type": "stream",
     "text": [
      "\r",
      " 19%|█▉        | 210/1100 [51:52<2:38:33, 10.69s/it]"
     ]
    },
    {
     "name": "stdout",
     "output_type": "stream",
     "text": [
      "Scraping images for class \"gopher\"\n",
      "Multiprocessing workers: 8\n"
     ]
    },
    {
     "name": "stderr",
     "output_type": "stream",
     "text": [
      "\r",
      " 19%|█▉        | 211/1100 [52:05<2:48:01, 11.34s/it]"
     ]
    },
    {
     "name": "stdout",
     "output_type": "stream",
     "text": [
      "Scraping images for class \"convolvulus\"\n",
      "Multiprocessing workers: 8\n"
     ]
    },
    {
     "name": "stderr",
     "output_type": "stream",
     "text": [
      "\r",
      " 19%|█▉        | 212/1100 [52:13<2:33:39, 10.38s/it]"
     ]
    },
    {
     "name": "stdout",
     "output_type": "stream",
     "text": [
      "Scraping images for class \"clarified butter\"\n",
      "Multiprocessing workers: 8\n"
     ]
    },
    {
     "name": "stderr",
     "output_type": "stream",
     "text": [
      "\r",
      " 19%|█▉        | 213/1100 [52:15<1:57:36,  7.96s/it]"
     ]
    },
    {
     "name": "stdout",
     "output_type": "stream",
     "text": [
      "Scraping images for class \"Coigue\"\n",
      "Multiprocessing workers: 8\n"
     ]
    },
    {
     "name": "stderr",
     "output_type": "stream",
     "text": [
      "\r",
      " 19%|█▉        | 214/1100 [52:22<1:54:09,  7.73s/it]"
     ]
    },
    {
     "name": "stdout",
     "output_type": "stream",
     "text": [
      "Scraping images for class \"lupine\"\n",
      "Multiprocessing workers: 8\n"
     ]
    },
    {
     "name": "stderr",
     "output_type": "stream",
     "text": [
      "\r",
      " 20%|█▉        | 215/1100 [52:25<1:32:14,  6.25s/it]"
     ]
    },
    {
     "name": "stdout",
     "output_type": "stream",
     "text": [
      "Scraping images for class \"flowerbed\"\n",
      "Multiprocessing workers: 8\n"
     ]
    },
    {
     "name": "stderr",
     "output_type": "stream",
     "text": [
      "\r",
      " 20%|█▉        | 216/1100 [52:44<2:25:12,  9.86s/it]"
     ]
    },
    {
     "name": "stdout",
     "output_type": "stream",
     "text": [
      "Scraping images for class \"Mountie\"\n",
      "Multiprocessing workers: 8\n",
      "\n",
      "Scraping stats:\n",
      "STATS For class is_flickr:\n",
      " tried 4746.0 urls with 3163.0 successes\n",
      "66.64559629161398% success rate for is_flickr urls \n",
      "1.0008422460052508 seconds spent per is_flickr succesful image download\n",
      "STATS For class not_flickr:\n",
      " tried 0.0 urls with 0.0 successes\n",
      "STATS For class all:\n",
      " tried 4746.0 urls with 3163.0 successes\n",
      "66.64559629161398% success rate for all urls \n",
      "1.0008437266426677 seconds spent per all succesful image download\n"
     ]
    },
    {
     "name": "stderr",
     "output_type": "stream",
     "text": [
      "\r",
      " 20%|█▉        | 217/1100 [52:46<1:54:29,  7.78s/it]"
     ]
    },
    {
     "name": "stdout",
     "output_type": "stream",
     "text": [
      "Scraping images for class \"hot sauce\"\n",
      "Multiprocessing workers: 8\n"
     ]
    },
    {
     "name": "stderr",
     "output_type": "stream",
     "text": [
      "\r",
      " 20%|█▉        | 218/1100 [52:50<1:33:27,  6.36s/it]"
     ]
    },
    {
     "name": "stdout",
     "output_type": "stream",
     "text": [
      "Scraping images for class \"solar dish\"\n",
      "Multiprocessing workers: 8\n"
     ]
    },
    {
     "name": "stderr",
     "output_type": "stream",
     "text": [
      "\r",
      " 20%|█▉        | 219/1100 [52:57<1:40:21,  6.83s/it]"
     ]
    },
    {
     "name": "stdout",
     "output_type": "stream",
     "text": [
      "Scraping images for class \"great grandchild\"\n",
      "Multiprocessing workers: 8\n"
     ]
    },
    {
     "name": "stderr",
     "output_type": "stream",
     "text": [
      "\r",
      " 20%|██        | 220/1100 [53:20<2:49:38, 11.57s/it]"
     ]
    },
    {
     "name": "stdout",
     "output_type": "stream",
     "text": [
      "Scraping images for class \"Scandinavian\"\n",
      "Multiprocessing workers: 8\n"
     ]
    },
    {
     "name": "stderr",
     "output_type": "stream",
     "text": [
      "\r",
      " 20%|██        | 221/1100 [53:55<4:32:59, 18.63s/it]"
     ]
    },
    {
     "name": "stdout",
     "output_type": "stream",
     "text": [
      "Scraping images for class \"ticking\"\n",
      "Multiprocessing workers: 8\n"
     ]
    },
    {
     "name": "stderr",
     "output_type": "stream",
     "text": [
      "\r",
      " 20%|██        | 222/1100 [54:20<4:58:35, 20.40s/it]"
     ]
    },
    {
     "name": "stdout",
     "output_type": "stream",
     "text": [
      "Scraping images for class \"dishtowel\"\n",
      "Multiprocessing workers: 8\n"
     ]
    },
    {
     "name": "stderr",
     "output_type": "stream",
     "text": [
      "\r",
      " 20%|██        | 223/1100 [54:38<4:49:14, 19.79s/it]"
     ]
    },
    {
     "name": "stdout",
     "output_type": "stream",
     "text": [
      "Scraping images for class \"palomino\"\n",
      "Multiprocessing workers: 8\n"
     ]
    },
    {
     "name": "stderr",
     "output_type": "stream",
     "text": [
      "\r",
      " 20%|██        | 224/1100 [54:51<4:20:19, 17.83s/it]"
     ]
    },
    {
     "name": "stdout",
     "output_type": "stream",
     "text": [
      "Scraping images for class \"toasting fork\"\n",
      "Multiprocessing workers: 8\n"
     ]
    },
    {
     "name": "stderr",
     "output_type": "stream",
     "text": [
      "\r",
      " 20%|██        | 225/1100 [54:54<3:12:41, 13.21s/it]"
     ]
    },
    {
     "name": "stdout",
     "output_type": "stream",
     "text": [
      "Scraping images for class \"water gauge\"\n",
      "Multiprocessing workers: 8\n"
     ]
    },
    {
     "name": "stderr",
     "output_type": "stream",
     "text": [
      "\r",
      " 21%|██        | 226/1100 [55:13<3:38:43, 15.02s/it]"
     ]
    },
    {
     "name": "stdout",
     "output_type": "stream",
     "text": [
      "Scraping images for class \"garland flower\"\n",
      "Multiprocessing workers: 8\n",
      "\n",
      "Scraping stats:\n",
      "STATS For class is_flickr:\n",
      " tried 4992.0 urls with 3327.0 successes\n",
      "66.64663461538461% success rate for is_flickr urls \n",
      "0.9966572501976855 seconds spent per is_flickr succesful image download\n",
      "STATS For class not_flickr:\n",
      " tried 0.0 urls with 0.0 successes\n"
     ]
    }
   ],
   "source": [
    "def get_image(img_url):\n",
    "\n",
    "    #print(f'Processing {img_url}')\n",
    "\n",
    "    #time.sleep(3)\n",
    "\n",
    "    if len(img_url) <= 1:\n",
    "        return\n",
    "\n",
    "\n",
    "    cls_imgs = 0\n",
    "    with lock:\n",
    "        cls_imgs = class_images.value\n",
    "\n",
    "    if cls_imgs >= images_per_class:\n",
    "        return\n",
    "\n",
    "    logging.debug(img_url)\n",
    "\n",
    "    cls = ''\n",
    "\n",
    "    if 'flickr' in img_url:\n",
    "        cls = 'is_flickr'\n",
    "    else:\n",
    "        cls = 'not_flickr'\n",
    "        if scrape_only_flickr:\n",
    "            return\n",
    "\n",
    "    t_start = time.time()\n",
    "\n",
    "    def finish(status):\n",
    "        t_spent = time.time() - t_start\n",
    "        multi_stats.inc(cls, 'time_spent', t_spent)\n",
    "        multi_stats.inc('all', 'time_spent', t_spent)\n",
    "\n",
    "        multi_stats.inc(cls,'tried', 1)\n",
    "        multi_stats.inc('all', 'tried', 1)\n",
    "\n",
    "        if status == 'success':\n",
    "            multi_stats.inc(cls,'success', 1)\n",
    "            multi_stats.inc('all', 'success', 1)\n",
    "\n",
    "        elif status == 'failure':\n",
    "            pass\n",
    "        else:\n",
    "            logging.error(f'No such status {status}!!')\n",
    "            exit()\n",
    "        return\n",
    "\n",
    "\n",
    "    with lock:\n",
    "        url_tries.value += 1\n",
    "        if url_tries.value % 250 == 0:\n",
    "            print(f'\\nScraping stats:')\n",
    "            print_stats('is_flickr', print)\n",
    "            print_stats('not_flickr', print)\n",
    "            print_stats('all', print)\n",
    "            if debug:\n",
    "                add_stats_to_debug_csv()\n",
    "\n",
    "    try:\n",
    "        img_resp = requests.get(img_url, timeout = 1)\n",
    "    except ConnectionError:\n",
    "        logging.debug(f\"Connection Error for url {img_url}\")\n",
    "        return finish('failure')\n",
    "    except ReadTimeout:\n",
    "        logging.debug(f\"Read Timeout for url {img_url}\")\n",
    "        return finish('failure')\n",
    "    except TooManyRedirects:\n",
    "        logging.debug(f\"Too many redirects {img_url}\")\n",
    "        return finish('failure')\n",
    "    except MissingSchema:\n",
    "        return finish('failure')\n",
    "    except InvalidURL:\n",
    "        return finish('failure')\n",
    "\n",
    "    if not 'content-type' in img_resp.headers:\n",
    "        return finish('failure')\n",
    "\n",
    "    if not 'image' in img_resp.headers['content-type']:\n",
    "        logging.debug(\"Not an image\")\n",
    "        return finish('failure')\n",
    "\n",
    "    if (len(img_resp.content) < 1000):\n",
    "        return finish('failure')\n",
    "\n",
    "    logging.debug(img_resp.headers['content-type'])\n",
    "    logging.debug(f'image size {len(img_resp.content)}')\n",
    "\n",
    "    img_name = img_url.split('/')[-1]\n",
    "    img_name = img_name.split(\"?\")[0]\n",
    "\n",
    "    if (len(img_name) <= 1):\n",
    "        return finish('failure')\n",
    "\n",
    "    img_file_path = os.path.join(class_folder, img_name)\n",
    "    logging.debug(f'Saving image in {img_file_path}')\n",
    "\n",
    "    with open(img_file_path, 'wb') as img_f:\n",
    "        img_f.write(img_resp.content)\n",
    "\n",
    "        with lock:\n",
    "            class_images.value += 1\n",
    "\n",
    "        logging.debug(f'Scraping stats')\n",
    "        print_stats('is_flickr', logging.debug)\n",
    "        print_stats('not_flickr', logging.debug)\n",
    "        print_stats('all', logging.debug)\n",
    "\n",
    "        return finish('success')\n",
    "\n",
    "from tqdm import tqdm\n",
    "    \n",
    "for class_wnid in tqdm(classes_to_scrape):\n",
    "\n",
    "    class_name = class_info_dict[class_wnid][\"class_name\"]\n",
    "    print(f'Scraping images for class \\\"{class_name}\\\"')\n",
    "    url_urls = IMAGENET_API_WNID_TO_URLS(class_wnid)\n",
    "\n",
    "    time.sleep(0.05)\n",
    "    try :\n",
    "        resp = requests.get(url_urls)\n",
    "    except ConnectionError:\n",
    "        continue\n",
    "    \n",
    "    class_folder = os.path.join(imagenet_images_folder, class_name)\n",
    "    if not os.path.exists(class_folder):\n",
    "        os.mkdir(class_folder)\n",
    "\n",
    "    class_images.value = 0\n",
    "\n",
    "    urls = [url.decode('utf-8') for url in resp.content.splitlines()]\n",
    "\n",
    "    #for url in  urls:\n",
    "    #    get_image(url)\n",
    "\n",
    "    print(f\"Multiprocessing workers: {multiprocessing_workers}\")\n",
    "    with Pool(processes=multiprocessing_workers) as p:\n",
    "        p.map(get_image,urls)\n"
   ]
  },
  {
   "cell_type": "code",
   "execution_count": null,
   "metadata": {},
   "outputs": [],
   "source": []
  },
  {
   "cell_type": "code",
   "execution_count": null,
   "metadata": {},
   "outputs": [],
   "source": []
  }
 ],
 "metadata": {
  "kernelspec": {
   "display_name": "Python 3",
   "language": "python",
   "name": "python3"
  },
  "language_info": {
   "codemirror_mode": {
    "name": "ipython",
    "version": 3
   },
   "file_extension": ".py",
   "mimetype": "text/x-python",
   "name": "python",
   "nbconvert_exporter": "python",
   "pygments_lexer": "ipython3",
   "version": "3.7.1"
  }
 },
 "nbformat": 4,
 "nbformat_minor": 2
}
