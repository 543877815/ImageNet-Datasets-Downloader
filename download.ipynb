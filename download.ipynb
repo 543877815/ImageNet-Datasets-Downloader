{
 "cells": [
  {
   "cell_type": "code",
   "execution_count": 1,
   "metadata": {},
   "outputs": [],
   "source": [
    "import os\n",
    "import numpy as np\n",
    "import requests\n",
    "import argparse\n",
    "import json\n",
    "import time\n",
    "import logging\n",
    "import csv\n",
    "\n",
    "from multiprocessing import Pool, Process, Value, Lock\n",
    "\n",
    "from requests.exceptions import ConnectionError, ReadTimeout, TooManyRedirects, MissingSchema, InvalidURL"
   ]
  },
  {
   "cell_type": "code",
   "execution_count": 2,
   "metadata": {},
   "outputs": [],
   "source": [
    "# args\n",
    "data_root = './data'\n",
    "user_class_list = False\n",
    "class_list = []\n",
    "scrape_only_flickr = True # default True\n",
    "number_of_classes = 1100\n",
    "images_per_class = 10\n",
    "use_class_list = False\n",
    "debug = False\n",
    "multiprocessing_workers = 8"
   ]
  },
  {
   "cell_type": "code",
   "execution_count": 3,
   "metadata": {},
   "outputs": [],
   "source": [
    "if debug:\n",
    "    logging.basicConfig(filename='imagenet_scarper.log', level=logging.DEBUG)"
   ]
  },
  {
   "cell_type": "code",
   "execution_count": 4,
   "metadata": {},
   "outputs": [],
   "source": [
    "IMAGENET_API_WNID_TO_URLS = lambda wnid: f'http://www.image-net.org/api/text/imagenet.synset.geturls?wnid={wnid}'\n",
    "\n",
    "current_folder = os.path.abspath('.')\n",
    "\n",
    "class_info_json_filename = 'imagenet_class_info.json'\n",
    "class_info_json_filepath = os.path.join(current_folder, class_info_json_filename)\n",
    "\n",
    "class_info_dict = dict()"
   ]
  },
  {
   "cell_type": "code",
   "execution_count": 5,
   "metadata": {},
   "outputs": [],
   "source": [
    "with open(class_info_json_filepath) as class_info_json_f:\n",
    "    class_info_dict = json.load(class_info_json_f)"
   ]
  },
  {
   "cell_type": "code",
   "execution_count": 6,
   "metadata": {},
   "outputs": [],
   "source": [
    "classes_to_scrape = []\n",
    "\n",
    "if use_class_list == True:\n",
    "    for item in class_list:\n",
    "        classes_to_scrape.append(item)\n",
    "        if item not in class_info_dict:\n",
    "            logging.error(f'Class {item} not found in ImageNete')\n",
    "            exit()\n",
    "            \n",
    "elif use_class_list == False:\n",
    "    potential_class_pool = []\n",
    "    for key, val in class_info_dict.items():\n",
    "\n",
    "        if scrape_only_flickr:\n",
    "            if int(val['flickr_img_url_count']) * 0.9 > images_per_class:\n",
    "                potential_class_pool.append(key)\n",
    "        else:\n",
    "            if int(val['img_url_count']) * 0.8 > images_per_class:\n",
    "                potential_class_pool.append(key)\n",
    "\n",
    "    if (len(potential_class_pool) < number_of_classes):\n",
    "        logging.error(f\"With {images_per_class} images per class there are {len(potential_class_pool)} to choose from.\")\n",
    "        logging.error(f\"Decrease number of classes or decrease images per class.\")\n",
    "        exit()\n",
    "\n",
    "    picked_classes_idxes = np.random.choice(len(potential_class_pool), number_of_classes, replace = False)\n",
    "\n",
    "    for idx in picked_classes_idxes:\n",
    "        classes_to_scrape.append(potential_class_pool[idx])\n",
    "            "
   ]
  },
  {
   "cell_type": "code",
   "execution_count": 7,
   "metadata": {
    "scrolled": true
   },
   "outputs": [
    {
     "name": "stdout",
     "output_type": "stream",
     "text": [
      "Picked the following clases:\n",
      "['catmint', 'easy chair', 'ski rack', 'common cotton grass', 'Dane', 'marine mussel', 'locoweed', 'hall', 'armor', 'chador', 'guest of honor', 'bonefish', 'rowel', 'cowpea', 'parfait', 'bouillon', 'flying jib', 'White Russian', 'astrolabe', 'glow lamp', 'Melkite', 'hydrometer', 'marsh plant', 'oyster mushroom', 'maple', 'entrepreneur', 'metasequoia', 'level', 'foreground', 'linseed', 'rig', 'engine', 'shunt', 'Easter egg', 'coatdress', 'American wistaria', 'Mexican sunflower', 'pavilion', 'imperialist', 'centrist', 'Minuteman', 'sequencer', 'bread dough', 'alehouse', 'cock of the rock', 'asp', 'gasmask', 'bass guitar', 'poppy', 'panther', 'ridge', 'good-king-henry', 'sculptor', 'wild boar', 'boxcar', 'bitewing', 'buckram', 'valerian', 'television antenna', 'climbing frame', 'cornetfish', 'helminth', 'Tartuffe', 'header', 'push button', 'kneeler', 'impala lily', 'plum sauce', 'drinking vessel', 'common fennel', 'green alder', 'espionage agent', 'autopilot', 'motor vehicle', 'footlocker', 'halibut', 'newel post', 'martello tower', 'toy', 'flintlock', 'Hungarian sauce', 'smut grass', 'axseed', 'blunderbuss', 'chili', 'flatfish', 'lentil', 'futon', 'bustle', 'rotgut', 'building', 'pelagic bird', 'Fauve', 'pumpkin', 'rockfish', 'newsstand', 'generator', 'cork tree', 'wild madder', 'king penguin', 'domino', 'apple mint', 'cigar smoker', 'long trousers', 'fishhook', 'solar heater', 'textile screw pine', 'mandarin', 'radio compass', 'darling', 'gazpacho', 'copper', 'moon shell', 'mechanical device', 'godfather', 'stun gun', 'cyme', 'common matrimony vine', 'pants suit', 'parasail', 'roughcast', 'sailfish', 'yellowwood', 'scholar', 'beeper', 'snow bunting', 'earphone', 'sandpiper', 'goldfields', 'ditty bag', 'schnapps', 'queen', 'cittern', 'sunflower', 'analog watch', 'reptile', 'yellowlegs', 'ruddy duck', 'jaguarundi', 'bench press', 'mocha', 'wild rosemary', 'altarpiece', 'wimp', 'beige', 'framework', 'tree sparrow', 'cabin car', 'Leonberg', 'stateroom', 'appointee', 'bottle-nosed whale', 'jewelweed', 'loft', 'gooseneck loosestrife', 'ewe', 'vanilla pudding', 'garden trowel', 'eastern indigo snake', 'black currant', 'cheese pizza', 'raccoon', 'maar', 'poop deck', 'showplace', 'scented fern', 'hovercraft', 'round file', 'manhole cover', 'New World goldfinch', 'dormer window', 'common wallaby', 'skewer', 'club moss', 'cauliflower', 'tautog', 'wall unit', 'spritsail', 'angelica', 'stealth aircraft', 'cinnamon', 'traveler', 'dent corn', 'tractor', 'electronic device', 'suitor', 'foot rule', 'hazelnut', 'large crabgrass', 'showy orchis', 'cheese souffle', 'battle dress', 'striped hyena', 'Guinean', 'meatball', 'escapement', 'sprit', 'king crab', 'skin', 'backstay', 'Kahlua', 'socket wrench', 'thrips', 'lyme grass', 'milk float', 'fire tongs', 'chamois', 'row house', 'banded krait', 'hand mower', 'gopher', 'convolvulus', 'clarified butter', 'Coigue', 'lupine', 'flowerbed', 'Mountie', 'hot sauce', 'solar dish', 'great grandchild', 'Scandinavian', 'ticking', 'dishtowel', 'palomino', 'toasting fork', 'water gauge', 'garland flower', \"Wilson's snipe\", 'European swift', 'wallaby', 'venturer', 'riverbed', 'vitamin pill', 'Ritz', 'candlepin', 'breadfruit', 'bronco', 'cashew', 'ballet dancer', 'brown bear', 'ruffed grouse', 'whiteface', 'aardwolf', 'box', 'acoustic guitar', 'gas gun', \"prairie bird's-foot trefoil\", 'common limpet', 'guided missile frigate', 'babassu', 'greater spearwort', 'analog clock', 'oldster', 'timothy', 'cyclopean masonry', 'crossbar', 'miniature golf', 'Spanish needles', 'arethusa', 'tiger cub', 'generator', 'flyweight', 'lectern', 'ascus', 'nut tree', 'front man', 'garlic bread', 'kudu', 'cuckoo clock', 'chaenactis', 'garden', 'car', 'scratcher', 'spacesuit', 'gig', 'croquet equipment', 'showy milkweed', 'meadow salsify', 'cayenne', 'lumper', 'Bahraini', 'stream orchid', 'pine fern', 'whaleboat', 'hare', 'wattmeter', 'bourbon', 'thickhead', 'shock absorber', 'baize', 'red wolf', 'pollen tube', 'piano wire', 'centurion', 'Mutillidae', 'Bouvier des Flandres', 'piano', 'doily', 'swimming trunks', 'anklet', 'Limburger', 'sodalist', 'swimming', 'birth', 'crevice', 'mimeograph', 'teaching fellow', 'sweet cider', 'push-bike', 'Tibetan mastiff', 'escutcheon', 'gyrfalcon', 'obscurantist', 'track', 'good guy', 'ancient', 'borzoi', 'landing craft', 'Spanish lime', 'clothes moth', 'flowering fern', 'Guadalupe cypress', 'maguey', 'blue shark', 'Indian rat snake', 'waders', 'wading bird', 'overhang', 'great bowerbird', 'commoner', 'cutworm', 'sport', 'flugelhorn', 'marketplace', 'resistor', 'roan', 'Italian greyhound', 'enlarger', 'mountain ash', 'Engelmann spruce', 'medium', 'kingfish', 'mixed-blood', 'coastland', 'section hand', 'rust', 'masonry', 'euphonium', 'sheepshead', 'staggerbush', 'tutee', 'pollster', 'bitter lemon', 'saltwort', 'meadow spittlebug', 'treehopper', 'seafood Newburg', 'saboteur', 'sound recording', 'digital display', 'armored catfish', \"bird's-foot violet\", 'broadcaster', 'auklet', 'milk vetch', 'accused', \"man's clothing\", 'rye', 'head', 'scalene triangle', 'bap', 'bicycle pump', 'McIntosh', 'wallflower', 'littoral', 'bumper', 'nosewheel', 'taxonomist', 'ground snake', 'inductee', 'almond tree', 'sewing room', 'sanderling', 'wahoo', 'rapper', 'sardine', 'mother hen', 'crash helmet', 'cultist', 'burp gun', 'kitten', 'towhee', 'bunk', 'old lady', 'engine', 'breeches buoy', 'golden fern', 'signore', 'Spanish bayonet', 'umbel', \"Jehovah's Witness\", 'domestic animal', 'mobile home', 'cobia', 'magazine', 'buffalo fish', 'motherwort', 'corn pudding', 'watercress', 'Brabancon griffon', 'Maxim gun', 'gipsywort', 'weeder', 'joinery', 'maiden blue-eyed Mary', 'rotor', 'Brussels lace', 'buckwheat', 'wire recorder', 'federalist', 'wastrel', 'bantamweight', 'trackball', 'gluten bread', 'table knife', 'pack', 'fur coat', 'ice mass', 'bin liner', 'Mongoloid', 'secularist', 'dundathu pine', 'fer-de-lance', 'shutter', 'European toad', 'parrotfish', 'cobra', 'wiper', 'dotterel', 'tout', 'checker', 'lorry', 'echinoderm', 'milk thistle', 'coal black', 'diesel', 'swing door', 'Saluki', 'blue ash', 'motmot', 'Tulipa gesneriana', 'control rod', 'sheep plant', 'water fennel', 'giant puffball', 'bantam', 'sweetheart', 'southern cabbage butterfly', 'vanilla ice cream', 'convent', 'juvenile', 'gearing', 'webbing', 'Winchester', 'shuffleboard', 'false lupine', 'downstage', 'rosebud cherry', 'wood tick', 'telecom hotel', 'bocce ball', 'steak knife', 'handcuff', 'mercury thermometer', 'Jerusalem artichoke', 'community center', 'bark', 'toadflax', 'leopard', 'birdcage', 'jumper', 'Belgian endive', 'rocker arm', 'ovenbird', 'fly', 'morning dress', 'sunglass', 'winker', 'root vegetable', 'Pacific newt', 'peripheral', 'kapok', 'American chestnut', 'counter', 'bur oak', 'traffic cop', 'Bavarian', 'water scorpion', 'liquid crystal display', 'closeup lens', 'very important person', 'Jeffrey pine', 'broom sedge', 'dill pickle', 'sleeper', 'railing', 'desert willow', 'porter', 'ocean floor', 'bloomer', 'minibar', 'trews', 'anchovy pear', 'wood drake', 'mason bee', 'espresso', \"viola d'amore\", 'marriage bed', 'inhabitant', 'cobbler', 'pickerel frog', 'pitcher', 'clip-on', 'dress shirt', 'safety bicycle', 'Stropharia ambigua', 'tupelo', 'kuvasz', 'hypanthium', 'water spaniel', 'butternut squash', 'shofar', 'nuclear reactor', 'prairie smoke', 'commensal', 'klystron', 'shoreline', 'beard lichen', 'foramen magnum', 'beef Bourguignonne', 'sand cat', 'horizontal tail', 'sphinx', 'red beech', 'great ape', 'pinwheel', 'French Canadian', 'jumper', 'undies', 'milk', 'rotating mechanism', 'handstamp', 'pigeon', 'badminton court', 'sea lion', 'baton', 'blucher', 'sparrow', 'lattice', 'io moth', 'lozenge', 'call waiting', 'airfoil', 'weir', 'cuckoopint', 'computerized axial tomography scanner', 'turbot', 'impact printer', 'brother-in-law', 'display', \"sweet four o'clock\", 'chamberpot', 'chicken wire', 'puff paste', 'snailflower', 'black-capped chickadee', 'patrol boat', 'chest protector', 'Roquefort', 'bundle', 'ball', 'canyon treefrog', 'oyster cracker', 'denim', 'gyro', 'ski mask', 'California sea lion', 'overskirt', 'face guard', 'tuna', 'penlight', 'usherette', 'toadfish', 'deer mouse', 'cat box', 'cracker', 'volleyball net', 'kitty', 'stylus', 'benthos', 'ion engine', 'reed bunting', 'alpaca', 'inky cap', 'potpie', 'lazybones', 'viaduct', 'red-eyed vireo', 'kid glove', 'Pholiota squarrosoides', 'coreid bug', 'machete', 'gnat', 'beer glass', 'carbonara', 'skid lid', 'oxygen mask', 'aoudad', 'prancer', 'aerator', 'Lithuanian', 'berry', 'triode', 'peach ice cream', 'red osier', 'pine snake', 'furnishing', 'Indian hemp', 'garden tool', 'kirtle', 'Verpa', 'Morchella semilibera', \"hound's-tongue\", 'place of business', 'Liberian', 'elbow', 'buffalo grass', 'stemma', 'whip-scorpion', 'viceroy', 'neckline', 'wagon', 'jig', 'fedora', 'sounding rocket', 'legionnaire', 'peeper', 'smelt', 'mojarra', 'single-rotor helicopter', 'roundhouse', 'fastener', 'California quail', 'white goods', 'junction', 'honey crisp', 'flan', 'Druid', 'epacris', 'baton twirler', 'guided missile cruiser', 'costume', 'wild cherry', 'QWERTY keyboard', 'yellow mountain saxifrage', 'sister ship', 'clip', 'tread', 'parvis', 'mouse-ear chickweed', 'Mongol', 'cafe royale', 'control room', 'oven thermometer', 'pledger', 'hook', 'bailey', 'wine palm', 'mushroom', 'cinnabar chanterelle', 'leaf beetle', 'spadix', 'annual', 'popover', 'Caesar salad', 'garibaldi', 'jackass penguin', 'nameko', 'mantispid', 'rearview mirror', 'giant red paintbrush', 'solar cell', 'sachet', 'simnel', 'gas oven', 'electric fan', 'heathen', 'leukocyte', 'puku', 'locust', 'PT boat', 'inga', 'bull snake', 'arrow grass', 'sego lily', 'scaup', 'dung beetle', 'Primus stove', 'crotalaria', 'sharpener', 'pantile', 'ferrule', 'triggerfish', 'New York fern', 'second cousin', 'loupe', 'betel', 'American badger', 'bog aster', 'hauberk', 'Yosemite toad', 'winter mushroom', 'bungee', 'khukuri', 'marsh orchid', 'souk', 'Hygrophorus marzuolus', 'poplar', 'Pilsner', 'disk controller', 'muzzle loader', 'Evangelist', 'grey', 'peach sauce', 'gravestone', 'printer', 'sailing master', 'figure loom', 'redhead', 'lime', 'viscose rayon', 'marine animal', 'videotape', 'cog', 'couch', 'thyme', 'Qatari', 'canine', 'graffito', 'zucchini', 'soutache', 'red rockfish', 'ottoman', 'spotted owl', 'towhead', \"St John's wort\", 'slipper', 'module', 'hollandaise', 'Indian mallow', 'even-toed ungulate', 'goat', 'Southern dewberry', 'hydrofoil', 'turnstone', 'Arctic ground squirrel', 'cauliflower', 'Iceland poppy', 'arrow wood', 'cat thyme', 'common unicorn plant', 'cress', 'test-tube baby', 'spider orchid', 'archer', 'purple locoweed', 'European larch', 'reading lamp', 'common wasp', 'Old World vulture', 'flood', 'ground floor', 'American organ', 'river otter', 'coucal', 'safe house', 'pistil', 'dildo', 'Zulu', 'pigtail', 'white admiral', 'cheddar', 'halter', 'shoebill', 'true bug', 'nougat bar', 'wild senna', 'heat exchanger', 'barbecue', 'Secretary of Health and Human Services', 'Leydig cell', 'nightwear', 'bottle', 'swamp gum', 'gas bracket', 'wood pigeon', 'yolk', 'broodmare', 'washboard', 'dancer', 'Munich beer', 'marmot', 'muscat', 'serf', 'Persian lilac', 'field spaniel', 'fleawort', 'kraal', 'spaghetti sauce', 'coral root', 'arroz con pollo', 'grivet', 'pony', 'surfboat', 'slow loris', 'limiter', 'echidna', 'tear gas', 'pivot', 'nutgrass', 'candy thermometer', 'apple butter', 'widebody aircraft', 'coffee urn', 'date plum', 'requiem shark', 'abelia', 'embankment', 'ex-president', 'cymbal', 'Eurasian badger', 'skateboarder', 'whitewash', 'mongoose', 'track', 'pipe smoker', 'apadana', 'baton', 'flowering fern', 'planner', 'stilt', 'donna', 'bell heather', 'broadsword', 'ticket collector', 'American toad', 'catfish', 'Alpine fir', \"lady's maid\", 'cattleya', 'felt-tip pen', 'snapdragon', 'suet pudding', 'tomahawk', 'screw bean', 'pup tent', 'frog orchid', 'balloon flower', 'myxobacteria', 'convener', 'grosbeak', 'gun emplacement', 'cephalopod', 'palm cat', 'buckthorn berry', 'milking stool', 'fanaloka', 'sugar snap pea', \"florist's chrysanthemum\", 'lionfish', 'western white pine', 'umbrella tree', 'line of heart', 'Shih-Tzu', 'glutton', 'split end', 'television equipment', 'aeschynanthus', 'clotted cream', 'bindweed', 'autostrada', 'ostrich fern', 'gym suit', 'stalking-horse', 'flying buttress', 'field mouse', 'manul', 'multivitamin', 'oil paint', 'bluebottle', 'bay', 'reconnaissance vehicle', 'corn poppy', 'butternut', 'bulldozer', 'alpine clover', 'revetment', 'batting glove', 'cabin cruiser', 'oast house', 'western hemlock', 'fuel system', 'puff batter', 'ventilator', 'tom', 'cherrystone', 'Surinam cherry', 'creme de menthe', 'strawberry', 'clary sage', 'southern white cedar', 'varied Lorikeet', 'common raccoon', 'male horse', 'darning needle', 'meat grinder', 'mistflower', 'foreshore', 'embellishment', 'air compressor', 'nut bar', 'brim', 'tetrahedron', 'fireplace', 'dormitory', 'sand dollar', 'redpoll', 'fruit drink', 'van', 'angler', 'broom grass', 'crown lens', 'rock', 'universal joint', 'verdigris', 'map', 'scilla', 'areaway', 'showy daisy', 'cob', 'quaking aspen', 'fern ally', 'grey fox', 'candied fruit', 'scoutmaster', 'grugru', \"Wilson's warbler\", 'California black walnut', 'athletic sock', 'sand', 'king vulture', 'clematis', 'dam', 'flying boat', 'wand', 'host', 'doubles', 'gown', 'football', 'Mycenaen', 'choir loft', 'theropod', 'table', 'Tokay', 'involucre', \"bird's-nest fungus\", 'orange peel', 'pickup', 'bigos', 'machine', 'Verdicchio', 'Spam', 'odd-toed ungulate', 'soup ladle', 'lignum', 'baron', 'julep', 'cultivar', 'Siberian wall flower', 'downy yellow violet', 'ground cedar', 'ptarmigan', 'spiderwort', 'florist', 'net melon', 'circuit board', 'hypermarket', 'cub', 'popper', 'bellbird', 'European bittern', 'gondola', 'ocarina', 'capstan', 'fungus', 'fire-eater', 'safety razor', 'pilot engine', 'Maltese dog', 'scarlet bugler', 'verdin', 'scooter', 'pusher', 'Hungarian partridge', 'aircraft engine', 'fishing gear', 'wisent', 'mandola', 'rice weevil', 'field lens', 'greeter', 'Tyrian purple', 'base', 'dog fennel', 'short-spurred fragrant orchid', 'cockchafer', 'leatherjacket', 'buttercup squash', 'green tea', 'tiler', 'Rollerblade', 'puck', 'brioche', 'custard', 'paddle', 'tadpole shrimp', 'Black', 'cricket bat', 'wild pink', 'Chilean firebush', 'broccoli', 'hobby', 'pedestrian crossing', 'large poodle', 'synchronous motor', 'lychnis', 'vedalia', 'cold cathode', 'deer grass', 'honeysuckle', 'saltworks', 'jackrabbit', 'silver ash', 'hydrozoan', 'cherimoya', 'dining room', 'harness', 'day game', 'swamp sunflower', 'sweet fern', 'river red gum', 'willow', 'steam bath', 'green peafowl', 'telephone system', 'chokecherry', 'antelope', 'potentiometer', 'clutch', 'night-blooming cereus', 'convalescent', 'grape fern', 'egocentric', 'bean dip', 'sea mouse', 'grill', 'congee', 'moray', 'Pacific halibut', 'Japanese lilac', 'bridle', 'organ', 'prize winner', 'safe', 'mast', 'straitjacket', 'ganglion cell', 'lizard', 'okapi', 'intergalactic space', 'douglas fir', 'sperm whale', 'sloe gin', 'spring beauty', 'cyanobacteria', 'vodka martini', 'Atlantic bottlenose dolphin', 'investor', 'hop', 'Virginia waterleaf']\n"
     ]
    }
   ],
   "source": [
    "print(\"Picked the following clases:\")\n",
    "print([ class_info_dict[class_wnid]['class_name'] for class_wnid in classes_to_scrape ])"
   ]
  },
  {
   "cell_type": "code",
   "execution_count": 10,
   "metadata": {},
   "outputs": [],
   "source": [
    "imagenet_images_folder = os.path.join(data_root, 'imagenet_images')\n",
    "if not os.path.isdir(imagenet_images_folder):\n",
    "    os.mkdir(imagenet_images_folder)"
   ]
  },
  {
   "cell_type": "code",
   "execution_count": 11,
   "metadata": {},
   "outputs": [],
   "source": [
    "scraping_stats = dict(\n",
    "    all=dict(\n",
    "        tried=0,\n",
    "        success=0,\n",
    "        time_spent=0,\n",
    "    ),\n",
    "    is_flickr=dict(\n",
    "        tried=0,\n",
    "        success=0,\n",
    "        time_spent=0,\n",
    "    ),\n",
    "    not_flickr=dict(\n",
    "        tried=0,\n",
    "        success=0,\n",
    "        time_spent=0,\n",
    "    )\n",
    ")"
   ]
  },
  {
   "cell_type": "code",
   "execution_count": 12,
   "metadata": {},
   "outputs": [],
   "source": [
    "def add_debug_csv_row(row):\n",
    "    with open('stats.csv', \"a\") as csv_f:\n",
    "        csv_writer = csv.writer(csv_f, delimiter=\",\")\n",
    "        csv_writer.writerow(row)\n",
    "\n",
    "class MultiStats():\n",
    "    def __init__(self):\n",
    "\n",
    "        self.lock = Lock()\n",
    "\n",
    "        self.stats = dict(\n",
    "            all=dict(\n",
    "                tried=Value('d', 0),\n",
    "                success=Value('d',0),\n",
    "                time_spent=Value('d',0),\n",
    "            ),\n",
    "            is_flickr=dict(\n",
    "                tried=Value('d', 0),\n",
    "                success=Value('d',0),\n",
    "                time_spent=Value('d',0),\n",
    "            ),\n",
    "            not_flickr=dict(\n",
    "                tried=Value('d', 0),\n",
    "                success=Value('d', 0),\n",
    "                time_spent=Value('d', 0),\n",
    "            )\n",
    "        )\n",
    "    def inc(self, cls, stat, val):\n",
    "        with self.lock:\n",
    "            self.stats[cls][stat].value += val\n",
    "\n",
    "    def get(self, cls, stat):\n",
    "        with self.lock:\n",
    "            ret = self.stats[cls][stat].value\n",
    "        return ret\n",
    "\n",
    "multi_stats = MultiStats()\n",
    "    \n",
    "if debug:\n",
    "    row = [\n",
    "        \"all_tried\",\n",
    "        \"all_success\",\n",
    "        \"all_time_spent\",\n",
    "        \"is_flickr_tried\",\n",
    "        \"is_flickr_success\",\n",
    "        \"is_flickr_time_spent\",\n",
    "        \"not_flickr_tried\",\n",
    "        \"not_flickr_success\",\n",
    "        \"not_flickr_time_spent\"\n",
    "    ]\n",
    "    add_debug_csv_row(row)\n",
    "    \n",
    "def add_stats_to_debug_csv():\n",
    "    row = [\n",
    "        multi_stats.get('all', 'tried'),\n",
    "        multi_stats.get('all', 'success'),\n",
    "        multi_stats.get('all', 'time_spent'),\n",
    "        multi_stats.get('is_flickr', 'tried'),\n",
    "        multi_stats.get('is_flickr', 'success'),\n",
    "        multi_stats.get('is_flickr', 'time_spent'),\n",
    "        multi_stats.get('not_flickr', 'tried'),\n",
    "        multi_stats.get('not_flickr', 'success'),\n",
    "        multi_stats.get('not_flickr', 'time_spent'),\n",
    "    ]\n",
    "    add_debug_csv_row(row)\n",
    "\n",
    "def print_stats(cls, print_func):\n",
    "\n",
    "    actual_all_time_spent = time.time() - scraping_t_start.value\n",
    "    processes_all_time_spent = multi_stats.get('all', 'time_spent')\n",
    "\n",
    "    if processes_all_time_spent == 0:\n",
    "        actual_processes_ratio = 1.0\n",
    "    else:\n",
    "        actual_processes_ratio = actual_all_time_spent / processes_all_time_spent\n",
    "\n",
    "    #print(f\"actual all time: {actual_all_time_spent} proc all time {processes_all_time_spent}\")\n",
    "\n",
    "    print_func(f'STATS For class {cls}:')\n",
    "    print_func(f' tried {multi_stats.get(cls, \"tried\")} urls with'\n",
    "               f' {multi_stats.get(cls, \"success\")} successes')\n",
    "\n",
    "    if multi_stats.get(cls, \"tried\") > 0:\n",
    "        print_func(f'{100.0 * multi_stats.get(cls, \"success\")/multi_stats.get(cls, \"tried\")}% success rate for {cls} urls ')\n",
    "    if multi_stats.get(cls, \"success\") > 0:\n",
    "        print_func(f'{multi_stats.get(cls,\"time_spent\") * actual_processes_ratio / multi_stats.get(cls,\"success\")} seconds spent per {cls} succesful image download')\n",
    "\n",
    "\n",
    "\n",
    "lock = Lock()\n",
    "url_tries = Value('d', 0)\n",
    "scraping_t_start = Value('d', time.time())\n",
    "class_folder = ''\n",
    "class_images = Value('d', 0)"
   ]
  },
  {
   "cell_type": "code",
   "execution_count": 15,
   "metadata": {
    "scrolled": true
   },
   "outputs": [
    {
     "name": "stderr",
     "output_type": "stream",
     "text": [
      "\n",
      "  0%|          | 0/1100 [00:00<?, ?it/s]\u001b[A"
     ]
    },
    {
     "name": "stdout",
     "output_type": "stream",
     "text": [
      "Scraping images for class \"catmint\"\n",
      "Scraping images for class \"easy chair\"\n",
      "Multiprocessing workers: 8\n"
     ]
    },
    {
     "name": "stderr",
     "output_type": "stream",
     "text": [
      "\n",
      "  0%|          | 2/1100 [00:16<2:27:24,  8.05s/it]\u001b[A"
     ]
    },
    {
     "name": "stdout",
     "output_type": "stream",
     "text": [
      "Scraping images for class \"ski rack\"\n",
      "Multiprocessing workers: 8\n"
     ]
    },
    {
     "name": "stderr",
     "output_type": "stream",
     "text": [
      "\n",
      "  0%|          | 3/1100 [00:24<2:28:33,  8.13s/it]\u001b[A"
     ]
    },
    {
     "name": "stdout",
     "output_type": "stream",
     "text": [
      "Scraping images for class \"common cotton grass\"\n",
      "Multiprocessing workers: 8\n",
      "\n",
      "Scraping stats:\n",
      "STATS For class is_flickr:\n",
      " tried 23991.0 urls with 16540.0 successes\n",
      "68.94252011170856% success rate for is_flickr urls \n",
      "0.9888726004810402 seconds spent per is_flickr succesful image download\n",
      "STATS For class not_flickr:\n",
      " tried 0.0 urls with 0.0 successes\n",
      "STATS For class all:\n",
      " tried 23991.0 urls with 16540.0 successes\n",
      "68.94252011170856% success rate for all urls \n",
      "0.9888728741723075 seconds spent per all succesful image download\n"
     ]
    },
    {
     "name": "stderr",
     "output_type": "stream",
     "text": [
      "\n",
      "  0%|          | 4/1100 [00:38<3:03:30, 10.05s/it]\u001b[A"
     ]
    },
    {
     "name": "stdout",
     "output_type": "stream",
     "text": [
      "Scraping images for class \"Dane\"\n",
      "Multiprocessing workers: 8\n"
     ]
    },
    {
     "name": "stderr",
     "output_type": "stream",
     "text": [
      "\n",
      "  0%|          | 5/1100 [00:50<3:10:22, 10.43s/it]\u001b[A"
     ]
    },
    {
     "name": "stdout",
     "output_type": "stream",
     "text": [
      "Scraping images for class \"marine mussel\"\n",
      "Multiprocessing workers: 8\n"
     ]
    },
    {
     "name": "stderr",
     "output_type": "stream",
     "text": [
      "\n",
      "  1%|          | 6/1100 [00:58<2:59:52,  9.86s/it]\u001b[A"
     ]
    },
    {
     "name": "stdout",
     "output_type": "stream",
     "text": [
      "Scraping images for class \"locoweed\"\n",
      "Multiprocessing workers: 8\n"
     ]
    },
    {
     "name": "stderr",
     "output_type": "stream",
     "text": [
      "\n",
      "  1%|          | 7/1100 [01:00<2:15:56,  7.46s/it]\u001b[A"
     ]
    },
    {
     "name": "stdout",
     "output_type": "stream",
     "text": [
      "Scraping images for class \"hall\"\n",
      "Multiprocessing workers: 8\n"
     ]
    },
    {
     "name": "stderr",
     "output_type": "stream",
     "text": [
      "\n",
      "  1%|          | 8/1100 [01:13<2:46:23,  9.14s/it]\u001b[A"
     ]
    },
    {
     "name": "stdout",
     "output_type": "stream",
     "text": [
      "Scraping images for class \"armor\"\n",
      "Multiprocessing workers: 8\n"
     ]
    },
    {
     "name": "stderr",
     "output_type": "stream",
     "text": [
      "\n",
      "  1%|          | 9/1100 [01:21<2:37:34,  8.67s/it]\u001b[A"
     ]
    },
    {
     "name": "stdout",
     "output_type": "stream",
     "text": [
      "Scraping images for class \"chador\"\n",
      "Multiprocessing workers: 8\n"
     ]
    },
    {
     "name": "stderr",
     "output_type": "stream",
     "text": [
      "\n",
      "  1%|          | 10/1100 [01:33<2:59:09,  9.86s/it]\u001b[A"
     ]
    },
    {
     "name": "stdout",
     "output_type": "stream",
     "text": [
      "Scraping images for class \"guest of honor\"\n",
      "Multiprocessing workers: 8\n"
     ]
    },
    {
     "name": "stderr",
     "output_type": "stream",
     "text": [
      "\n",
      "  1%|          | 11/1100 [01:45<3:10:07, 10.48s/it]\u001b[A"
     ]
    },
    {
     "name": "stdout",
     "output_type": "stream",
     "text": [
      "Scraping images for class \"bonefish\"\n",
      "Multiprocessing workers: 8\n"
     ]
    },
    {
     "name": "stderr",
     "output_type": "stream",
     "text": [
      "\n",
      "  1%|          | 12/1100 [01:59<3:25:06, 11.31s/it]\u001b[A"
     ]
    },
    {
     "name": "stdout",
     "output_type": "stream",
     "text": [
      "Scraping images for class \"rowel\"\n",
      "Multiprocessing workers: 8\n",
      "\n",
      "Scraping stats:\n",
      "STATS For class is_flickr:\n",
      " tried 24234.0 urls with 16682.0 successes\n",
      "68.83717091689363% success rate for is_flickr urls \n",
      "0.98786057528082 seconds spent per is_flickr succesful image download\n",
      "STATS For class not_flickr:\n",
      " tried 0.0 urls with 0.0 successes\n",
      "STATS For class all:\n",
      " tried 24234.0 urls with 16682.0 successes\n",
      "68.83717091689363% success rate for all urls \n",
      "0.9878614621544868 seconds spent per all succesful image download\n"
     ]
    },
    {
     "name": "stderr",
     "output_type": "stream",
     "text": [
      "\n",
      "  1%|          | 13/1100 [02:52<7:11:42, 23.83s/it]\u001b[A"
     ]
    },
    {
     "name": "stdout",
     "output_type": "stream",
     "text": [
      "Scraping images for class \"cowpea\"\n",
      "Multiprocessing workers: 8\n"
     ]
    },
    {
     "name": "stderr",
     "output_type": "stream",
     "text": [
      "\n",
      "  1%|▏         | 14/1100 [03:27<8:16:10, 27.41s/it]\u001b[A"
     ]
    },
    {
     "name": "stdout",
     "output_type": "stream",
     "text": [
      "Scraping images for class \"parfait\"\n",
      "Multiprocessing workers: 8\n"
     ]
    },
    {
     "name": "stderr",
     "output_type": "stream",
     "text": [
      "\n",
      "  1%|▏         | 15/1100 [04:11<9:45:19, 32.37s/it]\u001b[A"
     ]
    },
    {
     "name": "stdout",
     "output_type": "stream",
     "text": [
      "Scraping images for class \"bouillon\"\n",
      "Multiprocessing workers: 8\n"
     ]
    },
    {
     "name": "stderr",
     "output_type": "stream",
     "text": [
      "\n",
      "  1%|▏         | 16/1100 [04:46<9:55:55, 32.98s/it]\u001b[A"
     ]
    },
    {
     "name": "stdout",
     "output_type": "stream",
     "text": [
      "Scraping images for class \"flying jib\"\n",
      "Multiprocessing workers: 8\n"
     ]
    },
    {
     "name": "stderr",
     "output_type": "stream",
     "text": [
      "\n",
      "  2%|▏         | 17/1100 [05:07<8:54:21, 29.60s/it]\u001b[A"
     ]
    },
    {
     "name": "stdout",
     "output_type": "stream",
     "text": [
      "Scraping images for class \"White Russian\"\n",
      "Multiprocessing workers: 8\n"
     ]
    },
    {
     "name": "stderr",
     "output_type": "stream",
     "text": [
      "\n",
      "  2%|▏         | 18/1100 [05:19<7:15:34, 24.15s/it]\u001b[A"
     ]
    },
    {
     "name": "stdout",
     "output_type": "stream",
     "text": [
      "Scraping images for class \"astrolabe\"\n",
      "Multiprocessing workers: 8\n"
     ]
    },
    {
     "name": "stderr",
     "output_type": "stream",
     "text": [
      "\n",
      "  2%|▏         | 19/1100 [05:22<5:18:45, 17.69s/it]\u001b[A"
     ]
    },
    {
     "name": "stdout",
     "output_type": "stream",
     "text": [
      "Scraping images for class \"glow lamp\"\n",
      "Multiprocessing workers: 8\n"
     ]
    },
    {
     "name": "stderr",
     "output_type": "stream",
     "text": [
      "\n",
      "  2%|▏         | 20/1100 [05:33<4:46:10, 15.90s/it]\u001b[A"
     ]
    },
    {
     "name": "stdout",
     "output_type": "stream",
     "text": [
      "Scraping images for class \"Melkite\"\n",
      "Multiprocessing workers: 8\n"
     ]
    },
    {
     "name": "stderr",
     "output_type": "stream",
     "text": [
      "\n",
      "  2%|▏         | 21/1100 [05:40<3:58:40, 13.27s/it]\u001b[A"
     ]
    },
    {
     "name": "stdout",
     "output_type": "stream",
     "text": [
      "Scraping images for class \"hydrometer\"\n",
      "Multiprocessing workers: 8\n"
     ]
    },
    {
     "name": "stderr",
     "output_type": "stream",
     "text": [
      "\n",
      "  2%|▏         | 22/1100 [05:43<3:00:23, 10.04s/it]\u001b[A"
     ]
    },
    {
     "name": "stdout",
     "output_type": "stream",
     "text": [
      "Scraping images for class \"marsh plant\"\n",
      "Multiprocessing workers: 8\n",
      "\n",
      "Scraping stats:\n",
      "STATS For class is_flickr:\n",
      " tried 24484.0 urls with 16827.0 successes\n",
      "68.72651527528181% success rate for is_flickr urls \n",
      "0.9910123025470574 seconds spent per is_flickr succesful image download\n",
      "STATS For class not_flickr:\n",
      " tried 0.0 urls with 0.0 successes\n",
      "STATS For class all:\n",
      " tried 24485.0 urls with 16827.0 successes\n",
      "68.72370839289361% success rate for all urls \n",
      "0.9910182807118496 seconds spent per all succesful image download\n"
     ]
    },
    {
     "name": "stderr",
     "output_type": "stream",
     "text": [
      "\n",
      "  2%|▏         | 23/1100 [05:46<2:21:09,  7.86s/it]\u001b[A"
     ]
    },
    {
     "name": "stdout",
     "output_type": "stream",
     "text": [
      "Scraping images for class \"oyster mushroom\"\n",
      "Multiprocessing workers: 8\n"
     ]
    },
    {
     "name": "stderr",
     "output_type": "stream",
     "text": [
      "\n",
      "  2%|▏         | 24/1100 [05:53<2:19:41,  7.79s/it]\u001b[A"
     ]
    },
    {
     "name": "stdout",
     "output_type": "stream",
     "text": [
      "Scraping images for class \"maple\"\n",
      "Multiprocessing workers: 8\n"
     ]
    },
    {
     "name": "stderr",
     "output_type": "stream",
     "text": [
      "\n",
      "  2%|▏         | 25/1100 [05:56<1:52:24,  6.27s/it]\u001b[A"
     ]
    },
    {
     "name": "stdout",
     "output_type": "stream",
     "text": [
      "Scraping images for class \"entrepreneur\"\n",
      "Multiprocessing workers: 8\n"
     ]
    },
    {
     "name": "stderr",
     "output_type": "stream",
     "text": [
      "\n",
      "  2%|▏         | 26/1100 [06:14<2:54:09,  9.73s/it]\u001b[A"
     ]
    },
    {
     "name": "stdout",
     "output_type": "stream",
     "text": [
      "Scraping images for class \"metasequoia\"\n",
      "Multiprocessing workers: 8\n"
     ]
    },
    {
     "name": "stderr",
     "output_type": "stream",
     "text": [
      "\n",
      "  2%|▏         | 27/1100 [06:26<3:09:48, 10.61s/it]\u001b[A"
     ]
    },
    {
     "name": "stdout",
     "output_type": "stream",
     "text": [
      "Scraping images for class \"level\"\n",
      "Multiprocessing workers: 8\n"
     ]
    },
    {
     "name": "stderr",
     "output_type": "stream",
     "text": [
      "\n",
      "  3%|▎         | 28/1100 [06:40<3:23:35, 11.40s/it]\u001b[A"
     ]
    },
    {
     "name": "stdout",
     "output_type": "stream",
     "text": [
      "Scraping images for class \"foreground\"\n",
      "Multiprocessing workers: 8\n"
     ]
    },
    {
     "name": "stderr",
     "output_type": "stream",
     "text": [
      "\n",
      "  3%|▎         | 29/1100 [06:48<3:06:15, 10.43s/it]\u001b[A"
     ]
    },
    {
     "name": "stdout",
     "output_type": "stream",
     "text": [
      "Scraping images for class \"linseed\"\n",
      "Multiprocessing workers: 8\n"
     ]
    },
    {
     "name": "stderr",
     "output_type": "stream",
     "text": [
      "\n",
      "  3%|▎         | 30/1100 [07:00<3:17:36, 11.08s/it]\u001b[A"
     ]
    },
    {
     "name": "stdout",
     "output_type": "stream",
     "text": [
      "Scraping images for class \"rig\"\n",
      "Multiprocessing workers: 8\n"
     ]
    },
    {
     "name": "stderr",
     "output_type": "stream",
     "text": [
      "\n",
      "  3%|▎         | 31/1100 [07:22<4:13:56, 14.25s/it]\u001b[A"
     ]
    },
    {
     "name": "stdout",
     "output_type": "stream",
     "text": [
      "Scraping images for class \"engine\"\n",
      "Scraping images for class \"shunt\"\n",
      "Multiprocessing workers: 8\n"
     ]
    },
    {
     "name": "stderr",
     "output_type": "stream",
     "text": [
      "\n",
      "  3%|▎         | 33/1100 [07:24<3:01:20, 10.20s/it]\u001b[A"
     ]
    },
    {
     "name": "stdout",
     "output_type": "stream",
     "text": [
      "Scraping images for class \"Easter egg\"\n",
      "Multiprocessing workers: 8\n"
     ]
    },
    {
     "name": "stderr",
     "output_type": "stream",
     "text": [
      "\n",
      "  3%|▎         | 34/1100 [07:56<4:59:26, 16.85s/it]\u001b[A"
     ]
    },
    {
     "name": "stdout",
     "output_type": "stream",
     "text": [
      "Scraping images for class \"coatdress\"\n",
      "Multiprocessing workers: 8\n"
     ]
    },
    {
     "name": "stderr",
     "output_type": "stream",
     "text": [
      "\n",
      "  3%|▎         | 35/1100 [08:15<5:08:53, 17.40s/it]\u001b[A"
     ]
    },
    {
     "name": "stdout",
     "output_type": "stream",
     "text": [
      "Scraping images for class \"American wistaria\"\n",
      "Multiprocessing workers: 8\n"
     ]
    },
    {
     "name": "stderr",
     "output_type": "stream",
     "text": [
      "\n",
      "  3%|▎         | 36/1100 [08:33<5:13:03, 17.65s/it]\u001b[A"
     ]
    },
    {
     "name": "stdout",
     "output_type": "stream",
     "text": [
      "Scraping images for class \"Mexican sunflower\"\n",
      "Multiprocessing workers: 8\n",
      "\n",
      "Scraping stats:\n",
      "STATS For class is_flickr:\n",
      " tried 24734.0 urls with 16990.0 successes\n",
      "68.6908708660144% success rate for is_flickr urls \n",
      "0.9918604595090025 seconds spent per is_flickr succesful image download\n",
      "STATS For class not_flickr:\n",
      " tried 0.0 urls with 0.0 successes\n",
      "STATS For class all:\n",
      " tried 24734.0 urls with 16990.0 successes\n",
      "68.6908708660144% success rate for all urls \n",
      "0.9918612851613826 seconds spent per all succesful image download\n"
     ]
    },
    {
     "name": "stderr",
     "output_type": "stream",
     "text": [
      "\n",
      "  3%|▎         | 37/1100 [09:00<6:02:28, 20.46s/it]\u001b[A"
     ]
    },
    {
     "name": "stdout",
     "output_type": "stream",
     "text": [
      "Scraping images for class \"pavilion\"\n",
      "Multiprocessing workers: 8\n"
     ]
    },
    {
     "name": "stderr",
     "output_type": "stream",
     "text": [
      "\n",
      "  3%|▎         | 38/1100 [09:38<7:36:33, 25.79s/it]\u001b[A"
     ]
    },
    {
     "name": "stdout",
     "output_type": "stream",
     "text": [
      "Scraping images for class \"imperialist\"\n",
      "Multiprocessing workers: 8\n"
     ]
    },
    {
     "name": "stderr",
     "output_type": "stream",
     "text": [
      "\n",
      "  4%|▎         | 39/1100 [10:01<7:22:17, 25.01s/it]\u001b[A"
     ]
    },
    {
     "name": "stdout",
     "output_type": "stream",
     "text": [
      "Scraping images for class \"centrist\"\n",
      "Multiprocessing workers: 8\n"
     ]
    },
    {
     "name": "stderr",
     "output_type": "stream",
     "text": [
      "\n",
      "  4%|▎         | 40/1100 [10:04<5:21:37, 18.21s/it]\u001b[A"
     ]
    },
    {
     "name": "stdout",
     "output_type": "stream",
     "text": [
      "Scraping images for class \"Minuteman\"\n",
      "Multiprocessing workers: 8\n"
     ]
    },
    {
     "name": "stderr",
     "output_type": "stream",
     "text": [
      "\n",
      "  4%|▎         | 41/1100 [10:11<4:23:12, 14.91s/it]\u001b[A"
     ]
    },
    {
     "name": "stdout",
     "output_type": "stream",
     "text": [
      "Scraping images for class \"sequencer\"\n",
      "Multiprocessing workers: 8\n"
     ]
    },
    {
     "name": "stderr",
     "output_type": "stream",
     "text": [
      "\n",
      "  4%|▍         | 42/1100 [10:23<4:07:04, 14.01s/it]\u001b[A"
     ]
    },
    {
     "name": "stdout",
     "output_type": "stream",
     "text": [
      "Scraping images for class \"bread dough\"\n",
      "Multiprocessing workers: 8\n"
     ]
    },
    {
     "name": "stderr",
     "output_type": "stream",
     "text": [
      "\n",
      "  4%|▍         | 43/1100 [10:26<3:08:00, 10.67s/it]\u001b[A"
     ]
    },
    {
     "name": "stdout",
     "output_type": "stream",
     "text": [
      "Scraping images for class \"alehouse\"\n",
      "Multiprocessing workers: 8\n"
     ]
    },
    {
     "name": "stderr",
     "output_type": "stream",
     "text": [
      "\n",
      "  4%|▍         | 44/1100 [10:29<2:27:33,  8.38s/it]\u001b[A"
     ]
    },
    {
     "name": "stdout",
     "output_type": "stream",
     "text": [
      "Scraping images for class \"cock of the rock\"\n",
      "Multiprocessing workers: 8\n"
     ]
    },
    {
     "name": "stderr",
     "output_type": "stream",
     "text": [
      "\n",
      "  4%|▍         | 45/1100 [10:36<2:22:02,  8.08s/it]\u001b[A"
     ]
    },
    {
     "name": "stdout",
     "output_type": "stream",
     "text": [
      "Scraping images for class \"asp\"\n",
      "Multiprocessing workers: 8\n"
     ]
    },
    {
     "name": "stderr",
     "output_type": "stream",
     "text": [
      "\n",
      "  4%|▍         | 46/1100 [10:38<1:51:00,  6.32s/it]\u001b[A"
     ]
    },
    {
     "name": "stdout",
     "output_type": "stream",
     "text": [
      "Scraping images for class \"gasmask\"\n",
      "Multiprocessing workers: 8\n"
     ]
    },
    {
     "name": "stderr",
     "output_type": "stream",
     "text": [
      "\n",
      "  4%|▍         | 47/1100 [10:46<1:58:30,  6.75s/it]\u001b[A"
     ]
    },
    {
     "name": "stdout",
     "output_type": "stream",
     "text": [
      "Scraping images for class \"bass guitar\"\n",
      "Multiprocessing workers: 8\n",
      "\n",
      "Scraping stats:\n",
      "STATS For class is_flickr:\n",
      " tried 24984.0 urls with 17160.0 successes\n",
      "68.68395773294908% success rate for is_flickr urls \n",
      "0.9900430772965882 seconds spent per is_flickr succesful image download\n",
      "STATS For class not_flickr:\n",
      " tried 0.0 urls with 0.0 successes\n",
      "STATS For class all:\n",
      " tried 24984.0 urls with 17160.0 successes\n",
      "68.68395773294908% success rate for all urls \n",
      "0.9900435223584965 seconds spent per all succesful image download\n"
     ]
    },
    {
     "name": "stderr",
     "output_type": "stream",
     "text": [
      "\n",
      "  4%|▍         | 48/1100 [10:59<2:31:07,  8.62s/it]\u001b[A"
     ]
    },
    {
     "name": "stdout",
     "output_type": "stream",
     "text": [
      "Scraping images for class \"poppy\"\n",
      "Multiprocessing workers: 8\n"
     ]
    },
    {
     "name": "stderr",
     "output_type": "stream",
     "text": [
      "\n",
      "  4%|▍         | 49/1100 [11:12<2:51:32,  9.79s/it]\u001b[A"
     ]
    },
    {
     "name": "stdout",
     "output_type": "stream",
     "text": [
      "Scraping images for class \"panther\"\n",
      "Multiprocessing workers: 8\n"
     ]
    },
    {
     "name": "stderr",
     "output_type": "stream",
     "text": [
      "\n",
      "  5%|▍         | 50/1100 [11:20<2:41:54,  9.25s/it]\u001b[A"
     ]
    },
    {
     "name": "stdout",
     "output_type": "stream",
     "text": [
      "Scraping images for class \"ridge\"\n",
      "Multiprocessing workers: 8\n"
     ]
    },
    {
     "name": "stderr",
     "output_type": "stream",
     "text": [
      "\n",
      "  5%|▍         | 51/1100 [11:23<2:11:46,  7.54s/it]\u001b[A"
     ]
    },
    {
     "name": "stdout",
     "output_type": "stream",
     "text": [
      "Scraping images for class \"good-king-henry\"\n",
      "Multiprocessing workers: 8\n"
     ]
    },
    {
     "name": "stderr",
     "output_type": "stream",
     "text": [
      "\n",
      "  5%|▍         | 52/1100 [11:35<2:34:02,  8.82s/it]\u001b[A"
     ]
    },
    {
     "name": "stdout",
     "output_type": "stream",
     "text": [
      "Scraping images for class \"sculptor\"\n",
      "Multiprocessing workers: 8\n"
     ]
    },
    {
     "name": "stderr",
     "output_type": "stream",
     "text": [
      "\n",
      "  5%|▍         | 53/1100 [11:43<2:29:06,  8.54s/it]\u001b[A"
     ]
    },
    {
     "name": "stdout",
     "output_type": "stream",
     "text": [
      "Scraping images for class \"wild boar\"\n",
      "Multiprocessing workers: 8\n"
     ]
    },
    {
     "name": "stderr",
     "output_type": "stream",
     "text": [
      "\n",
      "  5%|▍         | 54/1100 [12:07<3:48:59, 13.14s/it]\u001b[A"
     ]
    },
    {
     "name": "stdout",
     "output_type": "stream",
     "text": [
      "Scraping images for class \"boxcar\"\n",
      "Multiprocessing workers: 8\n"
     ]
    },
    {
     "name": "stderr",
     "output_type": "stream",
     "text": [
      "\n",
      "  5%|▌         | 55/1100 [12:09<2:54:06, 10.00s/it]\u001b[A"
     ]
    },
    {
     "name": "stdout",
     "output_type": "stream",
     "text": [
      "Scraping images for class \"bitewing\"\n",
      "Multiprocessing workers: 8\n"
     ]
    },
    {
     "name": "stderr",
     "output_type": "stream",
     "text": [
      "\n",
      "  5%|▌         | 56/1100 [12:16<2:37:09,  9.03s/it]\u001b[A"
     ]
    },
    {
     "name": "stdout",
     "output_type": "stream",
     "text": [
      "Scraping images for class \"buckram\"\n",
      "Multiprocessing workers: 8\n"
     ]
    },
    {
     "name": "stderr",
     "output_type": "stream",
     "text": [
      "\n",
      "  5%|▌         | 57/1100 [12:40<3:53:54, 13.46s/it]\u001b[A"
     ]
    },
    {
     "name": "stdout",
     "output_type": "stream",
     "text": [
      "Scraping images for class \"valerian\"\n",
      "Multiprocessing workers: 8\n"
     ]
    },
    {
     "name": "stderr",
     "output_type": "stream",
     "text": [
      "\n",
      "  5%|▌         | 58/1100 [13:00<4:27:15, 15.39s/it]\u001b[A"
     ]
    },
    {
     "name": "stdout",
     "output_type": "stream",
     "text": [
      "Scraping images for class \"television antenna\"\n",
      "Multiprocessing workers: 8\n"
     ]
    },
    {
     "name": "stderr",
     "output_type": "stream",
     "text": [
      "\n",
      "  5%|▌         | 59/1100 [13:18<4:39:23, 16.10s/it]\u001b[A"
     ]
    },
    {
     "name": "stdout",
     "output_type": "stream",
     "text": [
      "Scraping images for class \"climbing frame\"\n",
      "Multiprocessing workers: 8\n",
      "\n",
      "Scraping stats:\n",
      "STATS For class is_flickr:\n",
      " tried 25239.0 urls with 17326.0 successes\n",
      "68.64772772296843% success rate for is_flickr urls \n",
      "0.9892493763408112 seconds spent per is_flickr succesful image download\n",
      "STATS For class not_flickr:\n",
      " tried 0.0 urls with 0.0 successes\n",
      "STATS For class all:\n",
      " tried 25239.0 urls with 17326.0 successes\n",
      "68.64772772296843% success rate for all urls \n",
      "0.9892495519278521 seconds spent per all succesful image download\n"
     ]
    },
    {
     "name": "stderr",
     "output_type": "stream",
     "text": [
      "\n",
      "  5%|▌         | 60/1100 [14:11<7:52:05, 27.24s/it]\u001b[A"
     ]
    },
    {
     "name": "stdout",
     "output_type": "stream",
     "text": [
      "Scraping images for class \"cornetfish\"\n",
      "Multiprocessing workers: 8\n"
     ]
    },
    {
     "name": "stderr",
     "output_type": "stream",
     "text": [
      "\n",
      "  6%|▌         | 61/1100 [14:52<9:05:11, 31.48s/it]\u001b[A"
     ]
    },
    {
     "name": "stdout",
     "output_type": "stream",
     "text": [
      "Scraping images for class \"helminth\"\n",
      "Multiprocessing workers: 8\n"
     ]
    },
    {
     "name": "stderr",
     "output_type": "stream",
     "text": [
      "\n",
      "  6%|▌         | 62/1100 [15:30<9:35:59, 33.29s/it]\u001b[A"
     ]
    },
    {
     "name": "stdout",
     "output_type": "stream",
     "text": [
      "Scraping images for class \"Tartuffe\"\n",
      "Multiprocessing workers: 8\n"
     ]
    },
    {
     "name": "stderr",
     "output_type": "stream",
     "text": [
      "\n",
      "  6%|▌         | 63/1100 [15:41<7:39:46, 26.60s/it]\u001b[A"
     ]
    },
    {
     "name": "stdout",
     "output_type": "stream",
     "text": [
      "Scraping images for class \"header\"\n",
      "Multiprocessing workers: 8\n"
     ]
    },
    {
     "name": "stderr",
     "output_type": "stream",
     "text": [
      "\n",
      "  6%|▌         | 64/1100 [15:52<6:22:16, 22.14s/it]\u001b[A"
     ]
    },
    {
     "name": "stdout",
     "output_type": "stream",
     "text": [
      "Scraping images for class \"push button\"\n",
      "Multiprocessing workers: 8\n"
     ]
    },
    {
     "name": "stderr",
     "output_type": "stream",
     "text": [
      "\n",
      "  6%|▌         | 65/1100 [15:56<4:43:51, 16.46s/it]\u001b[A"
     ]
    },
    {
     "name": "stdout",
     "output_type": "stream",
     "text": [
      "Scraping images for class \"kneeler\"\n",
      "Multiprocessing workers: 8\n"
     ]
    },
    {
     "name": "stderr",
     "output_type": "stream",
     "text": [
      "\n",
      "  6%|▌         | 66/1100 [16:08<4:20:12, 15.10s/it]\u001b[A"
     ]
    },
    {
     "name": "stdout",
     "output_type": "stream",
     "text": [
      "Scraping images for class \"impala lily\"\n",
      "Multiprocessing workers: 8\n"
     ]
    },
    {
     "name": "stderr",
     "output_type": "stream",
     "text": [
      "\n",
      "  6%|▌         | 67/1100 [16:11<3:17:42, 11.48s/it]\u001b[A"
     ]
    },
    {
     "name": "stdout",
     "output_type": "stream",
     "text": [
      "Scraping images for class \"plum sauce\"\n",
      "Multiprocessing workers: 8\n"
     ]
    },
    {
     "name": "stderr",
     "output_type": "stream",
     "text": [
      "\n",
      "  6%|▌         | 68/1100 [16:19<3:00:13, 10.48s/it]\u001b[A"
     ]
    },
    {
     "name": "stdout",
     "output_type": "stream",
     "text": [
      "Scraping images for class \"drinking vessel\"\n",
      "Multiprocessing workers: 8\n"
     ]
    },
    {
     "name": "stderr",
     "output_type": "stream",
     "text": [
      "\n",
      "  6%|▋         | 69/1100 [16:22<2:21:17,  8.22s/it]\u001b[A"
     ]
    },
    {
     "name": "stdout",
     "output_type": "stream",
     "text": [
      "Scraping images for class \"common fennel\"\n",
      "Multiprocessing workers: 8\n",
      "\n",
      "Scraping stats:\n",
      "STATS For class is_flickr:\n",
      " tried 25484.0 urls with 17472.0 successes\n",
      "68.56066551561764% success rate for is_flickr urls \n",
      "0.9913014950906183 seconds spent per is_flickr succesful image download\n",
      "STATS For class not_flickr:\n",
      " tried 0.0 urls with 0.0 successes\n",
      "STATS For class all:\n",
      " tried 25484.0 urls with 17472.0 successes\n",
      "68.56066551561764% success rate for all urls \n",
      "0.9913018761891803 seconds spent per all succesful image download\n"
     ]
    },
    {
     "name": "stderr",
     "output_type": "stream",
     "text": [
      "\n",
      "  6%|▋         | 70/1100 [16:30<2:22:04,  8.28s/it]\u001b[A"
     ]
    },
    {
     "name": "stdout",
     "output_type": "stream",
     "text": [
      "Scraping images for class \"green alder\"\n",
      "Multiprocessing workers: 8\n"
     ]
    },
    {
     "name": "stderr",
     "output_type": "stream",
     "text": [
      "\n",
      "  6%|▋         | 71/1100 [16:33<1:52:06,  6.54s/it]\u001b[A"
     ]
    },
    {
     "name": "stdout",
     "output_type": "stream",
     "text": [
      "Scraping images for class \"espionage agent\"\n",
      "Multiprocessing workers: 8\n"
     ]
    },
    {
     "name": "stderr",
     "output_type": "stream",
     "text": [
      "\n",
      "  7%|▋         | 72/1100 [16:34<1:28:14,  5.15s/it]\u001b[A"
     ]
    },
    {
     "name": "stdout",
     "output_type": "stream",
     "text": [
      "Scraping images for class \"autopilot\"\n",
      "Multiprocessing workers: 8\n"
     ]
    },
    {
     "name": "stderr",
     "output_type": "stream",
     "text": [
      "\n",
      "  7%|▋         | 73/1100 [16:43<1:45:46,  6.18s/it]\u001b[A"
     ]
    },
    {
     "name": "stdout",
     "output_type": "stream",
     "text": [
      "Scraping images for class \"motor vehicle\"\n",
      "Multiprocessing workers: 8\n"
     ]
    },
    {
     "name": "stderr",
     "output_type": "stream",
     "text": [
      "\n",
      "  7%|▋         | 74/1100 [16:52<1:59:29,  6.99s/it]\u001b[A"
     ]
    },
    {
     "name": "stdout",
     "output_type": "stream",
     "text": [
      "Scraping images for class \"footlocker\"\n",
      "Multiprocessing workers: 8\n"
     ]
    },
    {
     "name": "stderr",
     "output_type": "stream",
     "text": [
      "\n",
      "  7%|▋         | 75/1100 [16:54<1:35:47,  5.61s/it]\u001b[A"
     ]
    },
    {
     "name": "stdout",
     "output_type": "stream",
     "text": [
      "Scraping images for class \"halibut\"\n",
      "Multiprocessing workers: 8\n"
     ]
    },
    {
     "name": "stderr",
     "output_type": "stream",
     "text": [
      "\n",
      "  7%|▋         | 76/1100 [16:57<1:21:53,  4.80s/it]\u001b[A"
     ]
    },
    {
     "name": "stdout",
     "output_type": "stream",
     "text": [
      "Scraping images for class \"newel post\"\n",
      "Multiprocessing workers: 8\n"
     ]
    },
    {
     "name": "stderr",
     "output_type": "stream",
     "text": [
      "\n",
      "  7%|▋         | 77/1100 [17:05<1:35:45,  5.62s/it]\u001b[A"
     ]
    },
    {
     "name": "stdout",
     "output_type": "stream",
     "text": [
      "Scraping images for class \"martello tower\"\n",
      "Multiprocessing workers: 8\n"
     ]
    },
    {
     "name": "stderr",
     "output_type": "stream",
     "text": [
      "\n",
      "  7%|▋         | 78/1100 [17:08<1:23:25,  4.90s/it]\u001b[A"
     ]
    },
    {
     "name": "stdout",
     "output_type": "stream",
     "text": [
      "Scraping images for class \"toy\"\n",
      "Multiprocessing workers: 8\n"
     ]
    },
    {
     "name": "stderr",
     "output_type": "stream",
     "text": [
      "\n",
      "  7%|▋         | 79/1100 [17:15<1:34:44,  5.57s/it]\u001b[A"
     ]
    },
    {
     "name": "stdout",
     "output_type": "stream",
     "text": [
      "Scraping images for class \"flintlock\"\n",
      "Multiprocessing workers: 8\n"
     ]
    },
    {
     "name": "stderr",
     "output_type": "stream",
     "text": [
      "\n",
      "  7%|▋         | 80/1100 [17:24<1:51:35,  6.56s/it]\u001b[A"
     ]
    },
    {
     "name": "stdout",
     "output_type": "stream",
     "text": [
      "Scraping images for class \"Hungarian sauce\"\n",
      "Multiprocessing workers: 8\n"
     ]
    },
    {
     "name": "stderr",
     "output_type": "stream",
     "text": [
      "\n",
      "  7%|▋         | 81/1100 [17:26<1:30:26,  5.32s/it]\u001b[A"
     ]
    },
    {
     "name": "stdout",
     "output_type": "stream",
     "text": [
      "Scraping images for class \"smut grass\"\n",
      "Multiprocessing workers: 8\n"
     ]
    },
    {
     "name": "stderr",
     "output_type": "stream",
     "text": [
      "\n",
      "  7%|▋         | 82/1100 [17:39<2:08:02,  7.55s/it]\u001b[A"
     ]
    },
    {
     "name": "stdout",
     "output_type": "stream",
     "text": [
      "Scraping images for class \"axseed\"\n",
      "Multiprocessing workers: 8\n",
      "\n",
      "Scraping stats:\n",
      "STATS For class is_flickr:\n",
      " tried 25737.0 urls with 17667.0 successes\n",
      "68.64436414500524% success rate for is_flickr urls \n",
      "0.9849582590500554 seconds spent per is_flickr succesful image download\n",
      "STATS For class not_flickr:\n",
      " tried 0.0 urls with 0.0 successes\n",
      "STATS For class all:\n",
      " tried 25737.0 urls with 17667.0 successes\n",
      "68.64436414500524% success rate for all urls \n",
      "0.9849585746878065 seconds spent per all succesful image download\n"
     ]
    },
    {
     "name": "stderr",
     "output_type": "stream",
     "text": [
      "\n",
      "  8%|▊         | 83/1100 [18:32<5:59:49, 21.23s/it]\u001b[A"
     ]
    },
    {
     "name": "stdout",
     "output_type": "stream",
     "text": [
      "Scraping images for class \"blunderbuss\"\n",
      "Multiprocessing workers: 8\n"
     ]
    },
    {
     "name": "stderr",
     "output_type": "stream",
     "text": [
      "\n",
      "  8%|▊         | 84/1100 [19:06<7:00:36, 24.84s/it]\u001b[A"
     ]
    },
    {
     "name": "stdout",
     "output_type": "stream",
     "text": [
      "Scraping images for class \"chili\"\n",
      "Multiprocessing workers: 8\n"
     ]
    },
    {
     "name": "stderr",
     "output_type": "stream",
     "text": [
      "\n",
      "  8%|▊         | 85/1100 [19:29<6:54:21, 24.49s/it]\u001b[A"
     ]
    },
    {
     "name": "stdout",
     "output_type": "stream",
     "text": [
      "Scraping images for class \"flatfish\"\n",
      "Multiprocessing workers: 8\n"
     ]
    },
    {
     "name": "stderr",
     "output_type": "stream",
     "text": [
      "\n",
      "  8%|▊         | 86/1100 [19:52<6:45:29, 23.99s/it]\u001b[A"
     ]
    },
    {
     "name": "stdout",
     "output_type": "stream",
     "text": [
      "Scraping images for class \"lentil\"\n",
      "Multiprocessing workers: 8\n"
     ]
    },
    {
     "name": "stderr",
     "output_type": "stream",
     "text": [
      "\n",
      "  8%|▊         | 87/1100 [19:55<4:59:08, 17.72s/it]\u001b[A"
     ]
    },
    {
     "name": "stdout",
     "output_type": "stream",
     "text": [
      "Scraping images for class \"futon\"\n",
      "Multiprocessing workers: 8\n"
     ]
    },
    {
     "name": "stderr",
     "output_type": "stream",
     "text": [
      "\n",
      "  8%|▊         | 88/1100 [20:38<7:07:47, 25.36s/it]\u001b[A"
     ]
    },
    {
     "name": "stdout",
     "output_type": "stream",
     "text": [
      "Scraping images for class \"bustle\"\n",
      "Multiprocessing workers: 8\n"
     ]
    },
    {
     "name": "stderr",
     "output_type": "stream",
     "text": [
      "\n",
      "  8%|▊         | 89/1100 [21:02<7:00:42, 24.97s/it]\u001b[A"
     ]
    },
    {
     "name": "stdout",
     "output_type": "stream",
     "text": [
      "Scraping images for class \"rotgut\"\n",
      "Multiprocessing workers: 8\n"
     ]
    },
    {
     "name": "stderr",
     "output_type": "stream",
     "text": [
      "\n",
      "  8%|▊         | 90/1100 [21:21<6:25:42, 22.91s/it]\u001b[A"
     ]
    },
    {
     "name": "stdout",
     "output_type": "stream",
     "text": [
      "Scraping images for class \"building\"\n",
      "Multiprocessing workers: 8\n"
     ]
    },
    {
     "name": "stderr",
     "output_type": "stream",
     "text": [
      "\n",
      "  8%|▊         | 91/1100 [21:24<4:48:02, 17.13s/it]\u001b[A"
     ]
    },
    {
     "name": "stdout",
     "output_type": "stream",
     "text": [
      "Scraping images for class \"pelagic bird\"\n",
      "Multiprocessing workers: 8\n"
     ]
    },
    {
     "name": "stderr",
     "output_type": "stream",
     "text": [
      "\n",
      "  8%|▊         | 92/1100 [21:42<4:53:30, 17.47s/it]\u001b[A"
     ]
    },
    {
     "name": "stdout",
     "output_type": "stream",
     "text": [
      "Scraping images for class \"Fauve\"\n",
      "Multiprocessing workers: 8\n",
      "\n",
      "Scraping stats:\n",
      "STATS For class is_flickr:\n",
      " tried 25984.0 urls with 17825.0 successes\n",
      "68.59990763546799% success rate for is_flickr urls \n",
      "0.990519282366417 seconds spent per is_flickr succesful image download\n",
      "STATS For class not_flickr:\n",
      " tried 0.0 urls with 0.0 successes\n",
      "STATS For class all:\n",
      " tried 25984.0 urls with 17825.0 successes\n",
      "68.59990763546799% success rate for all urls \n",
      "0.9905201314308199 seconds spent per all succesful image download\n"
     ]
    },
    {
     "name": "stderr",
     "output_type": "stream",
     "text": [
      "\n",
      "  8%|▊         | 93/1100 [22:32<7:32:37, 26.97s/it]\u001b[A"
     ]
    },
    {
     "name": "stdout",
     "output_type": "stream",
     "text": [
      "Scraping images for class \"pumpkin\"\n",
      "Multiprocessing workers: 8\n"
     ]
    },
    {
     "name": "stderr",
     "output_type": "stream",
     "text": [
      "\n",
      "  9%|▊         | 94/1100 [23:17<9:02:36, 32.36s/it]\u001b[A"
     ]
    },
    {
     "name": "stdout",
     "output_type": "stream",
     "text": [
      "Scraping images for class \"rockfish\"\n",
      "Multiprocessing workers: 8\n"
     ]
    },
    {
     "name": "stderr",
     "output_type": "stream",
     "text": [
      "\n",
      "  9%|▊         | 95/1100 [23:41<8:22:01, 29.97s/it]\u001b[A"
     ]
    },
    {
     "name": "stdout",
     "output_type": "stream",
     "text": [
      "Scraping images for class \"newsstand\"\n",
      "Multiprocessing workers: 8\n"
     ]
    },
    {
     "name": "stderr",
     "output_type": "stream",
     "text": [
      "\n",
      "  9%|▊         | 96/1100 [24:16<8:45:33, 31.41s/it]\u001b[A"
     ]
    },
    {
     "name": "stdout",
     "output_type": "stream",
     "text": [
      "Scraping images for class \"generator\"\n",
      "Scraping images for class \"cork tree\"\n",
      "Multiprocessing workers: 8\n"
     ]
    },
    {
     "name": "stderr",
     "output_type": "stream",
     "text": [
      "\n",
      "  9%|▉         | 98/1100 [24:50<7:33:22, 27.15s/it]\u001b[A"
     ]
    },
    {
     "name": "stdout",
     "output_type": "stream",
     "text": [
      "Scraping images for class \"wild madder\"\n",
      "Multiprocessing workers: 8\n"
     ]
    },
    {
     "name": "stderr",
     "output_type": "stream",
     "text": [
      "\n",
      "  9%|▉         | 99/1100 [25:30<8:35:28, 30.90s/it]\u001b[A"
     ]
    },
    {
     "name": "stdout",
     "output_type": "stream",
     "text": [
      "Scraping images for class \"king penguin\"\n",
      "Multiprocessing workers: 8\n"
     ]
    },
    {
     "name": "stderr",
     "output_type": "stream",
     "text": [
      "\n",
      "  9%|▉         | 100/1100 [26:20<10:10:35, 36.64s/it]\u001b[A"
     ]
    },
    {
     "name": "stdout",
     "output_type": "stream",
     "text": [
      "Scraping images for class \"domino\"\n",
      "Multiprocessing workers: 8\n"
     ]
    },
    {
     "name": "stderr",
     "output_type": "stream",
     "text": [
      "\n",
      "  9%|▉         | 101/1100 [26:54<9:58:25, 35.94s/it] \u001b[A"
     ]
    },
    {
     "name": "stdout",
     "output_type": "stream",
     "text": [
      "Scraping images for class \"apple mint\"\n",
      "Multiprocessing workers: 8\n"
     ]
    },
    {
     "name": "stderr",
     "output_type": "stream",
     "text": [
      "\n",
      "  9%|▉         | 102/1100 [27:19<9:03:11, 32.66s/it]\u001b[A"
     ]
    },
    {
     "name": "stdout",
     "output_type": "stream",
     "text": [
      "Scraping images for class \"cigar smoker\"\n",
      "Multiprocessing workers: 8\n"
     ]
    },
    {
     "name": "stderr",
     "output_type": "stream",
     "text": [
      "\n",
      "  9%|▉         | 103/1100 [28:02<9:53:31, 35.72s/it]\u001b[A"
     ]
    },
    {
     "name": "stdout",
     "output_type": "stream",
     "text": [
      "Scraping images for class \"long trousers\"\n",
      "Multiprocessing workers: 8\n",
      "\n",
      "Scraping stats:\n",
      "STATS For class is_flickr:\n",
      " tried 26239.0 urls with 17975.0 successes\n",
      "68.50489729029307% success rate for is_flickr urls \n",
      "1.0021736670535197 seconds spent per is_flickr succesful image download\n",
      "STATS For class not_flickr:\n",
      " tried 0.0 urls with 0.0 successes\n",
      "STATS For class all:\n",
      " tried 26239.0 urls with 17975.0 successes\n",
      "68.50489729029307% success rate for all urls \n",
      "1.0021738271089853 seconds spent per all succesful image download\n"
     ]
    },
    {
     "name": "stderr",
     "output_type": "stream",
     "text": [
      "\n",
      "  9%|▉         | 104/1100 [28:36<9:43:14, 35.13s/it]\u001b[A"
     ]
    },
    {
     "name": "stdout",
     "output_type": "stream",
     "text": [
      "Scraping images for class \"fishhook\"\n",
      "Multiprocessing workers: 8\n"
     ]
    },
    {
     "name": "stderr",
     "output_type": "stream",
     "text": [
      "\n",
      " 10%|▉         | 105/1100 [28:49<7:53:02, 28.53s/it]\u001b[A"
     ]
    },
    {
     "name": "stdout",
     "output_type": "stream",
     "text": [
      "Scraping images for class \"solar heater\"\n",
      "Multiprocessing workers: 8\n"
     ]
    },
    {
     "name": "stderr",
     "output_type": "stream",
     "text": [
      "\n",
      " 10%|▉         | 106/1100 [29:23<8:19:04, 30.13s/it]\u001b[A"
     ]
    },
    {
     "name": "stdout",
     "output_type": "stream",
     "text": [
      "Scraping images for class \"textile screw pine\"\n",
      "Multiprocessing workers: 8\n"
     ]
    },
    {
     "name": "stderr",
     "output_type": "stream",
     "text": [
      "\n",
      " 10%|▉         | 107/1100 [29:33<6:39:21, 24.13s/it]\u001b[A"
     ]
    },
    {
     "name": "stdout",
     "output_type": "stream",
     "text": [
      "Scraping images for class \"mandarin\"\n",
      "Multiprocessing workers: 8\n"
     ]
    },
    {
     "name": "stderr",
     "output_type": "stream",
     "text": [
      "\n",
      " 10%|▉         | 108/1100 [29:57<6:37:46, 24.06s/it]\u001b[A"
     ]
    },
    {
     "name": "stdout",
     "output_type": "stream",
     "text": [
      "Scraping images for class \"radio compass\"\n",
      "Multiprocessing workers: 8\n"
     ]
    },
    {
     "name": "stderr",
     "output_type": "stream",
     "text": [
      "\n",
      " 10%|▉         | 109/1100 [30:30<7:22:21, 26.78s/it]\u001b[A"
     ]
    },
    {
     "name": "stdout",
     "output_type": "stream",
     "text": [
      "Scraping images for class \"darling\"\n",
      "Multiprocessing workers: 8\n"
     ]
    },
    {
     "name": "stderr",
     "output_type": "stream",
     "text": [
      "\n",
      " 10%|█         | 110/1100 [31:05<8:01:25, 29.18s/it]\u001b[A"
     ]
    },
    {
     "name": "stdout",
     "output_type": "stream",
     "text": [
      "Scraping images for class \"gazpacho\"\n",
      "Multiprocessing workers: 8\n"
     ]
    },
    {
     "name": "stderr",
     "output_type": "stream",
     "text": [
      "\n",
      " 10%|█         | 111/1100 [32:00<10:12:36, 37.16s/it]\u001b[A"
     ]
    },
    {
     "name": "stdout",
     "output_type": "stream",
     "text": [
      "Scraping images for class \"copper\"\n",
      "Multiprocessing workers: 8\n"
     ]
    },
    {
     "name": "stderr",
     "output_type": "stream",
     "text": [
      "\n",
      " 10%|█         | 112/1100 [32:23<9:02:04, 32.92s/it] \u001b[A"
     ]
    },
    {
     "name": "stdout",
     "output_type": "stream",
     "text": [
      "Scraping images for class \"moon shell\"\n",
      "Multiprocessing workers: 8\n"
     ]
    },
    {
     "name": "stderr",
     "output_type": "stream",
     "text": [
      "\n",
      " 10%|█         | 113/1100 [33:12<10:17:36, 37.54s/it]\u001b[A"
     ]
    },
    {
     "name": "stdout",
     "output_type": "stream",
     "text": [
      "Scraping images for class \"mechanical device\"\n",
      "Multiprocessing workers: 8\n",
      "\n",
      "Scraping stats:\n",
      "STATS For class is_flickr:\n",
      " tried 26485.0 urls with 18126.0 successes\n",
      "68.4387389088163% success rate for is_flickr urls \n",
      "1.0114728516331706 seconds spent per is_flickr succesful image download\n",
      "STATS For class not_flickr:\n",
      " tried 0.0 urls with 0.0 successes\n",
      "STATS For class all:\n",
      " tried 26485.0 urls with 18126.0 successes\n",
      "68.4387389088163% success rate for all urls \n",
      "1.0114731709320235 seconds spent per all succesful image download\n"
     ]
    },
    {
     "name": "stderr",
     "output_type": "stream",
     "text": [
      "\n",
      " 10%|█         | 114/1100 [34:06<11:38:53, 42.53s/it]\u001b[A"
     ]
    },
    {
     "name": "stdout",
     "output_type": "stream",
     "text": [
      "Scraping images for class \"godfather\"\n",
      "Multiprocessing workers: 8\n"
     ]
    },
    {
     "name": "stderr",
     "output_type": "stream",
     "text": [
      "\n",
      " 10%|█         | 115/1100 [34:39<10:52:39, 39.76s/it]\u001b[A"
     ]
    },
    {
     "name": "stdout",
     "output_type": "stream",
     "text": [
      "Scraping images for class \"stun gun\"\n",
      "Multiprocessing workers: 8\n"
     ]
    },
    {
     "name": "stderr",
     "output_type": "stream",
     "text": [
      "\n",
      " 11%|█         | 116/1100 [35:39<12:29:16, 45.69s/it]\u001b[A"
     ]
    },
    {
     "name": "stdout",
     "output_type": "stream",
     "text": [
      "Scraping images for class \"cyme\"\n"
     ]
    },
    {
     "name": "stderr",
     "output_type": "stream",
     "text": [
      "\n",
      " 11%|█         | 117/1100 [35:59<10:22:48, 38.01s/it]\u001b[A"
     ]
    },
    {
     "name": "stdout",
     "output_type": "stream",
     "text": [
      "Scraping images for class \"common matrimony vine\"\n",
      "Multiprocessing workers: 8\n"
     ]
    },
    {
     "name": "stderr",
     "output_type": "stream",
     "text": [
      "\n",
      " 11%|█         | 118/1100 [36:33<10:03:48, 36.89s/it]\u001b[A"
     ]
    },
    {
     "name": "stdout",
     "output_type": "stream",
     "text": [
      "Scraping images for class \"pants suit\"\n",
      "Multiprocessing workers: 8\n"
     ]
    },
    {
     "name": "stderr",
     "output_type": "stream",
     "text": [
      "\n",
      " 11%|█         | 119/1100 [36:47<8:08:58, 29.91s/it] \u001b[A"
     ]
    },
    {
     "name": "stdout",
     "output_type": "stream",
     "text": [
      "Scraping images for class \"parasail\"\n",
      "Multiprocessing workers: 8\n"
     ]
    },
    {
     "name": "stderr",
     "output_type": "stream",
     "text": [
      "\n",
      " 11%|█         | 120/1100 [37:10<7:37:00, 27.98s/it]\u001b[A"
     ]
    },
    {
     "name": "stdout",
     "output_type": "stream",
     "text": [
      "Scraping images for class \"roughcast\"\n",
      "Multiprocessing workers: 8\n"
     ]
    },
    {
     "name": "stderr",
     "output_type": "stream",
     "text": [
      "\n",
      " 11%|█         | 121/1100 [37:43<8:00:54, 29.47s/it]\u001b[A"
     ]
    },
    {
     "name": "stdout",
     "output_type": "stream",
     "text": [
      "Scraping images for class \"sailfish\"\n",
      "Multiprocessing workers: 8\n"
     ]
    },
    {
     "name": "stderr",
     "output_type": "stream",
     "text": [
      "\n",
      " 11%|█         | 122/1100 [38:27<9:09:27, 33.71s/it]\u001b[A"
     ]
    },
    {
     "name": "stdout",
     "output_type": "stream",
     "text": [
      "Scraping images for class \"yellowwood\"\n",
      "Multiprocessing workers: 8\n"
     ]
    },
    {
     "name": "stderr",
     "output_type": "stream",
     "text": [
      "\n",
      " 11%|█         | 123/1100 [39:10<9:57:14, 36.68s/it]\u001b[A"
     ]
    },
    {
     "name": "stdout",
     "output_type": "stream",
     "text": [
      "Scraping images for class \"scholar\"\n",
      "Multiprocessing workers: 8\n"
     ]
    },
    {
     "name": "stderr",
     "output_type": "stream",
     "text": [
      "\n",
      " 11%|█▏        | 124/1100 [39:41<9:26:32, 34.83s/it]\u001b[A"
     ]
    },
    {
     "name": "stdout",
     "output_type": "stream",
     "text": [
      "Scraping images for class \"beeper\"\n",
      "Multiprocessing workers: 8\n",
      "\n",
      "Scraping stats:\n",
      "STATS For class is_flickr:\n",
      " tried 26734.0 urls with 18265.0 successes\n",
      "68.32123887184858% success rate for is_flickr urls \n",
      "1.0256378097727368 seconds spent per is_flickr succesful image download\n",
      "STATS For class not_flickr:\n",
      " tried 0.0 urls with 0.0 successes\n",
      "STATS For class all:\n",
      " tried 26734.0 urls with 18265.0 successes\n",
      "68.32123887184858% success rate for all urls \n",
      "1.0256383677883862 seconds spent per all succesful image download\n"
     ]
    },
    {
     "name": "stderr",
     "output_type": "stream",
     "text": [
      "\n",
      " 11%|█▏        | 125/1100 [40:19<9:40:03, 35.70s/it]\u001b[A"
     ]
    },
    {
     "name": "stdout",
     "output_type": "stream",
     "text": [
      "Scraping images for class \"snow bunting\"\n",
      "Multiprocessing workers: 8\n"
     ]
    },
    {
     "name": "stderr",
     "output_type": "stream",
     "text": [
      "\n",
      " 11%|█▏        | 126/1100 [40:52<9:30:21, 35.14s/it]\u001b[A"
     ]
    },
    {
     "name": "stdout",
     "output_type": "stream",
     "text": [
      "Scraping images for class \"earphone\"\n",
      "Multiprocessing workers: 8\n"
     ]
    },
    {
     "name": "stderr",
     "output_type": "stream",
     "text": [
      "\n",
      " 12%|█▏        | 127/1100 [41:18<8:43:57, 32.31s/it]\u001b[A"
     ]
    },
    {
     "name": "stdout",
     "output_type": "stream",
     "text": [
      "Scraping images for class \"sandpiper\"\n"
     ]
    },
    {
     "name": "stderr",
     "output_type": "stream",
     "text": [
      "\n",
      " 12%|█▏        | 128/1100 [41:38<7:44:06, 28.65s/it]\u001b[A"
     ]
    },
    {
     "name": "stdout",
     "output_type": "stream",
     "text": [
      "Scraping images for class \"goldfields\"\n",
      "Multiprocessing workers: 8\n"
     ]
    },
    {
     "name": "stderr",
     "output_type": "stream",
     "text": [
      "\n",
      " 12%|█▏        | 129/1100 [41:51<6:26:22, 23.87s/it]\u001b[A"
     ]
    },
    {
     "name": "stdout",
     "output_type": "stream",
     "text": [
      "Scraping images for class \"ditty bag\"\n",
      "Multiprocessing workers: 8\n"
     ]
    },
    {
     "name": "stderr",
     "output_type": "stream",
     "text": [
      "\n",
      " 12%|█▏        | 130/1100 [42:13<6:16:26, 23.29s/it]\u001b[A"
     ]
    },
    {
     "name": "stdout",
     "output_type": "stream",
     "text": [
      "Scraping images for class \"schnapps\"\n",
      "Multiprocessing workers: 8\n"
     ]
    },
    {
     "name": "stderr",
     "output_type": "stream",
     "text": [
      "\n",
      " 12%|█▏        | 131/1100 [42:46<7:02:39, 26.17s/it]\u001b[A"
     ]
    },
    {
     "name": "stdout",
     "output_type": "stream",
     "text": [
      "Scraping images for class \"queen\"\n",
      "Multiprocessing workers: 8\n"
     ]
    },
    {
     "name": "stderr",
     "output_type": "stream",
     "text": [
      "\n",
      " 12%|█▏        | 132/1100 [42:58<5:54:50, 21.99s/it]\u001b[A"
     ]
    },
    {
     "name": "stdout",
     "output_type": "stream",
     "text": [
      "Scraping images for class \"cittern\"\n",
      "Multiprocessing workers: 8\n"
     ]
    },
    {
     "name": "stderr",
     "output_type": "stream",
     "text": [
      "\n",
      " 12%|█▏        | 133/1100 [43:31<6:47:49, 25.31s/it]\u001b[A"
     ]
    },
    {
     "name": "stdout",
     "output_type": "stream",
     "text": [
      "Scraping images for class \"sunflower\"\n",
      "Multiprocessing workers: 8\n"
     ]
    },
    {
     "name": "stderr",
     "output_type": "stream",
     "text": [
      "\n",
      " 12%|█▏        | 134/1100 [44:01<7:07:27, 26.55s/it]\u001b[A"
     ]
    },
    {
     "name": "stdout",
     "output_type": "stream",
     "text": [
      "Scraping images for class \"analog watch\"\n",
      "Multiprocessing workers: 8\n"
     ]
    },
    {
     "name": "stderr",
     "output_type": "stream",
     "text": [
      "\n",
      " 12%|█▏        | 135/1100 [44:50<8:56:12, 33.34s/it]\u001b[A"
     ]
    },
    {
     "name": "stdout",
     "output_type": "stream",
     "text": [
      "Scraping images for class \"reptile\"\n",
      "Multiprocessing workers: 8\n"
     ]
    },
    {
     "name": "stderr",
     "output_type": "stream",
     "text": [
      "\n",
      " 12%|█▏        | 136/1100 [45:34<9:46:38, 36.51s/it]\u001b[A"
     ]
    },
    {
     "name": "stdout",
     "output_type": "stream",
     "text": [
      "Scraping images for class \"yellowlegs\"\n",
      "Multiprocessing workers: 8\n",
      "\n",
      "Scraping stats:\n",
      "STATS For class is_flickr:\n",
      " tried 26984.0 urls with 18427.0 successes\n",
      "68.28861547583753% success rate for is_flickr urls \n",
      "1.0352695975849915 seconds spent per is_flickr succesful image download\n",
      "STATS For class not_flickr:\n",
      " tried 0.0 urls with 0.0 successes\n",
      "STATS For class all:\n",
      " tried 26985.0 urls with 18427.0 successes\n",
      "68.28608486196035% success rate for all urls \n",
      "1.0352704163749704 seconds spent per all succesful image download\n"
     ]
    },
    {
     "name": "stderr",
     "output_type": "stream",
     "text": [
      "\n",
      " 12%|█▏        | 137/1100 [45:47<7:54:40, 29.57s/it]\u001b[A"
     ]
    },
    {
     "name": "stdout",
     "output_type": "stream",
     "text": [
      "Scraping images for class \"ruddy duck\"\n",
      "Multiprocessing workers: 8\n"
     ]
    },
    {
     "name": "stderr",
     "output_type": "stream",
     "text": [
      "\n",
      " 13%|█▎        | 138/1100 [46:10<7:24:32, 27.73s/it]\u001b[A"
     ]
    },
    {
     "name": "stdout",
     "output_type": "stream",
     "text": [
      "Scraping images for class \"jaguarundi\"\n",
      "Multiprocessing workers: 8\n"
     ]
    },
    {
     "name": "stderr",
     "output_type": "stream",
     "text": [
      "\n",
      " 13%|█▎        | 139/1100 [46:34<7:02:28, 26.38s/it]\u001b[A"
     ]
    },
    {
     "name": "stdout",
     "output_type": "stream",
     "text": [
      "Scraping images for class \"bench press\"\n",
      "Multiprocessing workers: 8\n"
     ]
    },
    {
     "name": "stderr",
     "output_type": "stream",
     "text": [
      "\n",
      " 13%|█▎        | 140/1100 [46:47<5:57:13, 22.33s/it]\u001b[A"
     ]
    },
    {
     "name": "stdout",
     "output_type": "stream",
     "text": [
      "Scraping images for class \"mocha\"\n",
      "Multiprocessing workers: 8\n"
     ]
    },
    {
     "name": "stderr",
     "output_type": "stream",
     "text": [
      "\n",
      " 13%|█▎        | 141/1100 [47:19<6:44:06, 25.28s/it]\u001b[A"
     ]
    },
    {
     "name": "stdout",
     "output_type": "stream",
     "text": [
      "Scraping images for class \"wild rosemary\"\n",
      "Multiprocessing workers: 8\n"
     ]
    },
    {
     "name": "stderr",
     "output_type": "stream",
     "text": [
      "\n",
      " 13%|█▎        | 142/1100 [47:39<6:18:48, 23.73s/it]\u001b[A"
     ]
    },
    {
     "name": "stdout",
     "output_type": "stream",
     "text": [
      "Scraping images for class \"altarpiece\"\n",
      "Multiprocessing workers: 8\n"
     ]
    },
    {
     "name": "stderr",
     "output_type": "stream",
     "text": [
      "\n",
      " 13%|█▎        | 143/1100 [48:15<7:18:06, 27.47s/it]\u001b[A"
     ]
    },
    {
     "name": "stdout",
     "output_type": "stream",
     "text": [
      "Scraping images for class \"wimp\"\n",
      "Multiprocessing workers: 8\n"
     ]
    },
    {
     "name": "stderr",
     "output_type": "stream",
     "text": [
      "\n",
      " 13%|█▎        | 144/1100 [49:20<10:16:08, 38.67s/it]\u001b[A"
     ]
    },
    {
     "name": "stdout",
     "output_type": "stream",
     "text": [
      "Scraping images for class \"beige\"\n",
      "Multiprocessing workers: 8\n"
     ]
    },
    {
     "name": "stderr",
     "output_type": "stream",
     "text": [
      "\n",
      " 13%|█▎        | 145/1100 [49:54<9:53:10, 37.27s/it] \u001b[A"
     ]
    },
    {
     "name": "stdout",
     "output_type": "stream",
     "text": [
      "Scraping images for class \"framework\"\n",
      "Multiprocessing workers: 8\n"
     ]
    },
    {
     "name": "stderr",
     "output_type": "stream",
     "text": [
      "\n",
      " 13%|█▎        | 146/1100 [50:27<9:33:27, 36.07s/it]\u001b[A"
     ]
    },
    {
     "name": "stdout",
     "output_type": "stream",
     "text": [
      "Scraping images for class \"tree sparrow\"\n",
      "Multiprocessing workers: 8\n",
      "\n",
      "Scraping stats:\n",
      "STATS For class is_flickr:\n",
      " tried 27235.0 urls with 18569.0 successes\n",
      "68.18064989902699% success rate for is_flickr urls \n",
      "1.0425550645680026 seconds spent per is_flickr succesful image download\n",
      "STATS For class not_flickr:\n",
      " tried 0.0 urls with 0.0 successes\n",
      "STATS For class all:\n",
      " tried 27235.0 urls with 18569.0 successes\n",
      "68.18064989902699% success rate for all urls \n",
      "1.0425553864054793 seconds spent per all succesful image download\n"
     ]
    },
    {
     "name": "stderr",
     "output_type": "stream",
     "text": [
      "\n",
      " 13%|█▎        | 147/1100 [50:42<7:51:06, 29.66s/it]\u001b[A"
     ]
    },
    {
     "name": "stdout",
     "output_type": "stream",
     "text": [
      "Scraping images for class \"cabin car\"\n",
      "Multiprocessing workers: 8\n"
     ]
    },
    {
     "name": "stderr",
     "output_type": "stream",
     "text": [
      "\n",
      " 13%|█▎        | 148/1100 [51:01<7:01:09, 26.54s/it]\u001b[A"
     ]
    },
    {
     "name": "stdout",
     "output_type": "stream",
     "text": [
      "Scraping images for class \"Leonberg\"\n",
      "Multiprocessing workers: 8\n"
     ]
    },
    {
     "name": "stderr",
     "output_type": "stream",
     "text": [
      "\n",
      " 14%|█▎        | 149/1100 [51:05<5:12:38, 19.72s/it]\u001b[A"
     ]
    },
    {
     "name": "stdout",
     "output_type": "stream",
     "text": [
      "Scraping images for class \"stateroom\"\n",
      "Multiprocessing workers: 8\n"
     ]
    },
    {
     "name": "stderr",
     "output_type": "stream",
     "text": [
      "\n",
      " 14%|█▎        | 150/1100 [51:23<5:06:46, 19.37s/it]\u001b[A"
     ]
    },
    {
     "name": "stdout",
     "output_type": "stream",
     "text": [
      "Scraping images for class \"appointee\"\n",
      "Multiprocessing workers: 8\n"
     ]
    },
    {
     "name": "stderr",
     "output_type": "stream",
     "text": [
      "\n",
      " 14%|█▎        | 151/1100 [51:27<3:50:25, 14.57s/it]\u001b[A"
     ]
    },
    {
     "name": "stdout",
     "output_type": "stream",
     "text": [
      "Scraping images for class \"bottle-nosed whale\"\n",
      "Multiprocessing workers: 8\n"
     ]
    },
    {
     "name": "stderr",
     "output_type": "stream",
     "text": [
      "\n",
      " 14%|█▍        | 152/1100 [51:59<5:13:08, 19.82s/it]\u001b[A"
     ]
    },
    {
     "name": "stdout",
     "output_type": "stream",
     "text": [
      "Scraping images for class \"jewelweed\"\n",
      "Multiprocessing workers: 8\n"
     ]
    },
    {
     "name": "stderr",
     "output_type": "stream",
     "text": [
      "\n",
      " 14%|█▍        | 153/1100 [52:12<4:43:11, 17.94s/it]\u001b[A"
     ]
    },
    {
     "name": "stdout",
     "output_type": "stream",
     "text": [
      "Scraping images for class \"loft\"\n",
      "Multiprocessing workers: 8\n"
     ]
    },
    {
     "name": "stderr",
     "output_type": "stream",
     "text": [
      "\n",
      " 14%|█▍        | 154/1100 [52:20<3:53:31, 14.81s/it]\u001b[A"
     ]
    },
    {
     "name": "stdout",
     "output_type": "stream",
     "text": [
      "Scraping images for class \"gooseneck loosestrife\"\n",
      "Multiprocessing workers: 8\n"
     ]
    },
    {
     "name": "stderr",
     "output_type": "stream",
     "text": [
      "\n",
      " 14%|█▍        | 155/1100 [52:33<3:45:23, 14.31s/it]\u001b[A"
     ]
    },
    {
     "name": "stdout",
     "output_type": "stream",
     "text": [
      "Scraping images for class \"ewe\"\n",
      "Multiprocessing workers: 8\n"
     ]
    },
    {
     "name": "stderr",
     "output_type": "stream",
     "text": [
      "\n",
      " 14%|█▍        | 156/1100 [52:47<3:41:57, 14.11s/it]\u001b[A"
     ]
    },
    {
     "name": "stdout",
     "output_type": "stream",
     "text": [
      "Scraping images for class \"vanilla pudding\"\n",
      "Multiprocessing workers: 8\n"
     ]
    },
    {
     "name": "stderr",
     "output_type": "stream",
     "text": [
      "\n",
      " 14%|█▍        | 157/1100 [52:54<3:09:53, 12.08s/it]\u001b[A"
     ]
    },
    {
     "name": "stdout",
     "output_type": "stream",
     "text": [
      "Scraping images for class \"garden trowel\"\n",
      "Multiprocessing workers: 8\n"
     ]
    },
    {
     "name": "stderr",
     "output_type": "stream",
     "text": [
      "\n",
      " 14%|█▍        | 158/1100 [53:17<3:59:10, 15.23s/it]\u001b[A"
     ]
    },
    {
     "name": "stdout",
     "output_type": "stream",
     "text": [
      "Scraping images for class \"eastern indigo snake\"\n",
      "Multiprocessing workers: 8\n",
      "\n",
      "Scraping stats:\n",
      "STATS For class is_flickr:\n",
      " tried 27491.0 urls with 18749.0 successes\n",
      "68.20050198246699% success rate for is_flickr urls \n",
      "1.0415477622851759 seconds spent per is_flickr succesful image download\n",
      "STATS For class not_flickr:\n",
      " tried 0.0 urls with 0.0 successes\n",
      "STATS For class all:\n",
      " tried 27491.0 urls with 18749.0 successes\n",
      "68.20050198246699% success rate for all urls \n",
      "1.0415480804351802 seconds spent per all succesful image download\n"
     ]
    },
    {
     "name": "stderr",
     "output_type": "stream",
     "text": [
      "\n",
      " 14%|█▍        | 159/1100 [53:28<3:41:55, 14.15s/it]\u001b[A"
     ]
    },
    {
     "name": "stdout",
     "output_type": "stream",
     "text": [
      "Scraping images for class \"black currant\"\n",
      "Multiprocessing workers: 8\n"
     ]
    },
    {
     "name": "stderr",
     "output_type": "stream",
     "text": [
      "\n",
      " 15%|█▍        | 160/1100 [54:03<5:20:01, 20.43s/it]\u001b[A"
     ]
    },
    {
     "name": "stdout",
     "output_type": "stream",
     "text": [
      "Scraping images for class \"cheese pizza\"\n",
      "Multiprocessing workers: 8\n"
     ]
    },
    {
     "name": "stderr",
     "output_type": "stream",
     "text": [
      "\n",
      " 15%|█▍        | 161/1100 [54:44<6:52:22, 26.35s/it]\u001b[A"
     ]
    },
    {
     "name": "stdout",
     "output_type": "stream",
     "text": [
      "Scraping images for class \"raccoon\"\n",
      "Multiprocessing workers: 8\n"
     ]
    },
    {
     "name": "stderr",
     "output_type": "stream",
     "text": [
      "\n",
      " 15%|█▍        | 162/1100 [55:32<8:37:16, 33.09s/it]\u001b[A"
     ]
    },
    {
     "name": "stdout",
     "output_type": "stream",
     "text": [
      "Scraping images for class \"maar\"\n",
      "Multiprocessing workers: 8\n"
     ]
    },
    {
     "name": "stderr",
     "output_type": "stream",
     "text": [
      "\n",
      " 15%|█▍        | 163/1100 [55:44<6:57:20, 26.72s/it]\u001b[A"
     ]
    },
    {
     "name": "stdout",
     "output_type": "stream",
     "text": [
      "Scraping images for class \"poop deck\"\n",
      "Multiprocessing workers: 8\n"
     ]
    },
    {
     "name": "stderr",
     "output_type": "stream",
     "text": [
      "\n",
      " 15%|█▍        | 164/1100 [56:09<6:48:33, 26.19s/it]\u001b[A"
     ]
    },
    {
     "name": "stdout",
     "output_type": "stream",
     "text": [
      "Scraping images for class \"showplace\"\n",
      "Multiprocessing workers: 8\n"
     ]
    },
    {
     "name": "stderr",
     "output_type": "stream",
     "text": [
      "\n",
      " 15%|█▌        | 165/1100 [56:22<5:44:14, 22.09s/it]\u001b[A"
     ]
    },
    {
     "name": "stdout",
     "output_type": "stream",
     "text": [
      "Scraping images for class \"scented fern\"\n",
      "Multiprocessing workers: 8\n"
     ]
    },
    {
     "name": "stderr",
     "output_type": "stream",
     "text": [
      "\n",
      " 16%|█▌        | 172/1100 [58:25<5:20:45, 20.74s/it]\u001b[A"
     ]
    },
    {
     "name": "stdout",
     "output_type": "stream",
     "text": [
      "Scraping images for class \"skewer\"\n",
      "Multiprocessing workers: 8\n"
     ]
    },
    {
     "name": "stderr",
     "output_type": "stream",
     "text": [
      "\n",
      " 16%|█▌        | 173/1100 [59:12<7:17:53, 28.34s/it]\u001b[A"
     ]
    },
    {
     "name": "stdout",
     "output_type": "stream",
     "text": [
      "Scraping images for class \"club moss\"\n",
      "Multiprocessing workers: 8\n"
     ]
    },
    {
     "name": "stderr",
     "output_type": "stream",
     "text": [
      "\n",
      " 16%|█▌        | 174/1100 [1:00:17<10:09:29, 39.49s/it]\u001b[A"
     ]
    },
    {
     "name": "stdout",
     "output_type": "stream",
     "text": [
      "Scraping images for class \"cauliflower\"\n",
      "Scraping images for class \"tautog\"\n",
      "Multiprocessing workers: 8\n"
     ]
    },
    {
     "name": "stderr",
     "output_type": "stream",
     "text": [
      "\n",
      " 16%|█▌        | 176/1100 [1:00:51<8:23:58, 32.73s/it] \u001b[A"
     ]
    },
    {
     "name": "stdout",
     "output_type": "stream",
     "text": [
      "Scraping images for class \"wall unit\"\n",
      "Multiprocessing workers: 8\n"
     ]
    },
    {
     "name": "stderr",
     "output_type": "stream",
     "text": [
      "\n",
      " 16%|█▌        | 177/1100 [1:01:34<9:10:49, 35.81s/it]\u001b[A"
     ]
    },
    {
     "name": "stdout",
     "output_type": "stream",
     "text": [
      "Scraping images for class \"spritsail\"\n",
      "Multiprocessing workers: 8\n"
     ]
    },
    {
     "name": "stderr",
     "output_type": "stream",
     "text": [
      "\n",
      " 16%|█▌        | 178/1100 [1:01:37<6:38:57, 25.96s/it]\u001b[A"
     ]
    },
    {
     "name": "stdout",
     "output_type": "stream",
     "text": [
      "Scraping images for class \"angelica\"\n",
      "Multiprocessing workers: 8\n"
     ]
    },
    {
     "name": "stderr",
     "output_type": "stream",
     "text": [
      "\n",
      " 16%|█▋        | 179/1100 [1:01:51<5:43:40, 22.39s/it]\u001b[A"
     ]
    },
    {
     "name": "stdout",
     "output_type": "stream",
     "text": [
      "Scraping images for class \"stealth aircraft\"\n",
      "Multiprocessing workers: 8\n"
     ]
    },
    {
     "name": "stderr",
     "output_type": "stream",
     "text": [
      "\n",
      " 16%|█▋        | 180/1100 [1:01:59<4:37:54, 18.12s/it]\u001b[A"
     ]
    },
    {
     "name": "stdout",
     "output_type": "stream",
     "text": [
      "Scraping images for class \"cinnamon\"\n",
      "Multiprocessing workers: 8\n",
      "\n",
      "Scraping stats:\n",
      "STATS For class is_flickr:\n",
      " tried 27987.0 urls with 19050.0 successes\n",
      "68.06731696859256% success rate for is_flickr urls \n",
      "1.0525533380283145 seconds spent per is_flickr succesful image download\n",
      "STATS For class not_flickr:\n",
      " tried 0.0 urls with 0.0 successes\n",
      "STATS For class all:\n",
      " tried 27987.0 urls with 19050.0 successes\n",
      "68.06731696859256% success rate for all urls \n",
      "1.0525536612012567 seconds spent per all succesful image download\n"
     ]
    },
    {
     "name": "stderr",
     "output_type": "stream",
     "text": [
      "\n",
      " 16%|█▋        | 181/1100 [1:02:12<4:14:11, 16.60s/it]\u001b[A"
     ]
    },
    {
     "name": "stdout",
     "output_type": "stream",
     "text": [
      "Scraping images for class \"traveler\"\n",
      "Multiprocessing workers: 8\n"
     ]
    },
    {
     "name": "stderr",
     "output_type": "stream",
     "text": [
      "\n",
      " 17%|█▋        | 182/1100 [1:02:36<4:46:29, 18.72s/it]\u001b[A"
     ]
    },
    {
     "name": "stdout",
     "output_type": "stream",
     "text": [
      "Scraping images for class \"dent corn\"\n",
      "Multiprocessing workers: 8\n"
     ]
    },
    {
     "name": "stderr",
     "output_type": "stream",
     "text": [
      "\n",
      " 17%|█▋        | 183/1100 [1:02:44<3:56:53, 15.50s/it]\u001b[A"
     ]
    },
    {
     "name": "stdout",
     "output_type": "stream",
     "text": [
      "Scraping images for class \"tractor\"\n",
      "Multiprocessing workers: 8\n"
     ]
    },
    {
     "name": "stderr",
     "output_type": "stream",
     "text": [
      "\n",
      " 17%|█▋        | 184/1100 [1:02:58<3:49:35, 15.04s/it]\u001b[A"
     ]
    },
    {
     "name": "stdout",
     "output_type": "stream",
     "text": [
      "Scraping images for class \"electronic device\"\n",
      "Multiprocessing workers: 8\n"
     ]
    },
    {
     "name": "stderr",
     "output_type": "stream",
     "text": [
      "\n",
      " 17%|█▋        | 185/1100 [1:03:18<4:13:08, 16.60s/it]\u001b[A"
     ]
    },
    {
     "name": "stdout",
     "output_type": "stream",
     "text": [
      "Scraping images for class \"suitor\"\n",
      "Multiprocessing workers: 8\n"
     ]
    },
    {
     "name": "stderr",
     "output_type": "stream",
     "text": [
      "\n",
      " 17%|█▋        | 186/1100 [1:03:41<4:41:36, 18.49s/it]\u001b[A"
     ]
    },
    {
     "name": "stdout",
     "output_type": "stream",
     "text": [
      "Scraping images for class \"foot rule\"\n",
      "Multiprocessing workers: 8\n"
     ]
    },
    {
     "name": "stderr",
     "output_type": "stream",
     "text": [
      "\n",
      " 17%|█▋        | 187/1100 [1:03:54<4:18:35, 16.99s/it]\u001b[A"
     ]
    },
    {
     "name": "stdout",
     "output_type": "stream",
     "text": [
      "Scraping images for class \"hazelnut\"\n",
      "Multiprocessing workers: 8\n"
     ]
    },
    {
     "name": "stderr",
     "output_type": "stream",
     "text": [
      "\n",
      " 17%|█▋        | 188/1100 [1:04:21<5:02:08, 19.88s/it]\u001b[A"
     ]
    },
    {
     "name": "stdout",
     "output_type": "stream",
     "text": [
      "Scraping images for class \"large crabgrass\"\n",
      "Multiprocessing workers: 8\n"
     ]
    },
    {
     "name": "stderr",
     "output_type": "stream",
     "text": [
      "\n",
      " 17%|█▋        | 189/1100 [1:04:44<5:14:46, 20.73s/it]\u001b[A"
     ]
    },
    {
     "name": "stdout",
     "output_type": "stream",
     "text": [
      "Scraping images for class \"showy orchis\"\n",
      "Multiprocessing workers: 8\n",
      "\n",
      "Scraping stats:\n",
      "STATS For class is_flickr:\n",
      " tried 28234.0 urls with 19190.0 successes\n",
      "67.96769851951548% success rate for is_flickr urls \n",
      "1.054519914574397 seconds spent per is_flickr succesful image download\n",
      "STATS For class not_flickr:\n",
      " tried 0.0 urls with 0.0 successes\n",
      "STATS For class all:\n",
      " tried 28234.0 urls with 19190.0 successes\n",
      "67.96769851951548% success rate for all urls \n",
      "1.054520197744603 seconds spent per all succesful image download\n"
     ]
    },
    {
     "name": "stderr",
     "output_type": "stream",
     "text": [
      "\n",
      " 17%|█▋        | 190/1100 [1:05:22<6:35:46, 26.10s/it]\u001b[A"
     ]
    },
    {
     "name": "stdout",
     "output_type": "stream",
     "text": [
      "Scraping images for class \"cheese souffle\"\n",
      "Multiprocessing workers: 8\n"
     ]
    },
    {
     "name": "stderr",
     "output_type": "stream",
     "text": [
      "\n",
      " 17%|█▋        | 191/1100 [1:06:07<7:59:13, 31.63s/it]\u001b[A"
     ]
    },
    {
     "name": "stdout",
     "output_type": "stream",
     "text": [
      "Scraping images for class \"battle dress\"\n",
      "Multiprocessing workers: 8\n"
     ]
    },
    {
     "name": "stderr",
     "output_type": "stream",
     "text": [
      "\n",
      " 17%|█▋        | 192/1100 [1:06:51<8:57:00, 35.49s/it]\u001b[A"
     ]
    },
    {
     "name": "stdout",
     "output_type": "stream",
     "text": [
      "Scraping images for class \"striped hyena\"\n",
      "Multiprocessing workers: 8\n"
     ]
    },
    {
     "name": "stderr",
     "output_type": "stream",
     "text": [
      "\n",
      " 18%|█▊        | 193/1100 [1:06:55<6:32:05, 25.94s/it]\u001b[A"
     ]
    },
    {
     "name": "stdout",
     "output_type": "stream",
     "text": [
      "Scraping images for class \"Guinean\"\n",
      "Multiprocessing workers: 8\n"
     ]
    },
    {
     "name": "stderr",
     "output_type": "stream",
     "text": [
      "\n",
      " 18%|█▊        | 194/1100 [1:07:26<6:54:39, 27.46s/it]\u001b[A"
     ]
    },
    {
     "name": "stdout",
     "output_type": "stream",
     "text": [
      "Scraping images for class \"meatball\"\n",
      "Multiprocessing workers: 8\n"
     ]
    },
    {
     "name": "stderr",
     "output_type": "stream",
     "text": [
      "\n",
      " 18%|█▊        | 195/1100 [1:07:29<5:02:53, 20.08s/it]\u001b[A"
     ]
    },
    {
     "name": "stdout",
     "output_type": "stream",
     "text": [
      "Scraping images for class \"escapement\"\n",
      "Multiprocessing workers: 8\n"
     ]
    },
    {
     "name": "stderr",
     "output_type": "stream",
     "text": [
      "\n",
      " 18%|█▊        | 196/1100 [1:07:37<4:09:37, 16.57s/it]\u001b[A"
     ]
    },
    {
     "name": "stdout",
     "output_type": "stream",
     "text": [
      "Scraping images for class \"sprit\"\n",
      "Multiprocessing workers: 8\n"
     ]
    },
    {
     "name": "stderr",
     "output_type": "stream",
     "text": [
      "\n",
      " 18%|█▊        | 197/1100 [1:07:49<3:48:53, 15.21s/it]\u001b[A"
     ]
    },
    {
     "name": "stdout",
     "output_type": "stream",
     "text": [
      "Scraping images for class \"king crab\"\n",
      "Multiprocessing workers: 8\n"
     ]
    },
    {
     "name": "stderr",
     "output_type": "stream",
     "text": [
      "\n",
      " 18%|█▊        | 198/1100 [1:07:52<2:53:04, 11.51s/it]\u001b[A"
     ]
    },
    {
     "name": "stdout",
     "output_type": "stream",
     "text": [
      "Scraping images for class \"skin\"\n",
      "Multiprocessing workers: 8\n"
     ]
    },
    {
     "name": "stderr",
     "output_type": "stream",
     "text": [
      "\n",
      " 18%|█▊        | 199/1100 [1:08:12<3:28:26, 13.88s/it]\u001b[A"
     ]
    },
    {
     "name": "stdout",
     "output_type": "stream",
     "text": [
      "Scraping images for class \"backstay\"\n",
      "Multiprocessing workers: 8\n"
     ]
    },
    {
     "name": "stderr",
     "output_type": "stream",
     "text": [
      "\n",
      " 18%|█▊        | 200/1100 [1:08:15<2:38:50, 10.59s/it]\u001b[A"
     ]
    },
    {
     "name": "stdout",
     "output_type": "stream",
     "text": [
      "Scraping images for class \"Kahlua\"\n",
      "Multiprocessing workers: 8\n"
     ]
    },
    {
     "name": "stderr",
     "output_type": "stream",
     "text": [
      "\n",
      " 18%|█▊        | 201/1100 [1:08:22<2:25:09,  9.69s/it]\u001b[A"
     ]
    },
    {
     "name": "stdout",
     "output_type": "stream",
     "text": [
      "Scraping images for class \"socket wrench\"\n",
      "Multiprocessing workers: 8\n",
      "\n",
      "Scraping stats:\n",
      "STATS For class is_flickr:\n",
      " tried 28484.0 urls with 19368.0 successes\n",
      "67.99606796798203% success rate for is_flickr urls \n",
      "1.0550331770388954 seconds spent per is_flickr succesful image download\n",
      "STATS For class not_flickr:\n",
      " tried 0.0 urls with 0.0 successes\n",
      "STATS For class all:\n",
      " tried 28484.0 urls with 19368.0 successes\n",
      "67.99606796798203% success rate for all urls \n",
      "1.055033887186015 seconds spent per all succesful image download\n"
     ]
    },
    {
     "name": "stderr",
     "output_type": "stream",
     "text": [
      "\n",
      " 18%|█▊        | 202/1100 [1:08:43<3:16:37, 13.14s/it]\u001b[A"
     ]
    },
    {
     "name": "stdout",
     "output_type": "stream",
     "text": [
      "Scraping images for class \"thrips\"\n",
      "Multiprocessing workers: 8\n"
     ]
    },
    {
     "name": "stderr",
     "output_type": "stream",
     "text": [
      "\n",
      " 18%|█▊        | 203/1100 [1:08:45<2:26:13,  9.78s/it]\u001b[A"
     ]
    },
    {
     "name": "stdout",
     "output_type": "stream",
     "text": [
      "Scraping images for class \"lyme grass\"\n",
      "Multiprocessing workers: 8\n"
     ]
    },
    {
     "name": "stderr",
     "output_type": "stream",
     "text": [
      "\n",
      "100%|██████████| 1100/1100 [1:08:57<00:00,  3.76s/it] \u001b[A"
     ]
    },
    {
     "name": "stdout",
     "output_type": "stream",
     "text": [
      "Scraping images for class \"milk float\"\n",
      "Scraping images for class \"fire tongs\"\n",
      "Scraping images for class \"chamois\"\n",
      "Scraping images for class \"row house\"\n",
      "Scraping images for class \"banded krait\"\n",
      "Scraping images for class \"hand mower\"\n",
      "Scraping images for class \"gopher\"\n",
      "Scraping images for class \"convolvulus\"\n",
      "Scraping images for class \"clarified butter\"\n",
      "Scraping images for class \"Coigue\"\n",
      "Scraping images for class \"lupine\"\n",
      "Scraping images for class \"flowerbed\"\n",
      "Scraping images for class \"Mountie\"\n",
      "Scraping images for class \"hot sauce\"\n",
      "Scraping images for class \"solar dish\"\n",
      "Scraping images for class \"great grandchild\"\n",
      "Scraping images for class \"Scandinavian\"\n",
      "Scraping images for class \"ticking\"\n",
      "Scraping images for class \"dishtowel\"\n",
      "Scraping images for class \"palomino\"\n",
      "Scraping images for class \"toasting fork\"\n",
      "Scraping images for class \"water gauge\"\n",
      "Scraping images for class \"garland flower\"\n",
      "Scraping images for class \"Wilson's snipe\"\n",
      "Scraping images for class \"European swift\"\n",
      "Scraping images for class \"wallaby\"\n",
      "Scraping images for class \"venturer\"\n",
      "Scraping images for class \"riverbed\"\n",
      "Scraping images for class \"vitamin pill\"\n",
      "Scraping images for class \"Ritz\"\n",
      "Scraping images for class \"candlepin\"\n",
      "Scraping images for class \"breadfruit\"\n",
      "Scraping images for class \"bronco\"\n",
      "Scraping images for class \"cashew\"\n",
      "Scraping images for class \"ballet dancer\"\n",
      "Scraping images for class \"brown bear\"\n",
      "Scraping images for class \"ruffed grouse\"\n",
      "Scraping images for class \"whiteface\"\n",
      "Scraping images for class \"aardwolf\"\n",
      "Scraping images for class \"box\"\n",
      "Scraping images for class \"acoustic guitar\"\n",
      "Scraping images for class \"gas gun\"\n",
      "Scraping images for class \"prairie bird's-foot trefoil\"\n",
      "Scraping images for class \"common limpet\"\n",
      "Scraping images for class \"guided missile frigate\"\n",
      "Scraping images for class \"babassu\"\n",
      "Scraping images for class \"greater spearwort\"\n",
      "Scraping images for class \"analog clock\"\n",
      "Scraping images for class \"oldster\"\n",
      "Scraping images for class \"timothy\"\n",
      "Scraping images for class \"cyclopean masonry\"\n",
      "Scraping images for class \"crossbar\"\n",
      "Scraping images for class \"miniature golf\"\n",
      "Scraping images for class \"Spanish needles\"\n",
      "Scraping images for class \"arethusa\"\n",
      "Scraping images for class \"tiger cub\"\n",
      "Scraping images for class \"generator\"\n",
      "Scraping images for class \"flyweight\"\n",
      "Scraping images for class \"lectern\"\n",
      "Scraping images for class \"ascus\"\n",
      "Scraping images for class \"nut tree\"\n",
      "Scraping images for class \"front man\"\n",
      "Scraping images for class \"garlic bread\"\n",
      "Scraping images for class \"kudu\"\n",
      "Scraping images for class \"cuckoo clock\"\n",
      "Scraping images for class \"chaenactis\"\n",
      "Scraping images for class \"garden\"\n",
      "Scraping images for class \"car\"\n",
      "Scraping images for class \"scratcher\"\n",
      "Scraping images for class \"spacesuit\"\n",
      "Scraping images for class \"gig\"\n",
      "Scraping images for class \"croquet equipment\"\n",
      "Scraping images for class \"showy milkweed\"\n",
      "Scraping images for class \"meadow salsify\"\n",
      "Scraping images for class \"cayenne\"\n",
      "Scraping images for class \"lumper\"\n",
      "Scraping images for class \"Bahraini\"\n",
      "Scraping images for class \"stream orchid\"\n",
      "Scraping images for class \"pine fern\"\n",
      "Scraping images for class \"whaleboat\"\n",
      "Scraping images for class \"hare\"\n",
      "Scraping images for class \"wattmeter\"\n",
      "Scraping images for class \"bourbon\"\n",
      "Scraping images for class \"thickhead\"\n",
      "Scraping images for class \"shock absorber\"\n",
      "Scraping images for class \"baize\"\n",
      "Scraping images for class \"red wolf\"\n",
      "Scraping images for class \"pollen tube\"\n",
      "Scraping images for class \"piano wire\"\n",
      "Scraping images for class \"centurion\"\n",
      "Scraping images for class \"Mutillidae\"\n",
      "Scraping images for class \"Bouvier des Flandres\"\n",
      "Scraping images for class \"piano\"\n",
      "Scraping images for class \"doily\"\n",
      "Scraping images for class \"swimming trunks\"\n",
      "Scraping images for class \"anklet\"\n",
      "Scraping images for class \"Limburger\"\n",
      "Scraping images for class \"sodalist\"\n",
      "Scraping images for class \"swimming\"\n",
      "Scraping images for class \"birth\"\n",
      "Scraping images for class \"crevice\"\n",
      "Scraping images for class \"mimeograph\"\n",
      "Scraping images for class \"teaching fellow\"\n",
      "Scraping images for class \"sweet cider\"\n",
      "Scraping images for class \"push-bike\"\n",
      "Scraping images for class \"Tibetan mastiff\"\n",
      "Scraping images for class \"escutcheon\"\n",
      "Scraping images for class \"gyrfalcon\"\n",
      "Scraping images for class \"obscurantist\"\n",
      "Scraping images for class \"track\"\n",
      "Scraping images for class \"good guy\"\n",
      "Scraping images for class \"ancient\"\n",
      "Scraping images for class \"borzoi\"\n",
      "Scraping images for class \"landing craft\"\n",
      "Scraping images for class \"Spanish lime\"\n",
      "Scraping images for class \"clothes moth\"\n",
      "Scraping images for class \"flowering fern\"\n",
      "Scraping images for class \"Guadalupe cypress\"\n",
      "Scraping images for class \"maguey\"\n",
      "Scraping images for class \"blue shark\"\n",
      "Scraping images for class \"Indian rat snake\"\n",
      "Scraping images for class \"waders\"\n",
      "Scraping images for class \"wading bird\"\n",
      "Scraping images for class \"overhang\"\n",
      "Scraping images for class \"great bowerbird\"\n",
      "Scraping images for class \"commoner\"\n",
      "Scraping images for class \"cutworm\"\n",
      "Scraping images for class \"sport\"\n",
      "Scraping images for class \"flugelhorn\"\n",
      "Scraping images for class \"marketplace\"\n",
      "Scraping images for class \"resistor\"\n",
      "Scraping images for class \"roan\"\n",
      "Scraping images for class \"Italian greyhound\"\n",
      "Scraping images for class \"enlarger\"\n",
      "Scraping images for class \"mountain ash\"\n",
      "Scraping images for class \"Engelmann spruce\"\n",
      "Scraping images for class \"medium\"\n",
      "Scraping images for class \"kingfish\"\n",
      "Scraping images for class \"mixed-blood\"\n",
      "Scraping images for class \"coastland\"\n",
      "Scraping images for class \"section hand\"\n",
      "Scraping images for class \"rust\"\n",
      "Scraping images for class \"masonry\"\n",
      "Scraping images for class \"euphonium\"\n",
      "Scraping images for class \"sheepshead\"\n",
      "Scraping images for class \"staggerbush\"\n",
      "Scraping images for class \"tutee\"\n",
      "Scraping images for class \"pollster\"\n",
      "Scraping images for class \"bitter lemon\"\n",
      "Scraping images for class \"saltwort\"\n",
      "Scraping images for class \"meadow spittlebug\"\n",
      "Scraping images for class \"treehopper\"\n",
      "Scraping images for class \"seafood Newburg\"\n",
      "Scraping images for class \"saboteur\"\n",
      "Scraping images for class \"sound recording\"\n",
      "Scraping images for class \"digital display\"\n",
      "Scraping images for class \"armored catfish\"\n",
      "Scraping images for class \"bird's-foot violet\"\n",
      "Scraping images for class \"broadcaster\"\n",
      "Scraping images for class \"auklet\"\n",
      "Scraping images for class \"milk vetch\"\n",
      "Scraping images for class \"accused\"\n",
      "Scraping images for class \"man's clothing\"\n",
      "Scraping images for class \"rye\"\n",
      "Scraping images for class \"head\"\n",
      "Scraping images for class \"scalene triangle\"\n",
      "Scraping images for class \"bap\"\n",
      "Scraping images for class \"bicycle pump\"\n",
      "Scraping images for class \"McIntosh\"\n",
      "Scraping images for class \"wallflower\"\n",
      "Scraping images for class \"littoral\"\n",
      "Scraping images for class \"bumper\"\n",
      "Scraping images for class \"nosewheel\"\n",
      "Scraping images for class \"taxonomist\"\n",
      "Scraping images for class \"ground snake\"\n",
      "Scraping images for class \"inductee\"\n",
      "Scraping images for class \"almond tree\"\n",
      "Scraping images for class \"sewing room\"\n",
      "Scraping images for class \"sanderling\"\n",
      "Scraping images for class \"wahoo\"\n",
      "Scraping images for class \"rapper\"\n",
      "Scraping images for class \"sardine\"\n",
      "Scraping images for class \"mother hen\"\n",
      "Scraping images for class \"crash helmet\"\n",
      "Scraping images for class \"cultist\"\n",
      "Scraping images for class \"burp gun\"\n",
      "Scraping images for class \"kitten\"\n",
      "Scraping images for class \"towhee\"\n",
      "Scraping images for class \"bunk\"\n",
      "Scraping images for class \"old lady\"\n",
      "Scraping images for class \"engine\"\n",
      "Scraping images for class \"breeches buoy\"\n",
      "Scraping images for class \"golden fern\"\n",
      "Scraping images for class \"signore\"\n",
      "Scraping images for class \"Spanish bayonet\"\n",
      "Scraping images for class \"umbel\"\n",
      "Scraping images for class \"Jehovah's Witness\"\n",
      "Scraping images for class \"domestic animal\"\n",
      "Scraping images for class \"mobile home\"\n",
      "Scraping images for class \"cobia\"\n",
      "Scraping images for class \"magazine\"\n",
      "Scraping images for class \"buffalo fish\"\n",
      "Scraping images for class \"motherwort\"\n",
      "Scraping images for class \"corn pudding\"\n",
      "Scraping images for class \"watercress\"\n",
      "Scraping images for class \"Brabancon griffon\"\n",
      "Scraping images for class \"Maxim gun\"\n",
      "Scraping images for class \"gipsywort\"\n",
      "Scraping images for class \"weeder\"\n",
      "Scraping images for class \"joinery\"\n",
      "Scraping images for class \"maiden blue-eyed Mary\"\n",
      "Scraping images for class \"rotor\"\n",
      "Scraping images for class \"Brussels lace\"\n",
      "Scraping images for class \"buckwheat\"\n",
      "Scraping images for class \"wire recorder\"\n",
      "Scraping images for class \"federalist\"\n",
      "Scraping images for class \"wastrel\"\n",
      "Scraping images for class \"bantamweight\"\n",
      "Scraping images for class \"trackball\"\n",
      "Scraping images for class \"gluten bread\"\n",
      "Scraping images for class \"table knife\"\n",
      "Scraping images for class \"pack\"\n",
      "Scraping images for class \"fur coat\"\n",
      "Scraping images for class \"ice mass\"\n",
      "Scraping images for class \"bin liner\"\n",
      "Scraping images for class \"Mongoloid\"\n",
      "Scraping images for class \"secularist\"\n",
      "Scraping images for class \"dundathu pine\"\n",
      "Scraping images for class \"fer-de-lance\"\n",
      "Scraping images for class \"shutter\"\n",
      "Scraping images for class \"European toad\"\n",
      "Scraping images for class \"parrotfish\"\n",
      "Scraping images for class \"cobra\"\n",
      "Scraping images for class \"wiper\"\n",
      "Scraping images for class \"dotterel\"\n",
      "Scraping images for class \"tout\"\n",
      "Scraping images for class \"checker\"\n",
      "Scraping images for class \"lorry\"\n",
      "Scraping images for class \"echinoderm\"\n",
      "Scraping images for class \"milk thistle\"\n",
      "Scraping images for class \"coal black\"\n",
      "Scraping images for class \"diesel\"\n",
      "Scraping images for class \"swing door\"\n",
      "Scraping images for class \"Saluki\"\n",
      "Scraping images for class \"blue ash\"\n",
      "Scraping images for class \"motmot\"\n",
      "Scraping images for class \"Tulipa gesneriana\"\n",
      "Scraping images for class \"control rod\"\n",
      "Scraping images for class \"sheep plant\"\n",
      "Scraping images for class \"water fennel\"\n",
      "Scraping images for class \"giant puffball\"\n",
      "Scraping images for class \"bantam\"\n",
      "Scraping images for class \"sweetheart\"\n",
      "Scraping images for class \"southern cabbage butterfly\"\n",
      "Scraping images for class \"vanilla ice cream\"\n",
      "Scraping images for class \"convent\"\n",
      "Scraping images for class \"juvenile\"\n",
      "Scraping images for class \"gearing\"\n",
      "Scraping images for class \"webbing\"\n",
      "Scraping images for class \"Winchester\"\n",
      "Scraping images for class \"shuffleboard\"\n",
      "Scraping images for class \"false lupine\"\n",
      "Scraping images for class \"downstage\"\n",
      "Scraping images for class \"rosebud cherry\"\n",
      "Scraping images for class \"wood tick\"\n",
      "Scraping images for class \"telecom hotel\"\n",
      "Scraping images for class \"bocce ball\"\n",
      "Scraping images for class \"steak knife\"\n",
      "Scraping images for class \"handcuff\"\n",
      "Scraping images for class \"mercury thermometer\"\n",
      "Scraping images for class \"Jerusalem artichoke\"\n",
      "Scraping images for class \"community center\"\n",
      "Scraping images for class \"bark\"\n",
      "Scraping images for class \"toadflax\"\n",
      "Scraping images for class \"leopard\"\n",
      "Scraping images for class \"birdcage\"\n",
      "Scraping images for class \"jumper\"\n",
      "Scraping images for class \"Belgian endive\"\n",
      "Scraping images for class \"rocker arm\"\n",
      "Scraping images for class \"ovenbird\"\n",
      "Scraping images for class \"fly\"\n",
      "Scraping images for class \"morning dress\"\n",
      "Scraping images for class \"sunglass\"\n",
      "Scraping images for class \"winker\"\n",
      "Scraping images for class \"root vegetable\"\n",
      "Scraping images for class \"Pacific newt\"\n",
      "Scraping images for class \"peripheral\"\n",
      "Scraping images for class \"kapok\"\n",
      "Scraping images for class \"American chestnut\"\n",
      "Scraping images for class \"counter\"\n",
      "Scraping images for class \"bur oak\"\n",
      "Scraping images for class \"traffic cop\"\n",
      "Scraping images for class \"Bavarian\"\n",
      "Scraping images for class \"water scorpion\"\n",
      "Scraping images for class \"liquid crystal display\"\n",
      "Scraping images for class \"closeup lens\"\n",
      "Scraping images for class \"very important person\"\n",
      "Scraping images for class \"Jeffrey pine\"\n",
      "Scraping images for class \"broom sedge\"\n",
      "Scraping images for class \"dill pickle\"\n",
      "Scraping images for class \"sleeper\"\n",
      "Scraping images for class \"railing\"\n",
      "Scraping images for class \"desert willow\"\n",
      "Scraping images for class \"porter\"\n",
      "Scraping images for class \"ocean floor\"\n",
      "Scraping images for class \"bloomer\"\n",
      "Scraping images for class \"minibar\"\n",
      "Scraping images for class \"trews\"\n",
      "Scraping images for class \"anchovy pear\"\n",
      "Scraping images for class \"wood drake\"\n",
      "Scraping images for class \"mason bee\"\n",
      "Scraping images for class \"espresso\"\n",
      "Scraping images for class \"viola d'amore\"\n",
      "Scraping images for class \"marriage bed\"\n",
      "Scraping images for class \"inhabitant\"\n",
      "Scraping images for class \"cobbler\"\n",
      "Scraping images for class \"pickerel frog\"\n",
      "Scraping images for class \"pitcher\"\n",
      "Scraping images for class \"clip-on\"\n",
      "Scraping images for class \"dress shirt\"\n",
      "Scraping images for class \"safety bicycle\"\n",
      "Scraping images for class \"Stropharia ambigua\"\n",
      "Scraping images for class \"tupelo\"\n",
      "Scraping images for class \"kuvasz\"\n",
      "Scraping images for class \"hypanthium\"\n",
      "Scraping images for class \"water spaniel\"\n",
      "Scraping images for class \"butternut squash\"\n",
      "Scraping images for class \"shofar\"\n",
      "Scraping images for class \"nuclear reactor\"\n",
      "Scraping images for class \"prairie smoke\"\n",
      "Scraping images for class \"commensal\"\n",
      "Scraping images for class \"klystron\"\n",
      "Scraping images for class \"shoreline\"\n",
      "Scraping images for class \"beard lichen\"\n",
      "Scraping images for class \"foramen magnum\"\n",
      "Scraping images for class \"beef Bourguignonne\"\n",
      "Scraping images for class \"sand cat\"\n",
      "Scraping images for class \"horizontal tail\"\n",
      "Scraping images for class \"sphinx\"\n",
      "Scraping images for class \"red beech\"\n",
      "Scraping images for class \"great ape\"\n",
      "Scraping images for class \"pinwheel\"\n",
      "Scraping images for class \"French Canadian\"\n",
      "Scraping images for class \"jumper\"\n",
      "Scraping images for class \"undies\"\n",
      "Scraping images for class \"milk\"\n",
      "Scraping images for class \"rotating mechanism\"\n",
      "Scraping images for class \"handstamp\"\n",
      "Scraping images for class \"pigeon\"\n",
      "Scraping images for class \"badminton court\"\n",
      "Scraping images for class \"sea lion\"\n",
      "Scraping images for class \"baton\"\n",
      "Scraping images for class \"blucher\"\n",
      "Scraping images for class \"sparrow\"\n",
      "Scraping images for class \"lattice\"\n",
      "Scraping images for class \"io moth\"\n",
      "Scraping images for class \"lozenge\"\n",
      "Scraping images for class \"call waiting\"\n",
      "Scraping images for class \"airfoil\"\n",
      "Scraping images for class \"weir\"\n",
      "Scraping images for class \"cuckoopint\"\n",
      "Scraping images for class \"computerized axial tomography scanner\"\n",
      "Scraping images for class \"turbot\"\n",
      "Scraping images for class \"impact printer\"\n",
      "Scraping images for class \"brother-in-law\"\n",
      "Scraping images for class \"display\"\n",
      "Scraping images for class \"sweet four o'clock\"\n",
      "Scraping images for class \"chamberpot\"\n",
      "Scraping images for class \"chicken wire\"\n",
      "Scraping images for class \"puff paste\"\n",
      "Scraping images for class \"snailflower\"\n",
      "Scraping images for class \"black-capped chickadee\"\n",
      "Scraping images for class \"patrol boat\"\n",
      "Scraping images for class \"chest protector\"\n",
      "Scraping images for class \"Roquefort\"\n",
      "Scraping images for class \"bundle\"\n",
      "Scraping images for class \"ball\"\n",
      "Scraping images for class \"canyon treefrog\"\n",
      "Scraping images for class \"oyster cracker\"\n",
      "Scraping images for class \"denim\"\n",
      "Scraping images for class \"gyro\"\n",
      "Scraping images for class \"ski mask\"\n",
      "Scraping images for class \"California sea lion\"\n",
      "Scraping images for class \"overskirt\"\n",
      "Scraping images for class \"face guard\"\n",
      "Scraping images for class \"tuna\"\n",
      "Scraping images for class \"penlight\"\n",
      "Scraping images for class \"usherette\"\n",
      "Scraping images for class \"toadfish\"\n",
      "Scraping images for class \"deer mouse\"\n",
      "Scraping images for class \"cat box\"\n",
      "Scraping images for class \"cracker\"\n",
      "Scraping images for class \"volleyball net\"\n",
      "Scraping images for class \"kitty\"\n",
      "Scraping images for class \"stylus\"\n",
      "Scraping images for class \"benthos\"\n",
      "Scraping images for class \"ion engine\"\n",
      "Scraping images for class \"reed bunting\"\n",
      "Scraping images for class \"alpaca\"\n",
      "Scraping images for class \"inky cap\"\n",
      "Scraping images for class \"potpie\"\n",
      "Scraping images for class \"lazybones\"\n",
      "Scraping images for class \"viaduct\"\n",
      "Scraping images for class \"red-eyed vireo\"\n",
      "Scraping images for class \"kid glove\"\n",
      "Scraping images for class \"Pholiota squarrosoides\"\n",
      "Scraping images for class \"coreid bug\"\n",
      "Scraping images for class \"machete\"\n",
      "Scraping images for class \"gnat\"\n",
      "Scraping images for class \"beer glass\"\n",
      "Scraping images for class \"carbonara\"\n",
      "Scraping images for class \"skid lid\"\n",
      "Scraping images for class \"oxygen mask\"\n",
      "Scraping images for class \"aoudad\"\n",
      "Scraping images for class \"prancer\"\n",
      "Scraping images for class \"aerator\"\n",
      "Scraping images for class \"Lithuanian\"\n",
      "Scraping images for class \"berry\"\n",
      "Scraping images for class \"triode\"\n",
      "Scraping images for class \"peach ice cream\"\n",
      "Scraping images for class \"red osier\"\n",
      "Scraping images for class \"pine snake\"\n",
      "Scraping images for class \"furnishing\"\n",
      "Scraping images for class \"Indian hemp\"\n",
      "Scraping images for class \"garden tool\"\n",
      "Scraping images for class \"kirtle\"\n",
      "Scraping images for class \"Verpa\"\n",
      "Scraping images for class \"Morchella semilibera\"\n",
      "Scraping images for class \"hound's-tongue\"\n",
      "Scraping images for class \"place of business\"\n",
      "Scraping images for class \"Liberian\"\n",
      "Scraping images for class \"elbow\"\n",
      "Scraping images for class \"buffalo grass\"\n",
      "Scraping images for class \"stemma\"\n",
      "Scraping images for class \"whip-scorpion\"\n",
      "Scraping images for class \"viceroy\"\n",
      "Scraping images for class \"neckline\"\n",
      "Scraping images for class \"wagon\"\n",
      "Scraping images for class \"jig\"\n",
      "Scraping images for class \"fedora\"\n",
      "Scraping images for class \"sounding rocket\"\n",
      "Scraping images for class \"legionnaire\"\n",
      "Scraping images for class \"peeper\"\n",
      "Scraping images for class \"smelt\"\n",
      "Scraping images for class \"mojarra\"\n",
      "Scraping images for class \"single-rotor helicopter\"\n",
      "Scraping images for class \"roundhouse\"\n",
      "Scraping images for class \"fastener\"\n",
      "Scraping images for class \"California quail\"\n",
      "Scraping images for class \"white goods\"\n",
      "Scraping images for class \"junction\"\n",
      "Scraping images for class \"honey crisp\"\n",
      "Scraping images for class \"flan\"\n",
      "Scraping images for class \"Druid\"\n",
      "Scraping images for class \"epacris\"\n",
      "Scraping images for class \"baton twirler\"\n",
      "Scraping images for class \"guided missile cruiser\"\n",
      "Scraping images for class \"costume\"\n",
      "Scraping images for class \"wild cherry\"\n",
      "Scraping images for class \"QWERTY keyboard\"\n",
      "Scraping images for class \"yellow mountain saxifrage\"\n",
      "Scraping images for class \"sister ship\"\n",
      "Scraping images for class \"clip\"\n",
      "Scraping images for class \"tread\"\n",
      "Scraping images for class \"parvis\"\n",
      "Scraping images for class \"mouse-ear chickweed\"\n",
      "Scraping images for class \"Mongol\"\n",
      "Scraping images for class \"cafe royale\"\n",
      "Scraping images for class \"control room\"\n",
      "Scraping images for class \"oven thermometer\"\n",
      "Scraping images for class \"pledger\"\n",
      "Scraping images for class \"hook\"\n",
      "Scraping images for class \"bailey\"\n",
      "Scraping images for class \"wine palm\"\n",
      "Scraping images for class \"mushroom\"\n",
      "Scraping images for class \"cinnabar chanterelle\"\n",
      "Scraping images for class \"leaf beetle\"\n",
      "Scraping images for class \"spadix\"\n",
      "Scraping images for class \"annual\"\n",
      "Scraping images for class \"popover\"\n",
      "Scraping images for class \"Caesar salad\"\n",
      "Scraping images for class \"garibaldi\"\n",
      "Scraping images for class \"jackass penguin\"\n",
      "Scraping images for class \"nameko\"\n",
      "Scraping images for class \"mantispid\"\n",
      "Scraping images for class \"rearview mirror\"\n",
      "Scraping images for class \"giant red paintbrush\"\n",
      "Scraping images for class \"solar cell\"\n",
      "Scraping images for class \"sachet\"\n",
      "Scraping images for class \"simnel\"\n",
      "Scraping images for class \"gas oven\"\n",
      "Scraping images for class \"electric fan\"\n",
      "Scraping images for class \"heathen\"\n",
      "Scraping images for class \"leukocyte\"\n",
      "Scraping images for class \"puku\"\n",
      "Scraping images for class \"locust\"\n",
      "Scraping images for class \"PT boat\"\n",
      "Scraping images for class \"inga\"\n",
      "Scraping images for class \"bull snake\"\n",
      "Scraping images for class \"arrow grass\"\n",
      "Scraping images for class \"sego lily\"\n",
      "Scraping images for class \"scaup\"\n",
      "Scraping images for class \"dung beetle\"\n",
      "Scraping images for class \"Primus stove\"\n",
      "Scraping images for class \"crotalaria\"\n",
      "Scraping images for class \"sharpener\"\n",
      "Scraping images for class \"pantile\"\n",
      "Scraping images for class \"ferrule\"\n",
      "Scraping images for class \"triggerfish\"\n",
      "Scraping images for class \"New York fern\"\n",
      "Scraping images for class \"second cousin\"\n",
      "Scraping images for class \"loupe\"\n",
      "Scraping images for class \"betel\"\n",
      "Scraping images for class \"American badger\"\n",
      "Scraping images for class \"bog aster\"\n",
      "Scraping images for class \"hauberk\"\n",
      "Scraping images for class \"Yosemite toad\"\n",
      "Scraping images for class \"winter mushroom\"\n",
      "Scraping images for class \"bungee\"\n",
      "Scraping images for class \"khukuri\"\n",
      "Scraping images for class \"marsh orchid\"\n",
      "Scraping images for class \"souk\"\n",
      "Scraping images for class \"Hygrophorus marzuolus\"\n",
      "Scraping images for class \"poplar\"\n",
      "Scraping images for class \"Pilsner\"\n",
      "Scraping images for class \"disk controller\"\n",
      "Scraping images for class \"muzzle loader\"\n",
      "Scraping images for class \"Evangelist\"\n",
      "Scraping images for class \"grey\"\n",
      "Scraping images for class \"peach sauce\"\n",
      "Scraping images for class \"gravestone\"\n",
      "Scraping images for class \"printer\"\n",
      "Scraping images for class \"sailing master\"\n",
      "Scraping images for class \"figure loom\"\n",
      "Scraping images for class \"redhead\"\n",
      "Scraping images for class \"lime\"\n",
      "Scraping images for class \"viscose rayon\"\n",
      "Scraping images for class \"marine animal\"\n",
      "Scraping images for class \"videotape\"\n",
      "Scraping images for class \"cog\"\n",
      "Scraping images for class \"couch\"\n",
      "Scraping images for class \"thyme\"\n",
      "Scraping images for class \"Qatari\"\n",
      "Scraping images for class \"canine\"\n",
      "Scraping images for class \"graffito\"\n",
      "Scraping images for class \"zucchini\"\n",
      "Scraping images for class \"soutache\"\n",
      "Scraping images for class \"red rockfish\"\n",
      "Scraping images for class \"ottoman\"\n",
      "Scraping images for class \"spotted owl\"\n",
      "Scraping images for class \"towhead\"\n",
      "Scraping images for class \"St John's wort\"\n",
      "Scraping images for class \"slipper\"\n",
      "Scraping images for class \"module\"\n",
      "Scraping images for class \"hollandaise\"\n",
      "Scraping images for class \"Indian mallow\"\n",
      "Scraping images for class \"even-toed ungulate\"\n",
      "Scraping images for class \"goat\"\n",
      "Scraping images for class \"Southern dewberry\"\n",
      "Scraping images for class \"hydrofoil\"\n",
      "Scraping images for class \"turnstone\"\n",
      "Scraping images for class \"Arctic ground squirrel\"\n",
      "Scraping images for class \"cauliflower\"\n",
      "Scraping images for class \"Iceland poppy\"\n",
      "Scraping images for class \"arrow wood\"\n",
      "Scraping images for class \"cat thyme\"\n",
      "Scraping images for class \"common unicorn plant\"\n",
      "Scraping images for class \"cress\"\n",
      "Scraping images for class \"test-tube baby\"\n",
      "Scraping images for class \"spider orchid\"\n",
      "Scraping images for class \"archer\"\n",
      "Scraping images for class \"purple locoweed\"\n",
      "Scraping images for class \"European larch\"\n",
      "Scraping images for class \"reading lamp\"\n",
      "Scraping images for class \"common wasp\"\n",
      "Scraping images for class \"Old World vulture\"\n",
      "Scraping images for class \"flood\"\n",
      "Scraping images for class \"ground floor\"\n",
      "Scraping images for class \"American organ\"\n",
      "Scraping images for class \"river otter\"\n",
      "Scraping images for class \"coucal\"\n",
      "Scraping images for class \"safe house\"\n",
      "Scraping images for class \"pistil\"\n",
      "Scraping images for class \"dildo\"\n",
      "Scraping images for class \"Zulu\"\n",
      "Scraping images for class \"pigtail\"\n",
      "Scraping images for class \"white admiral\"\n",
      "Scraping images for class \"cheddar\"\n",
      "Scraping images for class \"halter\"\n",
      "Scraping images for class \"shoebill\"\n",
      "Scraping images for class \"true bug\"\n",
      "Scraping images for class \"nougat bar\"\n",
      "Scraping images for class \"wild senna\"\n",
      "Scraping images for class \"heat exchanger\"\n",
      "Scraping images for class \"barbecue\"\n",
      "Scraping images for class \"Secretary of Health and Human Services\"\n",
      "Scraping images for class \"Leydig cell\"\n",
      "Scraping images for class \"nightwear\"\n",
      "Scraping images for class \"bottle\"\n",
      "Scraping images for class \"swamp gum\"\n",
      "Scraping images for class \"gas bracket\"\n",
      "Scraping images for class \"wood pigeon\"\n",
      "Scraping images for class \"yolk\"\n",
      "Scraping images for class \"broodmare\"\n",
      "Scraping images for class \"washboard\"\n",
      "Scraping images for class \"dancer\"\n",
      "Scraping images for class \"Munich beer\"\n",
      "Scraping images for class \"marmot\"\n",
      "Scraping images for class \"muscat\"\n",
      "Scraping images for class \"serf\"\n",
      "Scraping images for class \"Persian lilac\"\n",
      "Scraping images for class \"field spaniel\"\n",
      "Scraping images for class \"fleawort\"\n",
      "Scraping images for class \"kraal\"\n",
      "Scraping images for class \"spaghetti sauce\"\n",
      "Scraping images for class \"coral root\"\n",
      "Scraping images for class \"arroz con pollo\"\n",
      "Scraping images for class \"grivet\"\n",
      "Scraping images for class \"pony\"\n",
      "Scraping images for class \"surfboat\"\n",
      "Scraping images for class \"slow loris\"\n",
      "Scraping images for class \"limiter\"\n",
      "Scraping images for class \"echidna\"\n",
      "Scraping images for class \"tear gas\"\n",
      "Scraping images for class \"pivot\"\n",
      "Scraping images for class \"nutgrass\"\n",
      "Scraping images for class \"candy thermometer\"\n",
      "Scraping images for class \"apple butter\"\n",
      "Scraping images for class \"widebody aircraft\"\n",
      "Scraping images for class \"coffee urn\"\n",
      "Scraping images for class \"date plum\"\n",
      "Scraping images for class \"requiem shark\"\n",
      "Scraping images for class \"abelia\"\n",
      "Scraping images for class \"embankment\"\n",
      "Scraping images for class \"ex-president\"\n",
      "Scraping images for class \"cymbal\"\n",
      "Scraping images for class \"Eurasian badger\"\n",
      "Scraping images for class \"skateboarder\"\n",
      "Scraping images for class \"whitewash\"\n",
      "Scraping images for class \"mongoose\"\n",
      "Scraping images for class \"track\"\n",
      "Scraping images for class \"pipe smoker\"\n",
      "Scraping images for class \"apadana\"\n",
      "Scraping images for class \"baton\"\n",
      "Scraping images for class \"flowering fern\"\n",
      "Scraping images for class \"planner\"\n",
      "Scraping images for class \"stilt\"\n",
      "Scraping images for class \"donna\"\n",
      "Scraping images for class \"bell heather\"\n",
      "Scraping images for class \"broadsword\"\n",
      "Scraping images for class \"ticket collector\"\n",
      "Scraping images for class \"American toad\"\n",
      "Scraping images for class \"catfish\"\n",
      "Scraping images for class \"Alpine fir\"\n",
      "Scraping images for class \"lady's maid\"\n",
      "Scraping images for class \"cattleya\"\n",
      "Scraping images for class \"felt-tip pen\"\n",
      "Scraping images for class \"snapdragon\"\n",
      "Scraping images for class \"suet pudding\"\n",
      "Scraping images for class \"tomahawk\"\n",
      "Scraping images for class \"screw bean\"\n",
      "Scraping images for class \"pup tent\"\n",
      "Scraping images for class \"frog orchid\"\n",
      "Scraping images for class \"balloon flower\"\n",
      "Scraping images for class \"myxobacteria\"\n",
      "Scraping images for class \"convener\"\n",
      "Scraping images for class \"grosbeak\"\n",
      "Scraping images for class \"gun emplacement\"\n",
      "Scraping images for class \"cephalopod\"\n",
      "Scraping images for class \"palm cat\"\n",
      "Scraping images for class \"buckthorn berry\"\n",
      "Scraping images for class \"milking stool\"\n",
      "Scraping images for class \"fanaloka\"\n",
      "Scraping images for class \"sugar snap pea\"\n",
      "Scraping images for class \"florist's chrysanthemum\"\n",
      "Scraping images for class \"lionfish\"\n",
      "Scraping images for class \"western white pine\"\n",
      "Scraping images for class \"umbrella tree\"\n",
      "Scraping images for class \"line of heart\"\n",
      "Scraping images for class \"Shih-Tzu\"\n",
      "Scraping images for class \"glutton\"\n",
      "Scraping images for class \"split end\"\n",
      "Scraping images for class \"television equipment\"\n",
      "Scraping images for class \"aeschynanthus\"\n",
      "Scraping images for class \"clotted cream\"\n",
      "Scraping images for class \"bindweed\"\n",
      "Scraping images for class \"autostrada\"\n",
      "Scraping images for class \"ostrich fern\"\n",
      "Scraping images for class \"gym suit\"\n",
      "Scraping images for class \"stalking-horse\"\n",
      "Scraping images for class \"flying buttress\"\n",
      "Scraping images for class \"field mouse\"\n",
      "Scraping images for class \"manul\"\n",
      "Scraping images for class \"multivitamin\"\n",
      "Scraping images for class \"oil paint\"\n",
      "Scraping images for class \"bluebottle\"\n",
      "Scraping images for class \"bay\"\n",
      "Scraping images for class \"reconnaissance vehicle\"\n",
      "Scraping images for class \"corn poppy\"\n",
      "Scraping images for class \"butternut\"\n",
      "Scraping images for class \"bulldozer\"\n",
      "Scraping images for class \"alpine clover\"\n",
      "Scraping images for class \"revetment\"\n",
      "Scraping images for class \"batting glove\"\n",
      "Scraping images for class \"cabin cruiser\"\n",
      "Scraping images for class \"oast house\"\n",
      "Scraping images for class \"western hemlock\"\n",
      "Scraping images for class \"fuel system\"\n",
      "Scraping images for class \"puff batter\"\n",
      "Scraping images for class \"ventilator\"\n",
      "Scraping images for class \"tom\"\n",
      "Scraping images for class \"cherrystone\"\n",
      "Scraping images for class \"Surinam cherry\"\n",
      "Scraping images for class \"creme de menthe\"\n",
      "Scraping images for class \"strawberry\"\n",
      "Scraping images for class \"clary sage\"\n",
      "Scraping images for class \"southern white cedar\"\n",
      "Scraping images for class \"varied Lorikeet\"\n",
      "Scraping images for class \"common raccoon\"\n",
      "Scraping images for class \"male horse\"\n",
      "Scraping images for class \"darning needle\"\n",
      "Scraping images for class \"meat grinder\"\n",
      "Scraping images for class \"mistflower\"\n",
      "Scraping images for class \"foreshore\"\n",
      "Scraping images for class \"embellishment\"\n",
      "Scraping images for class \"air compressor\"\n",
      "Scraping images for class \"nut bar\"\n",
      "Scraping images for class \"brim\"\n",
      "Scraping images for class \"tetrahedron\"\n",
      "Scraping images for class \"fireplace\"\n",
      "Scraping images for class \"dormitory\"\n",
      "Scraping images for class \"sand dollar\"\n",
      "Scraping images for class \"redpoll\"\n",
      "Scraping images for class \"fruit drink\"\n",
      "Scraping images for class \"van\"\n",
      "Scraping images for class \"angler\"\n",
      "Scraping images for class \"broom grass\"\n",
      "Scraping images for class \"crown lens\"\n",
      "Scraping images for class \"rock\"\n",
      "Scraping images for class \"universal joint\"\n",
      "Scraping images for class \"verdigris\"\n",
      "Scraping images for class \"map\"\n",
      "Scraping images for class \"scilla\"\n",
      "Scraping images for class \"areaway\"\n",
      "Scraping images for class \"showy daisy\"\n",
      "Scraping images for class \"cob\"\n",
      "Scraping images for class \"quaking aspen\"\n",
      "Scraping images for class \"fern ally\"\n",
      "Scraping images for class \"grey fox\"\n",
      "Scraping images for class \"candied fruit\"\n",
      "Scraping images for class \"scoutmaster\"\n",
      "Scraping images for class \"grugru\"\n",
      "Scraping images for class \"Wilson's warbler\"\n",
      "Scraping images for class \"California black walnut\"\n",
      "Scraping images for class \"athletic sock\"\n",
      "Scraping images for class \"sand\"\n",
      "Scraping images for class \"king vulture\"\n",
      "Scraping images for class \"clematis\"\n",
      "Scraping images for class \"dam\"\n",
      "Scraping images for class \"flying boat\"\n",
      "Scraping images for class \"wand\"\n",
      "Scraping images for class \"host\"\n",
      "Scraping images for class \"doubles\"\n",
      "Scraping images for class \"gown\"\n",
      "Scraping images for class \"football\"\n",
      "Scraping images for class \"Mycenaen\"\n",
      "Scraping images for class \"choir loft\"\n",
      "Scraping images for class \"theropod\"\n",
      "Scraping images for class \"table\"\n",
      "Scraping images for class \"Tokay\"\n",
      "Scraping images for class \"involucre\"\n",
      "Scraping images for class \"bird's-nest fungus\"\n",
      "Scraping images for class \"orange peel\"\n",
      "Scraping images for class \"pickup\"\n",
      "Scraping images for class \"bigos\"\n",
      "Scraping images for class \"machine\"\n",
      "Scraping images for class \"Verdicchio\"\n",
      "Scraping images for class \"Spam\"\n",
      "Scraping images for class \"odd-toed ungulate\"\n",
      "Scraping images for class \"soup ladle\"\n",
      "Scraping images for class \"lignum\"\n",
      "Scraping images for class \"baron\"\n",
      "Scraping images for class \"julep\"\n",
      "Scraping images for class \"cultivar\"\n",
      "Scraping images for class \"Siberian wall flower\"\n",
      "Scraping images for class \"downy yellow violet\"\n",
      "Scraping images for class \"ground cedar\"\n",
      "Scraping images for class \"ptarmigan\"\n",
      "Scraping images for class \"spiderwort\"\n",
      "Scraping images for class \"florist\"\n",
      "Scraping images for class \"net melon\"\n",
      "Scraping images for class \"circuit board\"\n",
      "Scraping images for class \"hypermarket\"\n",
      "Scraping images for class \"cub\"\n",
      "Scraping images for class \"popper\"\n",
      "Scraping images for class \"bellbird\"\n",
      "Scraping images for class \"European bittern\"\n",
      "Scraping images for class \"gondola\"\n",
      "Scraping images for class \"ocarina\"\n",
      "Scraping images for class \"capstan\"\n",
      "Scraping images for class \"fungus\"\n",
      "Scraping images for class \"fire-eater\"\n",
      "Scraping images for class \"safety razor\"\n",
      "Scraping images for class \"pilot engine\"\n",
      "Scraping images for class \"Maltese dog\"\n",
      "Scraping images for class \"scarlet bugler\"\n",
      "Scraping images for class \"verdin\"\n",
      "Scraping images for class \"scooter\"\n",
      "Scraping images for class \"pusher\"\n",
      "Scraping images for class \"Hungarian partridge\"\n",
      "Scraping images for class \"aircraft engine\"\n",
      "Scraping images for class \"fishing gear\"\n",
      "Scraping images for class \"wisent\"\n",
      "Scraping images for class \"mandola\"\n",
      "Scraping images for class \"rice weevil\"\n",
      "Scraping images for class \"field lens\"\n",
      "Scraping images for class \"greeter\"\n",
      "Scraping images for class \"Tyrian purple\"\n",
      "Scraping images for class \"base\"\n",
      "Scraping images for class \"dog fennel\"\n",
      "Scraping images for class \"short-spurred fragrant orchid\"\n",
      "Scraping images for class \"cockchafer\"\n",
      "Scraping images for class \"leatherjacket\"\n",
      "Scraping images for class \"buttercup squash\"\n",
      "Scraping images for class \"green tea\"\n",
      "Scraping images for class \"tiler\"\n",
      "Scraping images for class \"Rollerblade\"\n",
      "Scraping images for class \"puck\"\n",
      "Scraping images for class \"brioche\"\n",
      "Scraping images for class \"custard\"\n",
      "Scraping images for class \"paddle\"\n",
      "Scraping images for class \"tadpole shrimp\"\n",
      "Scraping images for class \"Black\"\n",
      "Scraping images for class \"cricket bat\"\n",
      "Scraping images for class \"wild pink\"\n",
      "Scraping images for class \"Chilean firebush\"\n",
      "Scraping images for class \"broccoli\"\n",
      "Scraping images for class \"hobby\"\n",
      "Scraping images for class \"pedestrian crossing\"\n",
      "Scraping images for class \"large poodle\"\n",
      "Scraping images for class \"synchronous motor\"\n",
      "Scraping images for class \"lychnis\"\n",
      "Scraping images for class \"vedalia\"\n",
      "Scraping images for class \"cold cathode\"\n",
      "Scraping images for class \"deer grass\"\n",
      "Scraping images for class \"honeysuckle\"\n",
      "Scraping images for class \"saltworks\"\n",
      "Scraping images for class \"jackrabbit\"\n",
      "Scraping images for class \"silver ash\"\n",
      "Scraping images for class \"hydrozoan\"\n",
      "Scraping images for class \"cherimoya\"\n",
      "Scraping images for class \"dining room\"\n",
      "Scraping images for class \"harness\"\n",
      "Scraping images for class \"day game\"\n",
      "Scraping images for class \"swamp sunflower\"\n",
      "Scraping images for class \"sweet fern\"\n",
      "Scraping images for class \"river red gum\"\n",
      "Scraping images for class \"willow\"\n",
      "Scraping images for class \"steam bath\"\n",
      "Scraping images for class \"green peafowl\"\n",
      "Scraping images for class \"telephone system\"\n",
      "Scraping images for class \"chokecherry\"\n",
      "Scraping images for class \"antelope\"\n",
      "Scraping images for class \"potentiometer\"\n",
      "Scraping images for class \"clutch\"\n",
      "Scraping images for class \"night-blooming cereus\"\n",
      "Scraping images for class \"convalescent\"\n",
      "Scraping images for class \"grape fern\"\n",
      "Scraping images for class \"egocentric\"\n",
      "Scraping images for class \"bean dip\"\n",
      "Scraping images for class \"sea mouse\"\n",
      "Scraping images for class \"grill\"\n",
      "Scraping images for class \"congee\"\n",
      "Scraping images for class \"moray\"\n",
      "Scraping images for class \"Pacific halibut\"\n",
      "Scraping images for class \"Japanese lilac\"\n",
      "Scraping images for class \"bridle\"\n",
      "Scraping images for class \"organ\"\n",
      "Scraping images for class \"prize winner\"\n",
      "Scraping images for class \"safe\"\n",
      "Scraping images for class \"mast\"\n",
      "Scraping images for class \"straitjacket\"\n",
      "Scraping images for class \"ganglion cell\"\n",
      "Scraping images for class \"lizard\"\n",
      "Scraping images for class \"okapi\"\n",
      "Scraping images for class \"intergalactic space\"\n",
      "Scraping images for class \"douglas fir\"\n",
      "Scraping images for class \"sperm whale\"\n",
      "Scraping images for class \"sloe gin\"\n",
      "Scraping images for class \"spring beauty\"\n",
      "Scraping images for class \"cyanobacteria\"\n",
      "Scraping images for class \"vodka martini\"\n",
      "Scraping images for class \"Atlantic bottlenose dolphin\"\n",
      "Scraping images for class \"investor\"\n",
      "Scraping images for class \"hop\"\n",
      "Scraping images for class \"Virginia waterleaf\"\n"
     ]
    },
    {
     "name": "stderr",
     "output_type": "stream",
     "text": [
      "\n"
     ]
    }
   ],
   "source": [
    "def get_image(img_url):\n",
    "\n",
    "    #print(f'Processing {img_url}')\n",
    "\n",
    "    #time.sleep(3)\n",
    "\n",
    "    if len(img_url) <= 1:\n",
    "        return\n",
    "\n",
    "\n",
    "    cls_imgs = 0\n",
    "    with lock:\n",
    "        cls_imgs = class_images.value\n",
    "\n",
    "    if cls_imgs >= images_per_class:\n",
    "        return\n",
    "\n",
    "    logging.debug(img_url)\n",
    "\n",
    "    cls = ''\n",
    "\n",
    "    if 'flickr' in img_url:\n",
    "        cls = 'is_flickr'\n",
    "    else:\n",
    "        cls = 'not_flickr'\n",
    "        if scrape_only_flickr:\n",
    "            return\n",
    "\n",
    "    t_start = time.time()\n",
    "\n",
    "    def finish(status):\n",
    "        t_spent = time.time() - t_start\n",
    "        multi_stats.inc(cls, 'time_spent', t_spent)\n",
    "        multi_stats.inc('all', 'time_spent', t_spent)\n",
    "\n",
    "        multi_stats.inc(cls,'tried', 1)\n",
    "        multi_stats.inc('all', 'tried', 1)\n",
    "\n",
    "        if status == 'success':\n",
    "            multi_stats.inc(cls,'success', 1)\n",
    "            multi_stats.inc('all', 'success', 1)\n",
    "\n",
    "        elif status == 'failure':\n",
    "            pass\n",
    "        else:\n",
    "            logging.error(f'No such status {status}!!')\n",
    "            exit()\n",
    "        return\n",
    "\n",
    "\n",
    "    with lock:\n",
    "        url_tries.value += 1\n",
    "        if url_tries.value % 250 == 0:\n",
    "            print(f'\\nScraping stats:')\n",
    "            print_stats('is_flickr', print)\n",
    "            print_stats('not_flickr', print)\n",
    "            print_stats('all', print)\n",
    "            if debug:\n",
    "                add_stats_to_debug_csv()\n",
    "\n",
    "    try:\n",
    "        img_resp = requests.get(img_url, timeout = 1)\n",
    "    except ConnectionError:\n",
    "        logging.debug(f\"Connection Error for url {img_url}\")\n",
    "        return finish('failure')\n",
    "    except ReadTimeout:\n",
    "        logging.debug(f\"Read Timeout for url {img_url}\")\n",
    "        return finish('failure')\n",
    "    except TooManyRedirects:\n",
    "        logging.debug(f\"Too many redirects {img_url}\")\n",
    "        return finish('failure')\n",
    "    except MissingSchema:\n",
    "        return finish('failure')\n",
    "    except InvalidURL:\n",
    "        return finish('failure')\n",
    "\n",
    "    if not 'content-type' in img_resp.headers:\n",
    "        return finish('failure')\n",
    "\n",
    "    if not 'image' in img_resp.headers['content-type']:\n",
    "        logging.debug(\"Not an image\")\n",
    "        return finish('failure')\n",
    "\n",
    "    if (len(img_resp.content) < 1000):\n",
    "        return finish('failure')\n",
    "\n",
    "    logging.debug(img_resp.headers['content-type'])\n",
    "    logging.debug(f'image size {len(img_resp.content)}')\n",
    "\n",
    "    img_name = img_url.split('/')[-1]\n",
    "    img_name = img_name.split(\"?\")[0]\n",
    "\n",
    "    if (len(img_name) <= 1):\n",
    "        return finish('failure')\n",
    "\n",
    "    img_file_path = os.path.join(class_folder, img_name)\n",
    "    logging.debug(f'Saving image in {img_file_path}')\n",
    "\n",
    "    with open(img_file_path, 'wb') as img_f:\n",
    "        img_f.write(img_resp.content)\n",
    "\n",
    "        with lock:\n",
    "            class_images.value += 1\n",
    "\n",
    "        logging.debug(f'Scraping stats')\n",
    "        print_stats('is_flickr', logging.debug)\n",
    "        print_stats('not_flickr', logging.debug)\n",
    "        print_stats('all', logging.debug)\n",
    "\n",
    "        return finish('success')\n",
    "\n",
    "from tqdm import tqdm\n",
    "    \n",
    "for class_wnid in tqdm(classes_to_scrape):\n",
    "\n",
    "    class_name = class_info_dict[class_wnid][\"class_name\"]\n",
    "    print(f'Scraping images for class \\\"{class_name}\\\"')\n",
    "    url_urls = IMAGENET_API_WNID_TO_URLS(class_wnid)\n",
    "    \n",
    "    class_folder = os.path.join(imagenet_images_folder, class_name)\n",
    "    if not os.path.exists(class_folder):\n",
    "        os.mkdir(class_folder)\n",
    "    else:\n",
    "         continue\n",
    "    \n",
    "    time.sleep(0.05)\n",
    "    try :\n",
    "        resp = requests.get(url_urls)\n",
    "    except ConnectionError:\n",
    "        continue\n",
    "    \n",
    "    \n",
    "    class_images.value = 0\n",
    "\n",
    "    urls = [url.decode('utf-8') for url in resp.content.splitlines()]\n",
    "\n",
    "    #for url in  urls:\n",
    "    #    get_image(url)\n",
    "\n",
    "    print(f\"Multiprocessing workers: {multiprocessing_workers}\")\n",
    "    with Pool(processes=multiprocessing_workers) as p:\n",
    "        p.map(get_image,urls)\n"
   ]
  },
  {
   "cell_type": "code",
   "execution_count": null,
   "metadata": {},
   "outputs": [],
   "source": []
  },
  {
   "cell_type": "code",
   "execution_count": null,
   "metadata": {},
   "outputs": [],
   "source": []
  }
 ],
 "metadata": {
  "kernelspec": {
   "display_name": "Python 3",
   "language": "python",
   "name": "python3"
  },
  "language_info": {
   "codemirror_mode": {
    "name": "ipython",
    "version": 3
   },
   "file_extension": ".py",
   "mimetype": "text/x-python",
   "name": "python",
   "nbconvert_exporter": "python",
   "pygments_lexer": "ipython3",
   "version": "3.7.1"
  }
 },
 "nbformat": 4,
 "nbformat_minor": 2
}
